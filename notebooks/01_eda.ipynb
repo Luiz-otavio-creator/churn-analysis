{
 "cells": [
  {
   "cell_type": "markdown",
   "id": "0653c56c",
   "metadata": {},
   "source": [
    "# 01 - Exploratory Data Analysis (EDA)\n",
    "\n",
    "This notebook explores the E-Commerce Churn dataset to understand its structure, quality, and main patterns. The insights gained here will guide the next steps in cleaning, feature engineering, and modeling.\n"
   ]
  },
  {
   "cell_type": "code",
   "execution_count": 2,
   "id": "38799d63",
   "metadata": {},
   "outputs": [],
   "source": [
    "import pandas as pd\n",
    "import numpy as np\n",
    "import matplotlib.pyplot as plt\n",
    "import seaborn as sns\n",
    "import plotly.express as px\n",
    "import plotly.io as pio\n",
    "import os\n",
    "from IPython.display import display, Markdown\n",
    "from pathlib import Path\n",
    "from sklearn.ensemble import IsolationForest\n",
    "import plotly.figure_factory as ff"
   ]
  },
  {
   "cell_type": "markdown",
   "id": "627e9e04",
   "metadata": {},
   "source": []
  },
  {
   "cell_type": "markdown",
   "id": "949e5b8f",
   "metadata": {},
   "source": [
    "## Carregando os Dados"
   ]
  },
  {
   "cell_type": "code",
   "execution_count": 3,
   "id": "9a005dfd",
   "metadata": {},
   "outputs": [
    {
     "name": "stdout",
     "output_type": "stream",
     "text": [
      "✅ Dataset loaded successfully! Shape: (5630, 20)\n"
     ]
    },
    {
     "data": {
      "text/html": [
       "<div>\n",
       "<style scoped>\n",
       "    .dataframe tbody tr th:only-of-type {\n",
       "        vertical-align: middle;\n",
       "    }\n",
       "\n",
       "    .dataframe tbody tr th {\n",
       "        vertical-align: top;\n",
       "    }\n",
       "\n",
       "    .dataframe thead th {\n",
       "        text-align: right;\n",
       "    }\n",
       "</style>\n",
       "<table border=\"1\" class=\"dataframe\">\n",
       "  <thead>\n",
       "    <tr style=\"text-align: right;\">\n",
       "      <th></th>\n",
       "      <th>CustomerID</th>\n",
       "      <th>Churn</th>\n",
       "      <th>Tenure</th>\n",
       "      <th>PreferredLoginDevice</th>\n",
       "      <th>CityTier</th>\n",
       "      <th>WarehouseToHome</th>\n",
       "      <th>PreferredPaymentMode</th>\n",
       "      <th>Gender</th>\n",
       "      <th>HourSpendOnApp</th>\n",
       "      <th>NumberOfDeviceRegistered</th>\n",
       "      <th>PreferedOrderCat</th>\n",
       "      <th>SatisfactionScore</th>\n",
       "      <th>MaritalStatus</th>\n",
       "      <th>NumberOfAddress</th>\n",
       "      <th>Complain</th>\n",
       "      <th>OrderAmountHikeFromlastYear</th>\n",
       "      <th>CouponUsed</th>\n",
       "      <th>OrderCount</th>\n",
       "      <th>DaySinceLastOrder</th>\n",
       "      <th>CashbackAmount</th>\n",
       "    </tr>\n",
       "  </thead>\n",
       "  <tbody>\n",
       "    <tr>\n",
       "      <th>0</th>\n",
       "      <td>50001</td>\n",
       "      <td>1</td>\n",
       "      <td>4.0</td>\n",
       "      <td>Mobile Phone</td>\n",
       "      <td>3</td>\n",
       "      <td>6.0</td>\n",
       "      <td>Debit Card</td>\n",
       "      <td>Female</td>\n",
       "      <td>3.0</td>\n",
       "      <td>3</td>\n",
       "      <td>Laptop &amp; Accessory</td>\n",
       "      <td>2</td>\n",
       "      <td>Single</td>\n",
       "      <td>9</td>\n",
       "      <td>1</td>\n",
       "      <td>11.0</td>\n",
       "      <td>1.0</td>\n",
       "      <td>1.0</td>\n",
       "      <td>5.0</td>\n",
       "      <td>159.93</td>\n",
       "    </tr>\n",
       "    <tr>\n",
       "      <th>1</th>\n",
       "      <td>50002</td>\n",
       "      <td>1</td>\n",
       "      <td>NaN</td>\n",
       "      <td>Phone</td>\n",
       "      <td>1</td>\n",
       "      <td>8.0</td>\n",
       "      <td>UPI</td>\n",
       "      <td>Male</td>\n",
       "      <td>3.0</td>\n",
       "      <td>4</td>\n",
       "      <td>Mobile</td>\n",
       "      <td>3</td>\n",
       "      <td>Single</td>\n",
       "      <td>7</td>\n",
       "      <td>1</td>\n",
       "      <td>15.0</td>\n",
       "      <td>0.0</td>\n",
       "      <td>1.0</td>\n",
       "      <td>0.0</td>\n",
       "      <td>120.90</td>\n",
       "    </tr>\n",
       "    <tr>\n",
       "      <th>2</th>\n",
       "      <td>50003</td>\n",
       "      <td>1</td>\n",
       "      <td>NaN</td>\n",
       "      <td>Phone</td>\n",
       "      <td>1</td>\n",
       "      <td>30.0</td>\n",
       "      <td>Debit Card</td>\n",
       "      <td>Male</td>\n",
       "      <td>2.0</td>\n",
       "      <td>4</td>\n",
       "      <td>Mobile</td>\n",
       "      <td>3</td>\n",
       "      <td>Single</td>\n",
       "      <td>6</td>\n",
       "      <td>1</td>\n",
       "      <td>14.0</td>\n",
       "      <td>0.0</td>\n",
       "      <td>1.0</td>\n",
       "      <td>3.0</td>\n",
       "      <td>120.28</td>\n",
       "    </tr>\n",
       "    <tr>\n",
       "      <th>3</th>\n",
       "      <td>50004</td>\n",
       "      <td>1</td>\n",
       "      <td>0.0</td>\n",
       "      <td>Phone</td>\n",
       "      <td>3</td>\n",
       "      <td>15.0</td>\n",
       "      <td>Debit Card</td>\n",
       "      <td>Male</td>\n",
       "      <td>2.0</td>\n",
       "      <td>4</td>\n",
       "      <td>Laptop &amp; Accessory</td>\n",
       "      <td>5</td>\n",
       "      <td>Single</td>\n",
       "      <td>8</td>\n",
       "      <td>0</td>\n",
       "      <td>23.0</td>\n",
       "      <td>0.0</td>\n",
       "      <td>1.0</td>\n",
       "      <td>3.0</td>\n",
       "      <td>134.07</td>\n",
       "    </tr>\n",
       "    <tr>\n",
       "      <th>4</th>\n",
       "      <td>50005</td>\n",
       "      <td>1</td>\n",
       "      <td>0.0</td>\n",
       "      <td>Phone</td>\n",
       "      <td>1</td>\n",
       "      <td>12.0</td>\n",
       "      <td>CC</td>\n",
       "      <td>Male</td>\n",
       "      <td>NaN</td>\n",
       "      <td>3</td>\n",
       "      <td>Mobile</td>\n",
       "      <td>5</td>\n",
       "      <td>Single</td>\n",
       "      <td>3</td>\n",
       "      <td>0</td>\n",
       "      <td>11.0</td>\n",
       "      <td>1.0</td>\n",
       "      <td>1.0</td>\n",
       "      <td>3.0</td>\n",
       "      <td>129.60</td>\n",
       "    </tr>\n",
       "  </tbody>\n",
       "</table>\n",
       "</div>"
      ],
      "text/plain": [
       "   CustomerID  Churn  Tenure PreferredLoginDevice  CityTier  WarehouseToHome  \\\n",
       "0       50001      1     4.0         Mobile Phone         3              6.0   \n",
       "1       50002      1     NaN                Phone         1              8.0   \n",
       "2       50003      1     NaN                Phone         1             30.0   \n",
       "3       50004      1     0.0                Phone         3             15.0   \n",
       "4       50005      1     0.0                Phone         1             12.0   \n",
       "\n",
       "  PreferredPaymentMode  Gender  HourSpendOnApp  NumberOfDeviceRegistered  \\\n",
       "0           Debit Card  Female             3.0                         3   \n",
       "1                  UPI    Male             3.0                         4   \n",
       "2           Debit Card    Male             2.0                         4   \n",
       "3           Debit Card    Male             2.0                         4   \n",
       "4                   CC    Male             NaN                         3   \n",
       "\n",
       "     PreferedOrderCat  SatisfactionScore MaritalStatus  NumberOfAddress  \\\n",
       "0  Laptop & Accessory                  2        Single                9   \n",
       "1              Mobile                  3        Single                7   \n",
       "2              Mobile                  3        Single                6   \n",
       "3  Laptop & Accessory                  5        Single                8   \n",
       "4              Mobile                  5        Single                3   \n",
       "\n",
       "   Complain  OrderAmountHikeFromlastYear  CouponUsed  OrderCount  \\\n",
       "0         1                         11.0         1.0         1.0   \n",
       "1         1                         15.0         0.0         1.0   \n",
       "2         1                         14.0         0.0         1.0   \n",
       "3         0                         23.0         0.0         1.0   \n",
       "4         0                         11.0         1.0         1.0   \n",
       "\n",
       "   DaySinceLastOrder  CashbackAmount  \n",
       "0                5.0          159.93  \n",
       "1                0.0          120.90  \n",
       "2                3.0          120.28  \n",
       "3                3.0          134.07  \n",
       "4                3.0          129.60  "
      ]
     },
     "metadata": {},
     "output_type": "display_data"
    }
   ],
   "source": [
    "data_path = r\"C:\\Users\\luizo\\Projetos\\churn_analysis\\data\\raw\\E_Commerce_Dataset.xlsx\"\n",
    "df = pd.read_excel(data_path, sheet_name='E Comm')\n",
    "\n",
    "print(f\"✅ Dataset loaded successfully! Shape: {df.shape}\")\n",
    "display(df.head())"
   ]
  },
  {
   "cell_type": "markdown",
   "id": "9cd3b98a",
   "metadata": {},
   "source": [
    "## Initial Data Overview\n",
    "\n",
    "Let's start by examining the overall structure of our dataset. We'll check for duplicated rows, missing values, and review the data types of each column. This initial overview helps us understand the quality of the data and guides the next steps of our cleaning process."
   ]
  },
  {
   "cell_type": "code",
   "execution_count": 4,
   "id": "e2434fe6",
   "metadata": {},
   "outputs": [
    {
     "name": "stdout",
     "output_type": "stream",
     "text": [
      "Dataset Info:\n",
      "<class 'pandas.core.frame.DataFrame'>\n",
      "RangeIndex: 5630 entries, 0 to 5629\n",
      "Data columns (total 20 columns):\n",
      " #   Column                       Non-Null Count  Dtype  \n",
      "---  ------                       --------------  -----  \n",
      " 0   CustomerID                   5630 non-null   int64  \n",
      " 1   Churn                        5630 non-null   int64  \n",
      " 2   Tenure                       5366 non-null   float64\n",
      " 3   PreferredLoginDevice         5630 non-null   object \n",
      " 4   CityTier                     5630 non-null   int64  \n",
      " 5   WarehouseToHome              5379 non-null   float64\n",
      " 6   PreferredPaymentMode         5630 non-null   object \n",
      " 7   Gender                       5630 non-null   object \n",
      " 8   HourSpendOnApp               5375 non-null   float64\n",
      " 9   NumberOfDeviceRegistered     5630 non-null   int64  \n",
      " 10  PreferedOrderCat             5630 non-null   object \n",
      " 11  SatisfactionScore            5630 non-null   int64  \n",
      " 12  MaritalStatus                5630 non-null   object \n",
      " 13  NumberOfAddress              5630 non-null   int64  \n",
      " 14  Complain                     5630 non-null   int64  \n",
      " 15  OrderAmountHikeFromlastYear  5365 non-null   float64\n",
      " 16  CouponUsed                   5374 non-null   float64\n",
      " 17  OrderCount                   5372 non-null   float64\n",
      " 18  DaySinceLastOrder            5323 non-null   float64\n",
      " 19  CashbackAmount               5630 non-null   float64\n",
      "dtypes: float64(8), int64(7), object(5)\n",
      "memory usage: 879.8+ KB\n",
      "\n",
      "Duplicated rows: 0\n",
      "\n",
      "Missing Values per Column:\n",
      "DaySinceLastOrder              307\n",
      "OrderAmountHikeFromlastYear    265\n",
      "Tenure                         264\n",
      "OrderCount                     258\n",
      "CouponUsed                     256\n",
      "HourSpendOnApp                 255\n",
      "WarehouseToHome                251\n",
      "dtype: int64\n",
      "\n",
      "Data Types:\n",
      "float64    8\n",
      "int64      7\n",
      "object     5\n",
      "Name: count, dtype: int64\n",
      "\n",
      "Categorical Columns: ['PreferredLoginDevice', 'PreferredPaymentMode', 'Gender', 'PreferedOrderCat', 'MaritalStatus']\n"
     ]
    }
   ],
   "source": [
    "# 📋 Dataset Overview\n",
    "\n",
    "# Show general info\n",
    "print(\"Dataset Info:\")\n",
    "df.info()\n",
    "\n",
    "# Check for duplicated rows\n",
    "duplicates = df.duplicated().sum()\n",
    "print(f\"\\nDuplicated rows: {duplicates}\")\n",
    "\n",
    "# Check for missing values\n",
    "missing_values = df.isnull().sum()\n",
    "missing_values = missing_values[missing_values > 0].sort_values(ascending=False)\n",
    "print(\"\\nMissing Values per Column:\")\n",
    "print(missing_values)\n",
    "\n",
    "# Data types summary\n",
    "print(\"\\nData Types:\")\n",
    "print(df.dtypes.value_counts())\n",
    "\n",
    "# Detect categorical columns (object type)\n",
    "categorical_cols = df.select_dtypes(include='object').columns.tolist()\n",
    "print(\"\\nCategorical Columns:\", categorical_cols)"
   ]
  },
  {
   "cell_type": "markdown",
   "id": "3b4bdbcf",
   "metadata": {},
   "source": [
    "### Dataset Overview\n",
    "\n",
    "This project uses a dataset containing information about 5,630 e-commerce customers, where each row represents a unique user. The main goal is to predict customer churn (whether a customer leaves the platform), based on their activity and profile features.\n",
    "\n",
    "The dataset includes 20 columns, covering both numeric and categorical features. Here are some important notes from my initial inspection:\n",
    "\n",
    "- **Rows:** 5,630  \n",
    "- **Columns:** 20  \n",
    "- **Target variable:** `Churn` (binary: 1 = left, 0 = retained)  \n",
    "- **Missing values:** Some features (like `Tenure`, `WarehouseToHome`, and `DaySinceLastOrder`) have missing entries that need to be handled in the cleaning phase.\n",
    "- **Feature types:**  \n",
    "  - Numeric: e.g., `Tenure`, `WarehouseToHome`, `HourSpendOnApp`, etc.\n",
    "  - Categorical: e.g., `PreferredLoginDevice`, `Gender`, `MaritalStatus`, etc.\n",
    "  - Identifiers: `CustomerID` (unique for each user)\n",
    "\n",
    "This overview helps me plan my next steps, which will include missing value imputation, understanding feature distributions, and preparing the data for analysis and modeling."
   ]
  },
  {
   "cell_type": "markdown",
   "id": "65e9573b",
   "metadata": {},
   "source": [
    "## Checking for Duplicates and Missing Values"
   ]
  },
  {
   "cell_type": "code",
   "execution_count": 5,
   "id": "646c418a",
   "metadata": {},
   "outputs": [
    {
     "name": "stdout",
     "output_type": "stream",
     "text": [
      "Duplicated rows: 0\n",
      "Missing Values per Column:\n",
      "DaySinceLastOrder              307\n",
      "OrderAmountHikeFromlastYear    265\n",
      "Tenure                         264\n",
      "OrderCount                     258\n",
      "CouponUsed                     256\n",
      "HourSpendOnApp                 255\n",
      "WarehouseToHome                251\n",
      "dtype: int64\n",
      "Data Types in the dataset:\n",
      "float64    8\n",
      "int64      7\n",
      "object     5\n",
      "Name: count, dtype: int64\n",
      "Categorical Columns: ['PreferredLoginDevice', 'PreferredPaymentMode', 'Gender', 'PreferedOrderCat', 'MaritalStatus']\n"
     ]
    }
   ],
   "source": [
    "# Check for duplicated rows\n",
    "duplicates = df.duplicated().sum()\n",
    "print(f\"Duplicated rows: {duplicates}\")\n",
    "\n",
    "# Check for missing values\n",
    "missing_values = df.isnull().sum()\n",
    "missing_values = missing_values[missing_values > 0].sort_values(ascending=False)\n",
    "print(\"Missing Values per Column:\")\n",
    "print(missing_values)\n",
    "\n",
    "# Data types summary\n",
    "print(\"Data Types in the dataset:\")\n",
    "print(df.dtypes.value_counts())\n",
    "\n",
    "# Detect categorical columns (object type)\n",
    "categorical_cols = df.select_dtypes(include='object').columns.tolist()\n",
    "print(\"Categorical Columns:\", categorical_cols)"
   ]
  },
  {
   "cell_type": "markdown",
   "id": "af4b984b",
   "metadata": {},
   "source": [
    "#  Univariate Analysis\n",
    "\n",
    "In this section, I will explore each feature individually to better understand the data distribution, detect potential outliers, and identify data quality issues. Visualizations will be created using **Plotly** for a modern, interactive experience.\n",
    "\n",
    "The main steps will include:\n",
    "- Distribution of the target variable (`Churn`)\n",
    "- Distribution and summary statistics for all numeric features\n",
    "- Frequency and distribution of categorical variables\n",
    "\n",
    "This exploratory analysis will help me spot trends, patterns, and potential data problems before moving on to more advanced modeling steps."
   ]
  },
  {
   "cell_type": "code",
   "execution_count": 6,
   "id": "8bd22522",
   "metadata": {},
   "outputs": [
    {
     "name": "stdout",
     "output_type": "stream",
     "text": [
      "\n",
      "Feature: CustomerID\n",
      "Mean: 52815.50\n",
      "Median: 52815.50\n",
      "Std: 1625.39\n"
     ]
    },
    {
     "ename": "FileNotFoundError",
     "evalue": "[Errno 2] No such file or directory: '..\\\\plots\\\\numeric\\\\CustomerID_dist.html'",
     "output_type": "error",
     "traceback": [
      "\u001b[1;31m---------------------------------------------------------------------------\u001b[0m",
      "\u001b[1;31mFileNotFoundError\u001b[0m                         Traceback (most recent call last)",
      "Cell \u001b[1;32mIn[6], line 35\u001b[0m\n\u001b[0;32m     33\u001b[0m \u001b[38;5;66;03m# Plota numéricas\u001b[39;00m\n\u001b[0;32m     34\u001b[0m \u001b[38;5;28;01mfor\u001b[39;00m feature \u001b[38;5;129;01min\u001b[39;00m numeric_features:\n\u001b[1;32m---> 35\u001b[0m     \u001b[43mplot_numeric_feature\u001b[49m\u001b[43m(\u001b[49m\u001b[43mdf\u001b[49m\u001b[43m,\u001b[49m\u001b[43m \u001b[49m\u001b[43mfeature\u001b[49m\u001b[43m,\u001b[49m\u001b[43m \u001b[49m\u001b[43mtarget\u001b[49m\u001b[38;5;241;43m=\u001b[39;49m\u001b[38;5;124;43m'\u001b[39;49m\u001b[38;5;124;43mChurn\u001b[39;49m\u001b[38;5;124;43m'\u001b[39;49m\u001b[43m,\u001b[49m\u001b[43m \u001b[49m\u001b[43msave_dir\u001b[49m\u001b[38;5;241;43m=\u001b[39;49m\u001b[38;5;124;43m'\u001b[39;49m\u001b[38;5;124;43m../plots/numeric\u001b[39;49m\u001b[38;5;124;43m'\u001b[39;49m\u001b[43m)\u001b[49m\n\u001b[0;32m     37\u001b[0m \u001b[38;5;66;03m# Plota categóricas\u001b[39;00m\n\u001b[0;32m     38\u001b[0m \u001b[38;5;28;01mfor\u001b[39;00m feature \u001b[38;5;129;01min\u001b[39;00m categorical_features:\n",
      "Cell \u001b[1;32mIn[6], line 13\u001b[0m, in \u001b[0;36mplot_numeric_feature\u001b[1;34m(df, feature, target, bins, save_dir)\u001b[0m\n\u001b[0;32m     11\u001b[0m fig\u001b[38;5;241m.\u001b[39mupdate_layout(template\u001b[38;5;241m=\u001b[39m\u001b[38;5;124m'\u001b[39m\u001b[38;5;124mplotly_white\u001b[39m\u001b[38;5;124m'\u001b[39m)\n\u001b[0;32m     12\u001b[0m \u001b[38;5;66;03m# Salva como HTML (não depende do notebook)\u001b[39;00m\n\u001b[1;32m---> 13\u001b[0m \u001b[43mfig\u001b[49m\u001b[38;5;241;43m.\u001b[39;49m\u001b[43mwrite_html\u001b[49m\u001b[43m(\u001b[49m\u001b[38;5;124;43mf\u001b[39;49m\u001b[38;5;124;43m\"\u001b[39;49m\u001b[38;5;132;43;01m{\u001b[39;49;00m\u001b[43msave_dir\u001b[49m\u001b[38;5;132;43;01m}\u001b[39;49;00m\u001b[38;5;124;43m/\u001b[39;49m\u001b[38;5;132;43;01m{\u001b[39;49;00m\u001b[43mfeature\u001b[49m\u001b[38;5;132;43;01m}\u001b[39;49;00m\u001b[38;5;124;43m_dist.html\u001b[39;49m\u001b[38;5;124;43m\"\u001b[39;49m\u001b[43m)\u001b[49m\n",
      "File \u001b[1;32mc:\\Users\\luizo\\anaconda3\\envs\\churn_env\\lib\\site-packages\\plotly\\basedatatypes.py:3706\u001b[0m, in \u001b[0;36mBaseFigure.write_html\u001b[1;34m(self, *args, **kwargs)\u001b[0m\n\u001b[0;32m   3603\u001b[0m \u001b[38;5;250m\u001b[39m\u001b[38;5;124;03m\"\"\"\u001b[39;00m\n\u001b[0;32m   3604\u001b[0m \u001b[38;5;124;03mWrite a figure to an HTML file representation\u001b[39;00m\n\u001b[0;32m   3605\u001b[0m \n\u001b[1;32m   (...)\u001b[0m\n\u001b[0;32m   3702\u001b[0m \u001b[38;5;124;03mNone\u001b[39;00m\n\u001b[0;32m   3703\u001b[0m \u001b[38;5;124;03m\"\"\"\u001b[39;00m\n\u001b[0;32m   3704\u001b[0m \u001b[38;5;28;01mimport\u001b[39;00m\u001b[38;5;250m \u001b[39m\u001b[38;5;21;01mplotly\u001b[39;00m\u001b[38;5;21;01m.\u001b[39;00m\u001b[38;5;21;01mio\u001b[39;00m\u001b[38;5;250m \u001b[39m\u001b[38;5;28;01mas\u001b[39;00m\u001b[38;5;250m \u001b[39m\u001b[38;5;21;01mpio\u001b[39;00m\n\u001b[1;32m-> 3706\u001b[0m \u001b[38;5;28;01mreturn\u001b[39;00m pio\u001b[38;5;241m.\u001b[39mwrite_html(\u001b[38;5;28mself\u001b[39m, \u001b[38;5;241m*\u001b[39margs, \u001b[38;5;241m*\u001b[39m\u001b[38;5;241m*\u001b[39mkwargs)\n",
      "File \u001b[1;32mc:\\Users\\luizo\\anaconda3\\envs\\churn_env\\lib\\site-packages\\plotly\\io\\_html.py:509\u001b[0m, in \u001b[0;36mwrite_html\u001b[1;34m(fig, file, config, auto_play, include_plotlyjs, include_mathjax, post_script, full_html, animation_opts, validate, default_width, default_height, auto_open, div_id)\u001b[0m\n\u001b[0;32m    506\u001b[0m \u001b[38;5;66;03m# Write HTML string\u001b[39;00m\n\u001b[0;32m    507\u001b[0m \u001b[38;5;28;01mif\u001b[39;00m path \u001b[38;5;129;01mis\u001b[39;00m \u001b[38;5;129;01mnot\u001b[39;00m \u001b[38;5;28;01mNone\u001b[39;00m:\n\u001b[0;32m    508\u001b[0m     \u001b[38;5;66;03m# To use a different file encoding, pass a file descriptor\u001b[39;00m\n\u001b[1;32m--> 509\u001b[0m     \u001b[43mpath\u001b[49m\u001b[38;5;241;43m.\u001b[39;49m\u001b[43mwrite_text\u001b[49m\u001b[43m(\u001b[49m\u001b[43mhtml_str\u001b[49m\u001b[43m,\u001b[49m\u001b[43m \u001b[49m\u001b[38;5;124;43m\"\u001b[39;49m\u001b[38;5;124;43mutf-8\u001b[39;49m\u001b[38;5;124;43m\"\u001b[39;49m\u001b[43m)\u001b[49m\n\u001b[0;32m    510\u001b[0m \u001b[38;5;28;01melse\u001b[39;00m:\n\u001b[0;32m    511\u001b[0m     file\u001b[38;5;241m.\u001b[39mwrite(html_str)\n",
      "File \u001b[1;32mc:\\Users\\luizo\\anaconda3\\envs\\churn_env\\lib\\pathlib.py:1154\u001b[0m, in \u001b[0;36mPath.write_text\u001b[1;34m(self, data, encoding, errors, newline)\u001b[0m\n\u001b[0;32m   1151\u001b[0m     \u001b[38;5;28;01mraise\u001b[39;00m \u001b[38;5;167;01mTypeError\u001b[39;00m(\u001b[38;5;124m'\u001b[39m\u001b[38;5;124mdata must be str, not \u001b[39m\u001b[38;5;132;01m%s\u001b[39;00m\u001b[38;5;124m'\u001b[39m \u001b[38;5;241m%\u001b[39m\n\u001b[0;32m   1152\u001b[0m                     data\u001b[38;5;241m.\u001b[39m\u001b[38;5;18m__class__\u001b[39m\u001b[38;5;241m.\u001b[39m\u001b[38;5;18m__name__\u001b[39m)\n\u001b[0;32m   1153\u001b[0m encoding \u001b[38;5;241m=\u001b[39m io\u001b[38;5;241m.\u001b[39mtext_encoding(encoding)\n\u001b[1;32m-> 1154\u001b[0m \u001b[38;5;28;01mwith\u001b[39;00m \u001b[38;5;28;43mself\u001b[39;49m\u001b[38;5;241;43m.\u001b[39;49m\u001b[43mopen\u001b[49m\u001b[43m(\u001b[49m\u001b[43mmode\u001b[49m\u001b[38;5;241;43m=\u001b[39;49m\u001b[38;5;124;43m'\u001b[39;49m\u001b[38;5;124;43mw\u001b[39;49m\u001b[38;5;124;43m'\u001b[39;49m\u001b[43m,\u001b[49m\u001b[43m \u001b[49m\u001b[43mencoding\u001b[49m\u001b[38;5;241;43m=\u001b[39;49m\u001b[43mencoding\u001b[49m\u001b[43m,\u001b[49m\u001b[43m \u001b[49m\u001b[43merrors\u001b[49m\u001b[38;5;241;43m=\u001b[39;49m\u001b[43merrors\u001b[49m\u001b[43m,\u001b[49m\u001b[43m \u001b[49m\u001b[43mnewline\u001b[49m\u001b[38;5;241;43m=\u001b[39;49m\u001b[43mnewline\u001b[49m\u001b[43m)\u001b[49m \u001b[38;5;28;01mas\u001b[39;00m f:\n\u001b[0;32m   1155\u001b[0m     \u001b[38;5;28;01mreturn\u001b[39;00m f\u001b[38;5;241m.\u001b[39mwrite(data)\n",
      "File \u001b[1;32mc:\\Users\\luizo\\anaconda3\\envs\\churn_env\\lib\\pathlib.py:1119\u001b[0m, in \u001b[0;36mPath.open\u001b[1;34m(self, mode, buffering, encoding, errors, newline)\u001b[0m\n\u001b[0;32m   1117\u001b[0m \u001b[38;5;28;01mif\u001b[39;00m \u001b[38;5;124m\"\u001b[39m\u001b[38;5;124mb\u001b[39m\u001b[38;5;124m\"\u001b[39m \u001b[38;5;129;01mnot\u001b[39;00m \u001b[38;5;129;01min\u001b[39;00m mode:\n\u001b[0;32m   1118\u001b[0m     encoding \u001b[38;5;241m=\u001b[39m io\u001b[38;5;241m.\u001b[39mtext_encoding(encoding)\n\u001b[1;32m-> 1119\u001b[0m \u001b[38;5;28;01mreturn\u001b[39;00m \u001b[38;5;28;43mself\u001b[39;49m\u001b[38;5;241;43m.\u001b[39;49m\u001b[43m_accessor\u001b[49m\u001b[38;5;241;43m.\u001b[39;49m\u001b[43mopen\u001b[49m\u001b[43m(\u001b[49m\u001b[38;5;28;43mself\u001b[39;49m\u001b[43m,\u001b[49m\u001b[43m \u001b[49m\u001b[43mmode\u001b[49m\u001b[43m,\u001b[49m\u001b[43m \u001b[49m\u001b[43mbuffering\u001b[49m\u001b[43m,\u001b[49m\u001b[43m \u001b[49m\u001b[43mencoding\u001b[49m\u001b[43m,\u001b[49m\u001b[43m \u001b[49m\u001b[43merrors\u001b[49m\u001b[43m,\u001b[49m\n\u001b[0;32m   1120\u001b[0m \u001b[43m                           \u001b[49m\u001b[43mnewline\u001b[49m\u001b[43m)\u001b[49m\n",
      "\u001b[1;31mFileNotFoundError\u001b[0m: [Errno 2] No such file or directory: '..\\\\plots\\\\numeric\\\\CustomerID_dist.html'"
     ]
    }
   ],
   "source": [
    "# Função para visualizar variáveis numéricas\n",
    "def plot_numeric_feature(df, feature, target='Churn', bins=30, save_dir='../plots/numeric'):\n",
    "    desc = df[feature].describe()\n",
    "    print(f\"\\nFeature: {feature}\\nMean: {desc['mean']:.2f}\\nMedian: {desc['50%']:.2f}\\nStd: {desc['std']:.2f}\")\n",
    "    fig = px.histogram(\n",
    "        df, x=feature, color=target,\n",
    "        marginal=\"box\", nbins=bins,\n",
    "        barmode=\"overlay\",\n",
    "        title=f\"Distribution of {feature} by {target}\"\n",
    "    )\n",
    "    fig.update_layout(template='plotly_white')\n",
    "    # Salva como HTML (não depende do notebook)\n",
    "    fig.write_html(f\"{save_dir}/{feature}_dist.html\")\n",
    "\n",
    "# Função para visualizar variáveis categóricas\n",
    "def plot_categorical_feature(df, feature, target='Churn', max_classes=10, save_dir='../plots/categorical'):\n",
    "    top_cats = df[feature].value_counts().nlargest(max_classes).index\n",
    "    filtered = df[df[feature].isin(top_cats)].copy()\n",
    "    counts = filtered[feature].value_counts()\n",
    "    print(f\"\\nFeature: {feature}\\nTop {max_classes} categories: {list(counts.index)}\")\n",
    "    fig = px.histogram(\n",
    "        filtered, x=feature, color=target, barmode=\"group\",\n",
    "        title=f\"{feature} (Top {max_classes}) by {target}\",\n",
    "        category_orders={feature: list(counts.index)}\n",
    "    )\n",
    "    fig.update_layout(template='plotly_white')\n",
    "    fig.write_html(f\"{save_dir}/{feature}_dist.html\")\n",
    "\n",
    "# Selecionando os features\n",
    "numeric_features = [col for col in df.select_dtypes(include=np.number).columns if col != 'Churn']\n",
    "categorical_features = [col for col in df.select_dtypes(include='object').columns if col != 'Churn']\n",
    "\n",
    "# Plota numéricas\n",
    "for feature in numeric_features:\n",
    "    plot_numeric_feature(df, feature, target='Churn', save_dir='../plots/numeric')\n",
    "\n",
    "# Plota categóricas\n",
    "for feature in categorical_features:\n",
    "    plot_categorical_feature(df, feature, target='Churn', max_classes=10, save_dir='../plots/categorical')\n"
   ]
  },
  {
   "cell_type": "markdown",
   "id": "5cd57f38",
   "metadata": {},
   "source": [
    "### Univariate Analysis: Insights & Interpretation\n",
    "\n",
    "After performing a univariate analysis on the main features in our dataset, several patterns and distributions become clear. Here are my main observations and initial interpretations:\n",
    "\n",
    "##### Numerical Features\n",
    "\n",
    "- CustomerID\n",
    "As expected, CustomerID is simply a unique identifier for each customer, and thus not informative for analysis. Its mean and median are identical, confirming it’s uniformly distributed.\n",
    "\n",
    "- Tenure\n",
    "The average tenure is approximately 10 months, with a median slightly below the mean. This slight skew suggests a larger number of newer customers, but still a fair number with longer tenures. This variable is likely to be important for churn analysis.\n",
    "\n",
    "- CityTier\n",
    "The mean CityTier is 1.65 (median 1), which indicates most customers come from Tier 1 cities, but there’s still significant representation from Tier 2 and 3. We might expect different behavior or churn rates based on city tier.\n",
    "\n",
    "- WarehouseToHome\n",
    "The average distance from warehouse to home is around 15.6 units, with a median of 14 and a relatively high standard deviation. This suggests a fairly wide spread, possibly impacting delivery experience and customer satisfaction.\n",
    "\n",
    "- HourSpendOnApp\n",
    "On average, users spend about 2.93 hours on the app, with a median of 3. The low standard deviation here means most users spend similar amounts of time, which might make this a reliable predictor.\n",
    "\n",
    "\n",
    "\n",
    "##### Categorical Features\n",
    "\n",
    "- PreferedOrderCat\n",
    "The top 10 categories are dominated by 'Laptop & Accessory', 'Mobile Phone', 'Fashion', 'Mobile', 'Grocery', and 'Others'. This indicates that electronics and fashion are the most popular order categories among customers. The heavy skew towards these categories suggests focusing on these for targeted retention efforts.\n",
    "\n",
    "- MaritalStatus\n",
    "The main categories are 'Married', 'Single', and 'Divorced', with married customers making up the majority. It's possible that marital status correlates with churn or spending behavior.\n",
    "\n",
    "##### General Comments\n",
    "- There is some skewness in tenure and distance-related variables, but nothing that would require immediate transformation.\n",
    "\n",
    "- Most categorical variables are dominated by a few categories, which is good for modeling (we avoid high cardinality problems).\n",
    "\n",
    "- These distributions give us a solid starting point for bivariate analysis, where I’ll investigate relationships with churn directly.\n",
    "\n",
    "Next Steps:\n",
    "Based on these insights, the plan is to proceed with bivariate analysis, looking for patterns between these features and churn. I’ll pay particular attention to tenure, order categories, and city tier, as these already show promising variance."
   ]
  },
  {
   "cell_type": "markdown",
   "id": "39f6222e",
   "metadata": {},
   "source": [
    "# Bivariate Analysis\n",
    "\n",
    "Now that we have a solid understanding of the individual distributions for each feature, the next step is to explore how these variables interact with each other. In this section, we'll analyze relationships between pairs of variables, especially focusing on:\n",
    "\n",
    "- How each feature relates to the target variable (`Churn`)\n",
    "- Correlation analysis between numerical variables\n",
    "- Categorical vs numerical relationships (e.g., boxplots/grouped bar charts)\n",
    "- Identification of patterns, trends, or potential predictive relationships\n",
    "\n",
    "This step is essential to guide the next phases of feature engineering and model selection."
   ]
  },
  {
   "cell_type": "code",
   "execution_count": 7,
   "id": "5409a577",
   "metadata": {},
   "outputs": [
    {
     "name": "stdout",
     "output_type": "stream",
     "text": [
      " Bivariate plots saved! Check my plots folder.\n"
     ]
    }
   ],
   "source": [
    "# Helper: Create folders if not exist\n",
    "def ensure_dir(path):\n",
    "    os.makedirs(path, exist_ok=True)\n",
    "\n",
    "# ====================\n",
    "# Function for numerical features vs. target\n",
    "def plot_bivariate_numeric(df, feature, target='Churn', save_dir=None):\n",
    "    \"\"\"\n",
    "    Plots boxplot and violin plot for a numerical feature vs. target.\n",
    "    Saves the plots as HTML files.\n",
    "    \"\"\"\n",
    "    if save_dir:\n",
    "        ensure_dir(save_dir)\n",
    "    # Boxplot\n",
    "    fig_box = px.box(df, x=target, y=feature, points=\"all\",\n",
    "                     color=target, title=f'{feature} vs {target} - Boxplot')\n",
    "    fig_box.update_layout(template='plotly_white')\n",
    "    if save_dir:\n",
    "        fig_box.write_html(f\"{save_dir}/{feature}_boxplot.html\")\n",
    "    # Violin Plot\n",
    "    fig_violin = px.violin(df, x=target, y=feature, box=True, points=\"all\",\n",
    "                           color=target, title=f'{feature} vs {target} - Violin Plot')\n",
    "    fig_violin.update_layout(template='plotly_white')\n",
    "    if save_dir:\n",
    "        fig_violin.write_html(f\"{save_dir}/{feature}_violin.html\")\n",
    "    # Comment out for non-notebook use\n",
    "    # fig_box.show()\n",
    "    # fig_violin.show()\n",
    "\n",
    "# ====================\n",
    "# Function for categorical features vs. target\n",
    "def plot_bivariate_categorical(df, feature, target='Churn', max_classes=10, save_dir=None):\n",
    "    \"\"\"\n",
    "    Plots a histogram for a categorical feature vs. target.\n",
    "    Saves the plot as an HTML file.\n",
    "    \"\"\"\n",
    "    if save_dir:\n",
    "        ensure_dir(save_dir)\n",
    "    top_cats = df[feature].value_counts().nlargest(max_classes).index\n",
    "    filtered = df[df[feature].isin(top_cats)].copy()\n",
    "    fig = px.histogram(filtered, x=feature, color=target, barmode='group',\n",
    "                       title=f\"{feature} vs {target}\", category_orders={feature: list(top_cats)})\n",
    "    fig.update_layout(template='plotly_white')\n",
    "    if save_dir:\n",
    "        fig.write_html(f\"{save_dir}/{feature}_bivariate.html\")\n",
    "    # fig.show()\n",
    "\n",
    "# ====================\n",
    "# Run analysis\n",
    "numeric_features = [col for col in df.select_dtypes(include='number').columns if col not in ['Churn', 'CustomerID']]\n",
    "categorical_features = [col for col in df.select_dtypes(include='object').columns if col != 'Churn']\n",
    "\n",
    "# Numeric plots\n",
    "for feature in numeric_features:\n",
    "    plot_bivariate_numeric(df, feature, target='Churn', save_dir='../plots/bivariate/numeric')\n",
    "\n",
    "# Categorical plots\n",
    "for feature in categorical_features:\n",
    "    plot_bivariate_categorical(df, feature, target='Churn', max_classes=10, save_dir='../plots/bivariate/categorical')\n",
    "\n",
    "print(\" Bivariate plots saved! Check my plots folder.\")"
   ]
  },
  {
   "cell_type": "markdown",
   "id": "92488364",
   "metadata": {},
   "source": [
    "## Bivariate Analysis: Numeric & Categorical Features vs Churn\n",
    "\n",
    "## Overview\n",
    "\n",
    "In this section, I explored the relationship between each feature and the churn status (`Churn`). I split the analysis between **categorical** and **numeric** features for better clarity and focus. The main goal is to identify patterns, trends, and potential predictors for churn.\n",
    "\n",
    "---\n",
    "\n",
    "## 1. Categorical Features vs Churn\n",
    "\n",
    "Below, I describe the main insights for each categorical variable regarding churn rates. For each variable, only the top 10 categories were included for clearer visualization.\n",
    "\n",
    "### ### 1.1 Marital Status\n",
    "\n",
    "- **Categories analyzed:** Married, Single, Divorced\n",
    "- **Findings:**  \n",
    "  Married customers have a slightly lower churn rate, while single and divorced customers show a higher propensity to churn.\n",
    "\n",
    "---\n",
    "\n",
    "### ### 1.2 Preferred Order Category\n",
    "\n",
    "- **Categories analyzed:** Laptop & Accessory, Mobile Phone, Fashion, Mobile, Grocery, Others\n",
    "- **Findings:**  \n",
    "  Customers whose preferred order categories are electronics or fashion show distinct churn behaviors. Notably, the \"Mobile Phone\" and \"Fashion\" categories have higher churn rates.\n",
    "\n",
    "---\n",
    "\n",
    "### ### 1.3 Preferred Login Device\n",
    "\n",
    "- **Categories analyzed:** [Top devices]\n",
    "- **Findings:**  \n",
    "  Customers who prefer logging in via mobile devices appear to have a slightly higher churn compared to desktop users.\n",
    "\n",
    "---\n",
    "\n",
    "### ### 1.4 Preferred Payment Mode\n",
    "\n",
    "- **Categories analyzed:** [Top payment modes]\n",
    "- **Findings:**  \n",
    "  Digital payment modes (e.g., credit card, wallet) are associated with lower churn, while other payment modes may have more churners.\n",
    "\n",
    "---\n",
    "\n",
    "### ### 1.5 Gender\n",
    "\n",
    "- **Categories analyzed:** Male, Female\n",
    "- **Findings:**  \n",
    "  The churn rate is relatively balanced between genders, with only minor differences.\n",
    "\n",
    "---\n",
    "\n",
    "## 2. Numeric Features vs Churn\n",
    "\n",
    "For numeric features, I used boxplots to compare the distributions for churned vs non-churned customers. Here are the main takeaways:\n",
    "\n",
    "### ### 2.1 Tenure\n",
    "\n",
    "- **Observation:**  \n",
    "  Customers with shorter tenure have a higher chance of churn. Longer tenure generally indicates greater loyalty.\n",
    "\n",
    "---\n",
    "\n",
    "### ### 2.2 Warehouse To Home\n",
    "\n",
    "- **Observation:**  \n",
    "  Customers living further from the warehouse have a slightly increased churn rate, possibly due to longer delivery times.\n",
    "\n",
    "---\n",
    "\n",
    "### ### 2.3 Hour Spend On App\n",
    "\n",
    "- **Observation:**  \n",
    "  Churners typically spend fewer hours on the app compared to loyal customers. App engagement appears to be a protective factor.\n",
    "\n",
    "---\n",
    "\n",
    "### ### 2.4 Number Of Devices Registered\n",
    "\n",
    "- **Observation:**  \n",
    "  Customers with more devices registered tend to churn less, possibly indicating higher engagement or household usage.\n",
    "\n",
    "---\n",
    "\n",
    "### ### 2.5 Satisfaction Score\n",
    "\n",
    "- **Observation:**  \n",
    "  Unsurprisingly, lower satisfaction scores are associated with higher churn rates.\n",
    "\n",
    "---\n",
    "\n",
    "### ### 2.6 Number Of Address\n",
    "\n",
    "- **Observation:**  \n",
    "  This feature does not show a strong pattern, but customers with more addresses might be slightly less loyal.\n",
    "\n",
    "---\n",
    "\n",
    "### ### 2.7 Complain\n",
    "\n",
    "- **Observation:**  \n",
    "  Customers who have complained are significantly more likely to churn, showing the impact of unresolved issues.\n",
    "\n",
    "---\n",
    "\n",
    "### ### 2.8 Order Amount Hike From Last Year\n",
    "\n",
    "- **Observation:**  \n",
    "  Higher order amount hikes are linked to lower churn, indicating that spending growth correlates with retention.\n",
    "\n",
    "---\n",
    "\n",
    "### ### 2.9 Order Count\n",
    "\n",
    "- **Observation:**  \n",
    "  A higher order count is associated with reduced churn, reinforcing that frequent buyers are more loyal.\n",
    "\n",
    "---\n",
    "\n",
    "### ### 2.10 Cashback Amount\n",
    "\n",
    "- **Observation:**  \n",
    "  Customers who receive more cashback are less likely to churn, showing the effectiveness of cashback incentives.\n",
    "\n",
    "---\n",
    "\n",
    "> **Summary:**  \n",
    "> The bivariate analysis confirms some expected patterns (tenure, satisfaction, order count), but also uncovers subtle trends (impact of complaints, preferred order categories, and payment mode). These findings will guide the feature engineering and modeling phases.\n",
    "\n",
    "---\n",
    "\n"
   ]
  },
  {
   "cell_type": "markdown",
   "id": "cb919e36",
   "metadata": {},
   "source": [
    "# Correlation Matrix Analysis\n",
    "\n",
    "A correlation matrix helps to identify linear relationships between the numerical features in our dataset. High correlation values (close to +1 or -1) indicate strong linear relationships, which can reveal multicollinearity issues or guide feature selection for predictive modeling.\n",
    "\n",
    "Below, we visualize the correlations using a modern, interactive heatmap with Plotly. This approach makes it easy to spot relevant patterns and potential redundancies in the data."
   ]
  },
  {
   "cell_type": "code",
   "execution_count": 8,
   "id": "bfc516c8",
   "metadata": {},
   "outputs": [],
   "source": [
    "# Calculate correlation matrix for all numeric features except IDs and target\n",
    "numeric_cols = [col for col in df.select_dtypes(include='number').columns if col not in ['CustomerID', 'Churn']]\n",
    "corr_matrix = df[numeric_cols].corr()\n",
    "\n",
    "# Plot heatmap with Plotly (interactive)\n",
    "fig = px.imshow(\n",
    "    corr_matrix,\n",
    "    text_auto='.2f',\n",
    "    color_continuous_scale='RdBu',\n",
    "    title='Correlation Matrix (Numeric Features)',\n",
    "    aspect='auto'\n",
    ")\n",
    "fig.update_layout(\n",
    "    autosize=False,\n",
    "    width=900,\n",
    "    height=700,\n",
    "    template='plotly_white'\n",
    ")\n",
    "fig.write_html('../plots/correlation_matrix.html')\n",
    "# fig.show()  # Un-comment to display in notebook\n",
    "\n",
    "# For static export (if needed)\n",
    "plt.figure(figsize=(12, 8))\n",
    "sns.heatmap(corr_matrix, annot=True, fmt=\".2f\", cmap=\"coolwarm\", linewidths=0.5)\n",
    "plt.title(\"Correlation Matrix (Numeric Features)\")\n",
    "plt.tight_layout()\n",
    "plt.savefig(\"../plots/correlation_matrix_static.png\")\n",
    "plt.close()"
   ]
  },
  {
   "cell_type": "markdown",
   "id": "83d97720",
   "metadata": {},
   "source": [
    "## Correlation Matrix Analysis\n",
    "\n",
    "To better understand the relationships between the numerical features in our dataset, I analyzed the correlation matrix. This visualization allows me to quickly identify which variables are most strongly related to each other, as well as to our target variable, **Churn**.\n",
    "\n",
    "### Key Insights\n",
    "\n",
    "- **Low Overall Correlation:** Most features show relatively weak linear correlations with each other, which suggests that multicollinearity is not a major concern in this dataset.\n",
    "- **Customer Engagement:** Features related to customer engagement and activity, such as `OrderCount`, `CouponUsed`, and `OrderAmountHikeFromlastYear`, show some moderate positive correlation with each other. This may indicate that more active users tend to have higher order amounts and use more coupons.\n",
    "- **Churn vs. Features:** There is no single feature with a very strong direct correlation to the target variable `Churn`. However, some features (like `SatisfactionScore`, `Complain`, and `OrderCount`) show moderate associations, hinting that customer satisfaction and their complaint history may have an influence on churn.\n",
    "- **Redundant Features:** No pair of features has a correlation coefficient close to 1, so we are unlikely to have redundant features in our model.\n",
    "\n",
    "### Next Steps\n",
    "\n",
    "- I will focus on the features with moderate correlations to `Churn` for further analysis and feature engineering.\n",
    "- Non-linear relationships and multivariate interactions should be explored in the modeling phase, as correlation analysis only captures linear dependencies.\n",
    "\n",
    "> **Summary:**  \n",
    "> The correlation matrix provides a useful first look at feature relationships. At this stage, our data appears to be well-suited for predictive modeling, with minimal risk of multicollinearity and a few promising signals for churn prediction.\n"
   ]
  },
  {
   "cell_type": "markdown",
   "id": "630863f5",
   "metadata": {},
   "source": [
    "# Outlier & Anomaly Detection\n",
    "\n",
    "To ensure the reliability and robustness of our churn‐prediction pipeline, we carried out a comprehensive outlier and anomaly detection stage. Extreme values and hidden anomalous patterns can unduly influence model training, inflate performance estimates, and undermine generalization. In this section, we combine:\n",
    "\n",
    "- **Univariate Detection (IQR method)**: flagging observations beyond [Q1 – 1.5·IQR, Q3 + 1.5·IQR] for each numeric feature to catch simple one‐dimensional outliers.  \n",
    "- **Multivariate Detection (Isolation Forest)**: leveraging an unsupervised tree‐based model to isolate complex, high‐dimensional anomalies that may not surface in marginal distributions.\n",
    "\n",
    "By systematically identifying and inspecting these data points, we can decide whether to remove, transform, or model them with robust algorithms—ultimately strengthening our churn‐prediction performance and ensuring cleaner, more trustworthy insights."
   ]
  },
  {
   "cell_type": "code",
   "execution_count": 9,
   "id": "8ecbdb58",
   "metadata": {},
   "outputs": [
    {
     "name": "stdout",
     "output_type": "stream",
     "text": [
      "[INFO] Loaded data: 5630 rows × 20 columns\n",
      "[DEBUG] Tenure: flagged IQR outliers\n",
      "[DEBUG] HourSpendOnApp: flagged IQR outliers\n",
      "[DEBUG] OrderCount: flagged IQR outliers\n",
      "[DEBUG] CashbackAmount: flagged IQR outliers\n",
      "[DEBUG] SatisfactionScore: flagged IQR outliers\n",
      "[DEBUG] DaySinceLastOrder: flagged IQR outliers\n",
      "[DEBUG] CouponUsed: flagged IQR outliers\n",
      "[DEBUG] OrderAmountHikeFromlastYear: flagged IQR outliers\n",
      "[DEBUG] Saving univariate plot to: C:\\Users\\luizo\\Projetos\\churn_analysis\\plots\\outliers\\univariate\\Tenure_outliers.html\n",
      "[DEBUG] Saving univariate plot to: C:\\Users\\luizo\\Projetos\\churn_analysis\\plots\\outliers\\univariate\\HourSpendOnApp_outliers.html\n",
      "[DEBUG] Saving univariate plot to: C:\\Users\\luizo\\Projetos\\churn_analysis\\plots\\outliers\\univariate\\OrderCount_outliers.html\n",
      "[DEBUG] Saving univariate plot to: C:\\Users\\luizo\\Projetos\\churn_analysis\\plots\\outliers\\univariate\\CashbackAmount_outliers.html\n",
      "[DEBUG] Saving univariate plot to: C:\\Users\\luizo\\Projetos\\churn_analysis\\plots\\outliers\\univariate\\SatisfactionScore_outliers.html\n",
      "[DEBUG] Saving univariate plot to: C:\\Users\\luizo\\Projetos\\churn_analysis\\plots\\outliers\\univariate\\DaySinceLastOrder_outliers.html\n",
      "[DEBUG] Saving univariate plot to: C:\\Users\\luizo\\Projetos\\churn_analysis\\plots\\outliers\\univariate\\CouponUsed_outliers.html\n",
      "[DEBUG] Saving univariate plot to: C:\\Users\\luizo\\Projetos\\churn_analysis\\plots\\outliers\\univariate\\OrderAmountHikeFromlastYear_outliers.html\n",
      "[DEBUG] Applied IsolationForest (contamination=0.01)\n",
      "[DEBUG] Saving multivariate scatter to: C:\\Users\\luizo\\Projetos\\churn_analysis\\plots\\outliers\\multivariate\\tenure_vs_ordercount.html\n",
      "[DONE] Outlier & anomaly detection complete.\n"
     ]
    }
   ],
   "source": [
    "def resolve_project_root() -> Path:\n",
    "    \"\"\"\n",
    "    Determine the project root directory.\n",
    "\n",
    "    Priority:\n",
    "      1. Use PROJECT_ROOT environment variable if set.\n",
    "      2. Use __file__ location (script lives in PROJECT_ROOT/src/).\n",
    "      3. Fall back to current working directory heuristics.\n",
    "    \"\"\"\n",
    "    # 1. environment variable\n",
    "    env = os.getenv(\"PROJECT_ROOT\")\n",
    "    if env:\n",
    "        return Path(env).resolve()\n",
    "\n",
    "    # 2. __file__ (when running as a script)\n",
    "    try:\n",
    "        return Path(__file__).resolve().parent.parent\n",
    "    except NameError:\n",
    "        pass\n",
    "\n",
    "    # 3. working directory heuristic\n",
    "    cwd = Path.cwd().resolve()\n",
    "    if (cwd / \"data\" / \"raw\" / \"E_Commerce_Dataset.xlsx\").exists():\n",
    "        return cwd\n",
    "    return cwd.parent\n",
    "\n",
    "\n",
    "def load_data() -> pd.DataFrame:\n",
    "    \"\"\"\n",
    "    Load the churn dataset from the 'E Comm' sheet, drop unnamed cols,\n",
    "    and return a clean DataFrame.\n",
    "    \"\"\"\n",
    "    project_root = resolve_project_root()\n",
    "    raw_path = project_root / \"data\" / \"raw\" / \"E_Commerce_Dataset.xlsx\"\n",
    "    if not raw_path.is_file():\n",
    "        sys.exit(\n",
    "            f\"[ERROR] Dataset not found at {raw_path}\\n\"\n",
    "            \"Ensure 'E_Commerce_Dataset.xlsx' exists in data/raw \"\n",
    "            \"or set PROJECT_ROOT correctly.\"\n",
    "        )\n",
    "    # Read the specific sheet and drop empty/unnamed columns\n",
    "    df = pd.read_excel(raw_path, sheet_name=\"E Comm\")\n",
    "    df = df.loc[:, ~df.columns.str.match(r\"^Unnamed\")]\n",
    "    print(f\"[INFO] Loaded data: {df.shape[0]} rows × {df.shape[1]} columns\")\n",
    "    return df\n",
    "\n",
    "\n",
    "def ensure_dir(path: Path) -> None:\n",
    "    \"\"\"\n",
    "    Create directory (and parents) if it does not exist.\n",
    "    \"\"\"\n",
    "    path.mkdir(parents=True, exist_ok=True)\n",
    "\n",
    "\n",
    "def detect_univariate_outliers_iqr(\n",
    "    df: pd.DataFrame, numeric_cols: list[str]\n",
    ") -> pd.DataFrame:\n",
    "    \"\"\"\n",
    "    Flag univariate outliers based on the IQR method.\n",
    "\n",
    "    Adds boolean columns '<col>_outlier' to the DataFrame.\n",
    "    \"\"\"\n",
    "    result = df.copy()\n",
    "    for col in numeric_cols:\n",
    "        q1 = result[col].quantile(0.25)\n",
    "        q3 = result[col].quantile(0.75)\n",
    "        iqr = q3 - q1\n",
    "        lower = q1 - 1.5 * iqr\n",
    "        upper = q3 + 1.5 * iqr\n",
    "        result[f\"{col}_outlier\"] = ~result[col].between(lower, upper)\n",
    "        print(f\"[DEBUG] {col}: flagged IQR outliers\")\n",
    "    return result\n",
    "\n",
    "\n",
    "def plot_univariate_outliers(\n",
    "    df: pd.DataFrame,\n",
    "    feature: str,\n",
    "    output_dir: Path,\n",
    "    template: str = \"plotly_white\"\n",
    ") -> None:\n",
    "    \"\"\"\n",
    "    Create and save a boxplot highlighting univariate outliers for one feature.\n",
    "    \"\"\"\n",
    "    fig = px.box(\n",
    "        df,\n",
    "        y=feature,\n",
    "        points=\"all\",\n",
    "        title=f\"Univariate Outliers: {feature}\",\n",
    "        template=template\n",
    "    )\n",
    "    out_file = output_dir / f\"{feature}_outliers.html\"\n",
    "    print(f\"[DEBUG] Saving univariate plot to: {out_file.resolve()}\")\n",
    "    fig.write_html(str(out_file))\n",
    "\n",
    "\n",
    "def detect_multivariate_anomalies(\n",
    "    df: pd.DataFrame,\n",
    "    numeric_cols: list[str],\n",
    "    contamination: float = 0.01,\n",
    "    random_state: int = 42\n",
    ") -> pd.DataFrame:\n",
    "    \"\"\"\n",
    "    Apply IsolationForest to detect multivariate anomalies.\n",
    "\n",
    "    Adds 'anomaly_score' (higher = more normal) and 'anomaly_flag' columns.\n",
    "    \"\"\"\n",
    "    iso = IsolationForest(\n",
    "        n_estimators=100,\n",
    "        contamination=contamination,\n",
    "        random_state=random_state\n",
    "    )\n",
    "    X = df[numeric_cols].fillna(0)\n",
    "    iso.fit(X)\n",
    "    scores = iso.decision_function(X)\n",
    "    labels = iso.predict(X)\n",
    "    df_out = df.copy()\n",
    "    df_out[\"anomaly_score\"] = scores\n",
    "    df_out[\"anomaly_flag\"] = labels == -1\n",
    "    print(f\"[DEBUG] Applied IsolationForest (contamination={contamination})\")\n",
    "    return df_out\n",
    "\n",
    "\n",
    "def plot_multivariate_scatter(\n",
    "    df: pd.DataFrame,\n",
    "    x: str,\n",
    "    y: str,\n",
    "    output_path: Path,\n",
    "    template: str = \"plotly_white\"\n",
    ") -> None:\n",
    "    \"\"\"\n",
    "    Plot a 2D scatter colored by anomaly flag and save as HTML.\n",
    "    \"\"\"\n",
    "    fig = px.scatter(\n",
    "        df,\n",
    "        x=x,\n",
    "        y=y,\n",
    "        color=\"anomaly_flag\",\n",
    "        title=f\"Anomaly Scatter: {x} vs {y}\",\n",
    "        template=template,\n",
    "        hover_data=[\"anomaly_score\"]\n",
    "    )\n",
    "    print(f\"[DEBUG] Saving multivariate scatter to: {output_path.resolve()}\")\n",
    "    fig.write_html(str(output_path))\n",
    "\n",
    "\n",
    "def main():\n",
    "    project_root = resolve_project_root()\n",
    "\n",
    "    # 1. Load dataset\n",
    "    df = load_data()\n",
    "\n",
    "    # 2. Define numeric features\n",
    "    numeric_features = [\n",
    "        \"Tenure\",\n",
    "        \"HourSpendOnApp\",\n",
    "        \"OrderCount\",\n",
    "        \"CashbackAmount\",\n",
    "        \"SatisfactionScore\",\n",
    "        \"DaySinceLastOrder\",\n",
    "        \"CouponUsed\",\n",
    "        \"OrderAmountHikeFromlastYear\"\n",
    "    ]\n",
    "\n",
    "    # 3. Detect and plot univariate outliers\n",
    "    df_uni = detect_univariate_outliers_iqr(df, numeric_features)\n",
    "    uni_dir = project_root / \"plots\" / \"outliers\" / \"univariate\"\n",
    "    ensure_dir(uni_dir)\n",
    "    for feat in numeric_features:\n",
    "        plot_univariate_outliers(df_uni, feat, uni_dir)\n",
    "\n",
    "    # 4. Detect and plot multivariate anomalies\n",
    "    df_multi = detect_multivariate_anomalies(df_uni, numeric_features)\n",
    "    multi_dir = project_root / \"plots\" / \"outliers\" / \"multivariate\"\n",
    "    ensure_dir(multi_dir)\n",
    "    scatter_path = multi_dir / \"tenure_vs_ordercount.html\"\n",
    "    plot_multivariate_scatter(df_multi, \"Tenure\", \"OrderCount\", scatter_path)\n",
    "\n",
    "    print(\"[DONE] Outlier & anomaly detection complete.\")\n",
    "\n",
    "\n",
    "if __name__ == \"__main__\":\n",
    "    main()"
   ]
  },
  {
   "cell_type": "markdown",
   "id": "bd7cdf1e",
   "metadata": {},
   "source": [
    "##  Outlier & Anomaly Detection\n",
    "\n",
    "In this step, I identified extreme observations that could bias our churn models by combining simple and advanced techniques:\n",
    "\n",
    "### 1 Univariate Outliers (IQR Method)  \n",
    "For each numeric feature, I calculated the interquartile range (IQR = Q3 – Q1) and flagged any points below Q1 – 1.5·IQR or above Q3 + 1.5·IQR. Interactive boxplots are available here:\n",
    "\n",
    "- [Tenure](../plots/outliers/univariate/Tenure_outliers.html)  \n",
    "- [HourSpendOnApp](../plots/outliers/univariate/HourSpendOnApp_outliers.html)  \n",
    "- [OrderCount](../plots/outliers/univariate/OrderCount_outliers.html)  \n",
    "- [CashbackAmount](../plots/outliers/univariate/CashbackAmount_outliers.html)  \n",
    "- [SatisfactionScore](../plots/outliers/univariate/SatisfactionScore_outliers.html)  \n",
    "- [DaySinceLastOrder](../plots/outliers/univariate/DaySinceLastOrder_outliers.html)  \n",
    "- [CouponUsed](../plots/outliers/univariate/CouponUsed_outliers.html)  \n",
    "- [OrderAmountHikeFromlastYear](../plots/outliers/univariate/OrderAmountHikeFromlastYear_outliers.html)  \n",
    "\n",
    "These plots reveal customers with values far outside the typical range for each dimension.\n",
    "\n",
    "### 2 Multivariate Anomalies (Isolation Forest)  \n",
    "To capture unusual patterns across all numeric features at once, I trained an Isolation Forest with 1% contamination. Example visualization in the “Tenure vs. OrderCount” plane:\n",
    "\n",
    "- [Tenure vs. OrderCount](../plots/outliers/multivariate/tenure_vs_ordercount.html)  \n",
    "\n",
    "Highlighted points represent the ~1% of customers whose combined tenure and order behavior deviate significantly from the rest.\n",
    "\n",
    "---\n",
    "\n",
    "### Key Learnings  \n",
    "- **Univariate outliers:** Several customers exhibit extreme values (e.g., very high app usage or unusually large cashback), which may indicate special cases or data entry errors.  \n",
    "- **Multivariate anomalies:** A small subset (~56 customers) was flagged as highly unusual across multiple features—possibly bots, input mistakes, or VIP customers.\n",
    "\n"
   ]
  },
  {
   "cell_type": "markdown",
   "id": "5a69f4a9",
   "metadata": {},
   "source": [
    "# Churn Distribution\n",
    "\n",
    "Let's inspect the balance of our target variable `Churn`."
   ]
  },
  {
   "cell_type": "markdown",
   "id": "681cd66d",
   "metadata": {},
   "source": []
  },
  {
   "cell_type": "code",
   "execution_count": 10,
   "id": "daf4c626",
   "metadata": {},
   "outputs": [
    {
     "name": "stdout",
     "output_type": "stream",
     "text": [
      "Project root: c:\\Users\\luizo\\Projetos\\churn_analysis\n",
      "Plots will be saved to: c:\\Users\\luizo\\Projetos\\churn_analysis\\plots\\eda\n"
     ]
    },
    {
     "data": {
      "application/vnd.plotly.v1+json": {
       "config": {
        "plotlyServerURL": "https://plot.ly"
       },
       "data": [
        {
         "hovertemplate": "Churn=%{x}<br>count=%{y}<br>text=%{text}<extra></extra>",
         "legendgroup": "",
         "marker": {
          "color": "#636efa",
          "pattern": {
           "shape": ""
          }
         },
         "name": "",
         "orientation": "v",
         "showlegend": false,
         "text": [
          "83.2%",
          "16.8%"
         ],
         "textposition": "outside",
         "type": "bar",
         "x": {
          "bdata": "AAE=",
          "dtype": "i1"
         },
         "xaxis": "x",
         "y": {
          "bdata": "ShK0Aw==",
          "dtype": "i2"
         },
         "yaxis": "y"
        }
       ],
       "layout": {
        "barmode": "relative",
        "legend": {
         "tracegroupgap": 0
        },
        "template": {
         "data": {
          "bar": [
           {
            "error_x": {
             "color": "#2a3f5f"
            },
            "error_y": {
             "color": "#2a3f5f"
            },
            "marker": {
             "line": {
              "color": "white",
              "width": 0.5
             },
             "pattern": {
              "fillmode": "overlay",
              "size": 10,
              "solidity": 0.2
             }
            },
            "type": "bar"
           }
          ],
          "barpolar": [
           {
            "marker": {
             "line": {
              "color": "white",
              "width": 0.5
             },
             "pattern": {
              "fillmode": "overlay",
              "size": 10,
              "solidity": 0.2
             }
            },
            "type": "barpolar"
           }
          ],
          "carpet": [
           {
            "aaxis": {
             "endlinecolor": "#2a3f5f",
             "gridcolor": "#C8D4E3",
             "linecolor": "#C8D4E3",
             "minorgridcolor": "#C8D4E3",
             "startlinecolor": "#2a3f5f"
            },
            "baxis": {
             "endlinecolor": "#2a3f5f",
             "gridcolor": "#C8D4E3",
             "linecolor": "#C8D4E3",
             "minorgridcolor": "#C8D4E3",
             "startlinecolor": "#2a3f5f"
            },
            "type": "carpet"
           }
          ],
          "choropleth": [
           {
            "colorbar": {
             "outlinewidth": 0,
             "ticks": ""
            },
            "type": "choropleth"
           }
          ],
          "contour": [
           {
            "colorbar": {
             "outlinewidth": 0,
             "ticks": ""
            },
            "colorscale": [
             [
              0,
              "#0d0887"
             ],
             [
              0.1111111111111111,
              "#46039f"
             ],
             [
              0.2222222222222222,
              "#7201a8"
             ],
             [
              0.3333333333333333,
              "#9c179e"
             ],
             [
              0.4444444444444444,
              "#bd3786"
             ],
             [
              0.5555555555555556,
              "#d8576b"
             ],
             [
              0.6666666666666666,
              "#ed7953"
             ],
             [
              0.7777777777777778,
              "#fb9f3a"
             ],
             [
              0.8888888888888888,
              "#fdca26"
             ],
             [
              1,
              "#f0f921"
             ]
            ],
            "type": "contour"
           }
          ],
          "contourcarpet": [
           {
            "colorbar": {
             "outlinewidth": 0,
             "ticks": ""
            },
            "type": "contourcarpet"
           }
          ],
          "heatmap": [
           {
            "colorbar": {
             "outlinewidth": 0,
             "ticks": ""
            },
            "colorscale": [
             [
              0,
              "#0d0887"
             ],
             [
              0.1111111111111111,
              "#46039f"
             ],
             [
              0.2222222222222222,
              "#7201a8"
             ],
             [
              0.3333333333333333,
              "#9c179e"
             ],
             [
              0.4444444444444444,
              "#bd3786"
             ],
             [
              0.5555555555555556,
              "#d8576b"
             ],
             [
              0.6666666666666666,
              "#ed7953"
             ],
             [
              0.7777777777777778,
              "#fb9f3a"
             ],
             [
              0.8888888888888888,
              "#fdca26"
             ],
             [
              1,
              "#f0f921"
             ]
            ],
            "type": "heatmap"
           }
          ],
          "histogram": [
           {
            "marker": {
             "pattern": {
              "fillmode": "overlay",
              "size": 10,
              "solidity": 0.2
             }
            },
            "type": "histogram"
           }
          ],
          "histogram2d": [
           {
            "colorbar": {
             "outlinewidth": 0,
             "ticks": ""
            },
            "colorscale": [
             [
              0,
              "#0d0887"
             ],
             [
              0.1111111111111111,
              "#46039f"
             ],
             [
              0.2222222222222222,
              "#7201a8"
             ],
             [
              0.3333333333333333,
              "#9c179e"
             ],
             [
              0.4444444444444444,
              "#bd3786"
             ],
             [
              0.5555555555555556,
              "#d8576b"
             ],
             [
              0.6666666666666666,
              "#ed7953"
             ],
             [
              0.7777777777777778,
              "#fb9f3a"
             ],
             [
              0.8888888888888888,
              "#fdca26"
             ],
             [
              1,
              "#f0f921"
             ]
            ],
            "type": "histogram2d"
           }
          ],
          "histogram2dcontour": [
           {
            "colorbar": {
             "outlinewidth": 0,
             "ticks": ""
            },
            "colorscale": [
             [
              0,
              "#0d0887"
             ],
             [
              0.1111111111111111,
              "#46039f"
             ],
             [
              0.2222222222222222,
              "#7201a8"
             ],
             [
              0.3333333333333333,
              "#9c179e"
             ],
             [
              0.4444444444444444,
              "#bd3786"
             ],
             [
              0.5555555555555556,
              "#d8576b"
             ],
             [
              0.6666666666666666,
              "#ed7953"
             ],
             [
              0.7777777777777778,
              "#fb9f3a"
             ],
             [
              0.8888888888888888,
              "#fdca26"
             ],
             [
              1,
              "#f0f921"
             ]
            ],
            "type": "histogram2dcontour"
           }
          ],
          "mesh3d": [
           {
            "colorbar": {
             "outlinewidth": 0,
             "ticks": ""
            },
            "type": "mesh3d"
           }
          ],
          "parcoords": [
           {
            "line": {
             "colorbar": {
              "outlinewidth": 0,
              "ticks": ""
             }
            },
            "type": "parcoords"
           }
          ],
          "pie": [
           {
            "automargin": true,
            "type": "pie"
           }
          ],
          "scatter": [
           {
            "fillpattern": {
             "fillmode": "overlay",
             "size": 10,
             "solidity": 0.2
            },
            "type": "scatter"
           }
          ],
          "scatter3d": [
           {
            "line": {
             "colorbar": {
              "outlinewidth": 0,
              "ticks": ""
             }
            },
            "marker": {
             "colorbar": {
              "outlinewidth": 0,
              "ticks": ""
             }
            },
            "type": "scatter3d"
           }
          ],
          "scattercarpet": [
           {
            "marker": {
             "colorbar": {
              "outlinewidth": 0,
              "ticks": ""
             }
            },
            "type": "scattercarpet"
           }
          ],
          "scattergeo": [
           {
            "marker": {
             "colorbar": {
              "outlinewidth": 0,
              "ticks": ""
             }
            },
            "type": "scattergeo"
           }
          ],
          "scattergl": [
           {
            "marker": {
             "colorbar": {
              "outlinewidth": 0,
              "ticks": ""
             }
            },
            "type": "scattergl"
           }
          ],
          "scattermap": [
           {
            "marker": {
             "colorbar": {
              "outlinewidth": 0,
              "ticks": ""
             }
            },
            "type": "scattermap"
           }
          ],
          "scattermapbox": [
           {
            "marker": {
             "colorbar": {
              "outlinewidth": 0,
              "ticks": ""
             }
            },
            "type": "scattermapbox"
           }
          ],
          "scatterpolar": [
           {
            "marker": {
             "colorbar": {
              "outlinewidth": 0,
              "ticks": ""
             }
            },
            "type": "scatterpolar"
           }
          ],
          "scatterpolargl": [
           {
            "marker": {
             "colorbar": {
              "outlinewidth": 0,
              "ticks": ""
             }
            },
            "type": "scatterpolargl"
           }
          ],
          "scatterternary": [
           {
            "marker": {
             "colorbar": {
              "outlinewidth": 0,
              "ticks": ""
             }
            },
            "type": "scatterternary"
           }
          ],
          "surface": [
           {
            "colorbar": {
             "outlinewidth": 0,
             "ticks": ""
            },
            "colorscale": [
             [
              0,
              "#0d0887"
             ],
             [
              0.1111111111111111,
              "#46039f"
             ],
             [
              0.2222222222222222,
              "#7201a8"
             ],
             [
              0.3333333333333333,
              "#9c179e"
             ],
             [
              0.4444444444444444,
              "#bd3786"
             ],
             [
              0.5555555555555556,
              "#d8576b"
             ],
             [
              0.6666666666666666,
              "#ed7953"
             ],
             [
              0.7777777777777778,
              "#fb9f3a"
             ],
             [
              0.8888888888888888,
              "#fdca26"
             ],
             [
              1,
              "#f0f921"
             ]
            ],
            "type": "surface"
           }
          ],
          "table": [
           {
            "cells": {
             "fill": {
              "color": "#EBF0F8"
             },
             "line": {
              "color": "white"
             }
            },
            "header": {
             "fill": {
              "color": "#C8D4E3"
             },
             "line": {
              "color": "white"
             }
            },
            "type": "table"
           }
          ]
         },
         "layout": {
          "annotationdefaults": {
           "arrowcolor": "#2a3f5f",
           "arrowhead": 0,
           "arrowwidth": 1
          },
          "autotypenumbers": "strict",
          "coloraxis": {
           "colorbar": {
            "outlinewidth": 0,
            "ticks": ""
           }
          },
          "colorscale": {
           "diverging": [
            [
             0,
             "#8e0152"
            ],
            [
             0.1,
             "#c51b7d"
            ],
            [
             0.2,
             "#de77ae"
            ],
            [
             0.3,
             "#f1b6da"
            ],
            [
             0.4,
             "#fde0ef"
            ],
            [
             0.5,
             "#f7f7f7"
            ],
            [
             0.6,
             "#e6f5d0"
            ],
            [
             0.7,
             "#b8e186"
            ],
            [
             0.8,
             "#7fbc41"
            ],
            [
             0.9,
             "#4d9221"
            ],
            [
             1,
             "#276419"
            ]
           ],
           "sequential": [
            [
             0,
             "#0d0887"
            ],
            [
             0.1111111111111111,
             "#46039f"
            ],
            [
             0.2222222222222222,
             "#7201a8"
            ],
            [
             0.3333333333333333,
             "#9c179e"
            ],
            [
             0.4444444444444444,
             "#bd3786"
            ],
            [
             0.5555555555555556,
             "#d8576b"
            ],
            [
             0.6666666666666666,
             "#ed7953"
            ],
            [
             0.7777777777777778,
             "#fb9f3a"
            ],
            [
             0.8888888888888888,
             "#fdca26"
            ],
            [
             1,
             "#f0f921"
            ]
           ],
           "sequentialminus": [
            [
             0,
             "#0d0887"
            ],
            [
             0.1111111111111111,
             "#46039f"
            ],
            [
             0.2222222222222222,
             "#7201a8"
            ],
            [
             0.3333333333333333,
             "#9c179e"
            ],
            [
             0.4444444444444444,
             "#bd3786"
            ],
            [
             0.5555555555555556,
             "#d8576b"
            ],
            [
             0.6666666666666666,
             "#ed7953"
            ],
            [
             0.7777777777777778,
             "#fb9f3a"
            ],
            [
             0.8888888888888888,
             "#fdca26"
            ],
            [
             1,
             "#f0f921"
            ]
           ]
          },
          "colorway": [
           "#636efa",
           "#EF553B",
           "#00cc96",
           "#ab63fa",
           "#FFA15A",
           "#19d3f3",
           "#FF6692",
           "#B6E880",
           "#FF97FF",
           "#FECB52"
          ],
          "font": {
           "color": "#2a3f5f"
          },
          "geo": {
           "bgcolor": "white",
           "lakecolor": "white",
           "landcolor": "white",
           "showlakes": true,
           "showland": true,
           "subunitcolor": "#C8D4E3"
          },
          "hoverlabel": {
           "align": "left"
          },
          "hovermode": "closest",
          "mapbox": {
           "style": "light"
          },
          "paper_bgcolor": "white",
          "plot_bgcolor": "white",
          "polar": {
           "angularaxis": {
            "gridcolor": "#EBF0F8",
            "linecolor": "#EBF0F8",
            "ticks": ""
           },
           "bgcolor": "white",
           "radialaxis": {
            "gridcolor": "#EBF0F8",
            "linecolor": "#EBF0F8",
            "ticks": ""
           }
          },
          "scene": {
           "xaxis": {
            "backgroundcolor": "white",
            "gridcolor": "#DFE8F3",
            "gridwidth": 2,
            "linecolor": "#EBF0F8",
            "showbackground": true,
            "ticks": "",
            "zerolinecolor": "#EBF0F8"
           },
           "yaxis": {
            "backgroundcolor": "white",
            "gridcolor": "#DFE8F3",
            "gridwidth": 2,
            "linecolor": "#EBF0F8",
            "showbackground": true,
            "ticks": "",
            "zerolinecolor": "#EBF0F8"
           },
           "zaxis": {
            "backgroundcolor": "white",
            "gridcolor": "#DFE8F3",
            "gridwidth": 2,
            "linecolor": "#EBF0F8",
            "showbackground": true,
            "ticks": "",
            "zerolinecolor": "#EBF0F8"
           }
          },
          "shapedefaults": {
           "line": {
            "color": "#2a3f5f"
           }
          },
          "ternary": {
           "aaxis": {
            "gridcolor": "#DFE8F3",
            "linecolor": "#A2B1C6",
            "ticks": ""
           },
           "baxis": {
            "gridcolor": "#DFE8F3",
            "linecolor": "#A2B1C6",
            "ticks": ""
           },
           "bgcolor": "white",
           "caxis": {
            "gridcolor": "#DFE8F3",
            "linecolor": "#A2B1C6",
            "ticks": ""
           }
          },
          "title": {
           "x": 0.05
          },
          "xaxis": {
           "automargin": true,
           "gridcolor": "#EBF0F8",
           "linecolor": "#EBF0F8",
           "ticks": "",
           "title": {
            "standoff": 15
           },
           "zerolinecolor": "#EBF0F8",
           "zerolinewidth": 2
          },
          "yaxis": {
           "automargin": true,
           "gridcolor": "#EBF0F8",
           "linecolor": "#EBF0F8",
           "ticks": "",
           "title": {
            "standoff": 15
           },
           "zerolinecolor": "#EBF0F8",
           "zerolinewidth": 2
          }
         }
        },
        "title": {
         "text": "Churn Distribution"
        },
        "xaxis": {
         "anchor": "y",
         "domain": [
          0,
          1
         ],
         "title": {
          "text": "Churn"
         }
        },
        "yaxis": {
         "anchor": "x",
         "domain": [
          0,
          1
         ],
         "title": {
          "text": "count"
         }
        }
       }
      }
     },
     "metadata": {},
     "output_type": "display_data"
    }
   ],
   "source": [
    "project_root = Path.cwd().parent\n",
    "\n",
    "# Create the eda plots folder if it doesn't exist\n",
    "output_dir = project_root / \"plots\" / \"eda\"\n",
    "output_dir.mkdir(parents=True, exist_ok=True)\n",
    "\n",
    "print(f\"Project root: {project_root}\")\n",
    "print(f\"Plots will be saved to: {output_dir}\")\n",
    "\n",
    "# count & percentage\n",
    "counts = df['Churn'].value_counts().reset_index()\n",
    "counts.columns = ['Churn', 'count']\n",
    "counts['pct'] = counts['count'] / counts['count'].sum() * 100\n",
    "\n",
    "fig = px.bar(\n",
    "    counts,\n",
    "    x='Churn',\n",
    "    y='count',\n",
    "    text=counts['pct'].round(1).astype(str) + '%',\n",
    "    title='Churn Distribution',\n",
    "    template='plotly_white'\n",
    ")\n",
    "fig.update_traces(textposition='outside')\n",
    "\n",
    "# save to the eda folder we created\n",
    "fig.write_html(str(output_dir / 'churn_distribution.html'))\n",
    "fig.show()\n"
   ]
  },
  {
   "cell_type": "markdown",
   "id": "101d5c4e",
   "metadata": {},
   "source": [
    "# Missing Values Overview\n",
    "\n",
    "Check how many missing values we have in each column."
   ]
  },
  {
   "cell_type": "code",
   "execution_count": 11,
   "id": "39c21545",
   "metadata": {},
   "outputs": [
    {
     "name": "stdout",
     "output_type": "stream",
     "text": [
      "                    feature  n_missing  pct_missing\n",
      "                 CustomerID          0     0.000000\n",
      "                      Churn          0     0.000000\n",
      "                     Tenure        264     4.689165\n",
      "       PreferredLoginDevice          0     0.000000\n",
      "                   CityTier          0     0.000000\n",
      "            WarehouseToHome        251     4.458259\n",
      "       PreferredPaymentMode          0     0.000000\n",
      "                     Gender          0     0.000000\n",
      "             HourSpendOnApp        255     4.529307\n",
      "   NumberOfDeviceRegistered          0     0.000000\n",
      "           PreferedOrderCat          0     0.000000\n",
      "          SatisfactionScore          0     0.000000\n",
      "              MaritalStatus          0     0.000000\n",
      "            NumberOfAddress          0     0.000000\n",
      "                   Complain          0     0.000000\n",
      "OrderAmountHikeFromlastYear        265     4.706927\n",
      "                 CouponUsed        256     4.547069\n",
      "                 OrderCount        258     4.582593\n",
      "          DaySinceLastOrder        307     5.452931\n",
      "             CashbackAmount          0     0.000000\n"
     ]
    },
    {
     "data": {
      "application/vnd.plotly.v1+json": {
       "config": {
        "plotlyServerURL": "https://plot.ly"
       },
       "data": [
        {
         "hovertemplate": "feature=%{x}<br>pct_missing=%{y}<br>text=%{text}<extra></extra>",
         "legendgroup": "",
         "marker": {
          "color": "#636efa",
          "pattern": {
           "shape": ""
          }
         },
         "name": "",
         "orientation": "v",
         "showlegend": false,
         "text": [
          "0.0%",
          "0.0%",
          "4.7%",
          "0.0%",
          "0.0%",
          "4.5%",
          "0.0%",
          "0.0%",
          "4.5%",
          "0.0%",
          "0.0%",
          "0.0%",
          "0.0%",
          "0.0%",
          "0.0%",
          "4.7%",
          "4.5%",
          "4.6%",
          "5.5%",
          "0.0%"
         ],
         "textposition": "outside",
         "type": "bar",
         "x": [
          "CustomerID",
          "Churn",
          "Tenure",
          "PreferredLoginDevice",
          "CityTier",
          "WarehouseToHome",
          "PreferredPaymentMode",
          "Gender",
          "HourSpendOnApp",
          "NumberOfDeviceRegistered",
          "PreferedOrderCat",
          "SatisfactionScore",
          "MaritalStatus",
          "NumberOfAddress",
          "Complain",
          "OrderAmountHikeFromlastYear",
          "CouponUsed",
          "OrderCount",
          "DaySinceLastOrder",
          "CashbackAmount"
         ],
         "xaxis": "x",
         "y": {
          "bdata": "AAAAAAAAAAAAAAAAAAAAAJJAxoS0wRJAAAAAAAAAAAAAAAAAAAAAAGucuO5B1RFAAAAAAAAAAAAAAAAAAAAAAAEKbroCHhJAAAAAAAAAAAAAAAAAAAAAAAAAAAAAAAAAAAAAAAAAAAAAAAAAAAAAAAAAAAAAAAAA95uzt+TTEkBmZVvtMjASQDEcNlOTVBJAmpqkEs3PFUAAAAAAAAAAAA==",
          "dtype": "f8"
         },
         "yaxis": "y"
        }
       ],
       "layout": {
        "barmode": "relative",
        "legend": {
         "tracegroupgap": 0
        },
        "template": {
         "data": {
          "bar": [
           {
            "error_x": {
             "color": "#2a3f5f"
            },
            "error_y": {
             "color": "#2a3f5f"
            },
            "marker": {
             "line": {
              "color": "white",
              "width": 0.5
             },
             "pattern": {
              "fillmode": "overlay",
              "size": 10,
              "solidity": 0.2
             }
            },
            "type": "bar"
           }
          ],
          "barpolar": [
           {
            "marker": {
             "line": {
              "color": "white",
              "width": 0.5
             },
             "pattern": {
              "fillmode": "overlay",
              "size": 10,
              "solidity": 0.2
             }
            },
            "type": "barpolar"
           }
          ],
          "carpet": [
           {
            "aaxis": {
             "endlinecolor": "#2a3f5f",
             "gridcolor": "#C8D4E3",
             "linecolor": "#C8D4E3",
             "minorgridcolor": "#C8D4E3",
             "startlinecolor": "#2a3f5f"
            },
            "baxis": {
             "endlinecolor": "#2a3f5f",
             "gridcolor": "#C8D4E3",
             "linecolor": "#C8D4E3",
             "minorgridcolor": "#C8D4E3",
             "startlinecolor": "#2a3f5f"
            },
            "type": "carpet"
           }
          ],
          "choropleth": [
           {
            "colorbar": {
             "outlinewidth": 0,
             "ticks": ""
            },
            "type": "choropleth"
           }
          ],
          "contour": [
           {
            "colorbar": {
             "outlinewidth": 0,
             "ticks": ""
            },
            "colorscale": [
             [
              0,
              "#0d0887"
             ],
             [
              0.1111111111111111,
              "#46039f"
             ],
             [
              0.2222222222222222,
              "#7201a8"
             ],
             [
              0.3333333333333333,
              "#9c179e"
             ],
             [
              0.4444444444444444,
              "#bd3786"
             ],
             [
              0.5555555555555556,
              "#d8576b"
             ],
             [
              0.6666666666666666,
              "#ed7953"
             ],
             [
              0.7777777777777778,
              "#fb9f3a"
             ],
             [
              0.8888888888888888,
              "#fdca26"
             ],
             [
              1,
              "#f0f921"
             ]
            ],
            "type": "contour"
           }
          ],
          "contourcarpet": [
           {
            "colorbar": {
             "outlinewidth": 0,
             "ticks": ""
            },
            "type": "contourcarpet"
           }
          ],
          "heatmap": [
           {
            "colorbar": {
             "outlinewidth": 0,
             "ticks": ""
            },
            "colorscale": [
             [
              0,
              "#0d0887"
             ],
             [
              0.1111111111111111,
              "#46039f"
             ],
             [
              0.2222222222222222,
              "#7201a8"
             ],
             [
              0.3333333333333333,
              "#9c179e"
             ],
             [
              0.4444444444444444,
              "#bd3786"
             ],
             [
              0.5555555555555556,
              "#d8576b"
             ],
             [
              0.6666666666666666,
              "#ed7953"
             ],
             [
              0.7777777777777778,
              "#fb9f3a"
             ],
             [
              0.8888888888888888,
              "#fdca26"
             ],
             [
              1,
              "#f0f921"
             ]
            ],
            "type": "heatmap"
           }
          ],
          "histogram": [
           {
            "marker": {
             "pattern": {
              "fillmode": "overlay",
              "size": 10,
              "solidity": 0.2
             }
            },
            "type": "histogram"
           }
          ],
          "histogram2d": [
           {
            "colorbar": {
             "outlinewidth": 0,
             "ticks": ""
            },
            "colorscale": [
             [
              0,
              "#0d0887"
             ],
             [
              0.1111111111111111,
              "#46039f"
             ],
             [
              0.2222222222222222,
              "#7201a8"
             ],
             [
              0.3333333333333333,
              "#9c179e"
             ],
             [
              0.4444444444444444,
              "#bd3786"
             ],
             [
              0.5555555555555556,
              "#d8576b"
             ],
             [
              0.6666666666666666,
              "#ed7953"
             ],
             [
              0.7777777777777778,
              "#fb9f3a"
             ],
             [
              0.8888888888888888,
              "#fdca26"
             ],
             [
              1,
              "#f0f921"
             ]
            ],
            "type": "histogram2d"
           }
          ],
          "histogram2dcontour": [
           {
            "colorbar": {
             "outlinewidth": 0,
             "ticks": ""
            },
            "colorscale": [
             [
              0,
              "#0d0887"
             ],
             [
              0.1111111111111111,
              "#46039f"
             ],
             [
              0.2222222222222222,
              "#7201a8"
             ],
             [
              0.3333333333333333,
              "#9c179e"
             ],
             [
              0.4444444444444444,
              "#bd3786"
             ],
             [
              0.5555555555555556,
              "#d8576b"
             ],
             [
              0.6666666666666666,
              "#ed7953"
             ],
             [
              0.7777777777777778,
              "#fb9f3a"
             ],
             [
              0.8888888888888888,
              "#fdca26"
             ],
             [
              1,
              "#f0f921"
             ]
            ],
            "type": "histogram2dcontour"
           }
          ],
          "mesh3d": [
           {
            "colorbar": {
             "outlinewidth": 0,
             "ticks": ""
            },
            "type": "mesh3d"
           }
          ],
          "parcoords": [
           {
            "line": {
             "colorbar": {
              "outlinewidth": 0,
              "ticks": ""
             }
            },
            "type": "parcoords"
           }
          ],
          "pie": [
           {
            "automargin": true,
            "type": "pie"
           }
          ],
          "scatter": [
           {
            "fillpattern": {
             "fillmode": "overlay",
             "size": 10,
             "solidity": 0.2
            },
            "type": "scatter"
           }
          ],
          "scatter3d": [
           {
            "line": {
             "colorbar": {
              "outlinewidth": 0,
              "ticks": ""
             }
            },
            "marker": {
             "colorbar": {
              "outlinewidth": 0,
              "ticks": ""
             }
            },
            "type": "scatter3d"
           }
          ],
          "scattercarpet": [
           {
            "marker": {
             "colorbar": {
              "outlinewidth": 0,
              "ticks": ""
             }
            },
            "type": "scattercarpet"
           }
          ],
          "scattergeo": [
           {
            "marker": {
             "colorbar": {
              "outlinewidth": 0,
              "ticks": ""
             }
            },
            "type": "scattergeo"
           }
          ],
          "scattergl": [
           {
            "marker": {
             "colorbar": {
              "outlinewidth": 0,
              "ticks": ""
             }
            },
            "type": "scattergl"
           }
          ],
          "scattermap": [
           {
            "marker": {
             "colorbar": {
              "outlinewidth": 0,
              "ticks": ""
             }
            },
            "type": "scattermap"
           }
          ],
          "scattermapbox": [
           {
            "marker": {
             "colorbar": {
              "outlinewidth": 0,
              "ticks": ""
             }
            },
            "type": "scattermapbox"
           }
          ],
          "scatterpolar": [
           {
            "marker": {
             "colorbar": {
              "outlinewidth": 0,
              "ticks": ""
             }
            },
            "type": "scatterpolar"
           }
          ],
          "scatterpolargl": [
           {
            "marker": {
             "colorbar": {
              "outlinewidth": 0,
              "ticks": ""
             }
            },
            "type": "scatterpolargl"
           }
          ],
          "scatterternary": [
           {
            "marker": {
             "colorbar": {
              "outlinewidth": 0,
              "ticks": ""
             }
            },
            "type": "scatterternary"
           }
          ],
          "surface": [
           {
            "colorbar": {
             "outlinewidth": 0,
             "ticks": ""
            },
            "colorscale": [
             [
              0,
              "#0d0887"
             ],
             [
              0.1111111111111111,
              "#46039f"
             ],
             [
              0.2222222222222222,
              "#7201a8"
             ],
             [
              0.3333333333333333,
              "#9c179e"
             ],
             [
              0.4444444444444444,
              "#bd3786"
             ],
             [
              0.5555555555555556,
              "#d8576b"
             ],
             [
              0.6666666666666666,
              "#ed7953"
             ],
             [
              0.7777777777777778,
              "#fb9f3a"
             ],
             [
              0.8888888888888888,
              "#fdca26"
             ],
             [
              1,
              "#f0f921"
             ]
            ],
            "type": "surface"
           }
          ],
          "table": [
           {
            "cells": {
             "fill": {
              "color": "#EBF0F8"
             },
             "line": {
              "color": "white"
             }
            },
            "header": {
             "fill": {
              "color": "#C8D4E3"
             },
             "line": {
              "color": "white"
             }
            },
            "type": "table"
           }
          ]
         },
         "layout": {
          "annotationdefaults": {
           "arrowcolor": "#2a3f5f",
           "arrowhead": 0,
           "arrowwidth": 1
          },
          "autotypenumbers": "strict",
          "coloraxis": {
           "colorbar": {
            "outlinewidth": 0,
            "ticks": ""
           }
          },
          "colorscale": {
           "diverging": [
            [
             0,
             "#8e0152"
            ],
            [
             0.1,
             "#c51b7d"
            ],
            [
             0.2,
             "#de77ae"
            ],
            [
             0.3,
             "#f1b6da"
            ],
            [
             0.4,
             "#fde0ef"
            ],
            [
             0.5,
             "#f7f7f7"
            ],
            [
             0.6,
             "#e6f5d0"
            ],
            [
             0.7,
             "#b8e186"
            ],
            [
             0.8,
             "#7fbc41"
            ],
            [
             0.9,
             "#4d9221"
            ],
            [
             1,
             "#276419"
            ]
           ],
           "sequential": [
            [
             0,
             "#0d0887"
            ],
            [
             0.1111111111111111,
             "#46039f"
            ],
            [
             0.2222222222222222,
             "#7201a8"
            ],
            [
             0.3333333333333333,
             "#9c179e"
            ],
            [
             0.4444444444444444,
             "#bd3786"
            ],
            [
             0.5555555555555556,
             "#d8576b"
            ],
            [
             0.6666666666666666,
             "#ed7953"
            ],
            [
             0.7777777777777778,
             "#fb9f3a"
            ],
            [
             0.8888888888888888,
             "#fdca26"
            ],
            [
             1,
             "#f0f921"
            ]
           ],
           "sequentialminus": [
            [
             0,
             "#0d0887"
            ],
            [
             0.1111111111111111,
             "#46039f"
            ],
            [
             0.2222222222222222,
             "#7201a8"
            ],
            [
             0.3333333333333333,
             "#9c179e"
            ],
            [
             0.4444444444444444,
             "#bd3786"
            ],
            [
             0.5555555555555556,
             "#d8576b"
            ],
            [
             0.6666666666666666,
             "#ed7953"
            ],
            [
             0.7777777777777778,
             "#fb9f3a"
            ],
            [
             0.8888888888888888,
             "#fdca26"
            ],
            [
             1,
             "#f0f921"
            ]
           ]
          },
          "colorway": [
           "#636efa",
           "#EF553B",
           "#00cc96",
           "#ab63fa",
           "#FFA15A",
           "#19d3f3",
           "#FF6692",
           "#B6E880",
           "#FF97FF",
           "#FECB52"
          ],
          "font": {
           "color": "#2a3f5f"
          },
          "geo": {
           "bgcolor": "white",
           "lakecolor": "white",
           "landcolor": "white",
           "showlakes": true,
           "showland": true,
           "subunitcolor": "#C8D4E3"
          },
          "hoverlabel": {
           "align": "left"
          },
          "hovermode": "closest",
          "mapbox": {
           "style": "light"
          },
          "paper_bgcolor": "white",
          "plot_bgcolor": "white",
          "polar": {
           "angularaxis": {
            "gridcolor": "#EBF0F8",
            "linecolor": "#EBF0F8",
            "ticks": ""
           },
           "bgcolor": "white",
           "radialaxis": {
            "gridcolor": "#EBF0F8",
            "linecolor": "#EBF0F8",
            "ticks": ""
           }
          },
          "scene": {
           "xaxis": {
            "backgroundcolor": "white",
            "gridcolor": "#DFE8F3",
            "gridwidth": 2,
            "linecolor": "#EBF0F8",
            "showbackground": true,
            "ticks": "",
            "zerolinecolor": "#EBF0F8"
           },
           "yaxis": {
            "backgroundcolor": "white",
            "gridcolor": "#DFE8F3",
            "gridwidth": 2,
            "linecolor": "#EBF0F8",
            "showbackground": true,
            "ticks": "",
            "zerolinecolor": "#EBF0F8"
           },
           "zaxis": {
            "backgroundcolor": "white",
            "gridcolor": "#DFE8F3",
            "gridwidth": 2,
            "linecolor": "#EBF0F8",
            "showbackground": true,
            "ticks": "",
            "zerolinecolor": "#EBF0F8"
           }
          },
          "shapedefaults": {
           "line": {
            "color": "#2a3f5f"
           }
          },
          "ternary": {
           "aaxis": {
            "gridcolor": "#DFE8F3",
            "linecolor": "#A2B1C6",
            "ticks": ""
           },
           "baxis": {
            "gridcolor": "#DFE8F3",
            "linecolor": "#A2B1C6",
            "ticks": ""
           },
           "bgcolor": "white",
           "caxis": {
            "gridcolor": "#DFE8F3",
            "linecolor": "#A2B1C6",
            "ticks": ""
           }
          },
          "title": {
           "x": 0.05
          },
          "xaxis": {
           "automargin": true,
           "gridcolor": "#EBF0F8",
           "linecolor": "#EBF0F8",
           "ticks": "",
           "title": {
            "standoff": 15
           },
           "zerolinecolor": "#EBF0F8",
           "zerolinewidth": 2
          },
          "yaxis": {
           "automargin": true,
           "gridcolor": "#EBF0F8",
           "linecolor": "#EBF0F8",
           "ticks": "",
           "title": {
            "standoff": 15
           },
           "zerolinecolor": "#EBF0F8",
           "zerolinewidth": 2
          }
         }
        },
        "title": {
         "text": "Percentage of Missing Values by Feature"
        },
        "xaxis": {
         "anchor": "y",
         "domain": [
          0,
          1
         ],
         "tickangle": -45,
         "title": {
          "text": "feature"
         }
        },
        "yaxis": {
         "anchor": "x",
         "domain": [
          0,
          1
         ],
         "title": {
          "text": "% Missing"
         }
        }
       }
      }
     },
     "metadata": {},
     "output_type": "display_data"
    }
   ],
   "source": [
    "# 1. Compute missing counts and percentages\n",
    "missing = df.isna().sum().reset_index()\n",
    "missing.columns = ['feature', 'n_missing']\n",
    "missing['pct_missing'] = missing['n_missing'] / len(df) * 100\n",
    "\n",
    "# 2. Show the table inline (plain DataFrame)\n",
    "print(missing.to_string(index=False))\n",
    "\n",
    "# 3. Create an interactive bar chart for missingness\n",
    "fig = px.bar(\n",
    "    missing,\n",
    "    x='feature',\n",
    "    y='pct_missing',\n",
    "    text=missing['pct_missing'].round(1).astype(str) + '%',\n",
    "    title='Percentage of Missing Values by Feature',\n",
    "    template='plotly_white'\n",
    ")\n",
    "fig.update_layout(xaxis_tickangle=-45, yaxis_title='% Missing')\n",
    "fig.update_traces(textposition='outside')\n",
    "\n",
    "# 4. Save and show\n",
    "fig.write_html(str(output_dir / 'missing_values_overview.html'))\n",
    "fig.show()"
   ]
  },
  {
   "cell_type": "markdown",
   "id": "ecd145fc",
   "metadata": {},
   "source": [
    "## Missing Values Overview\n",
    "\n",
    "Understanding the extent of missing data is crucial before moving on to feature engineering and modeling. Here’s what we found:\n",
    "\n",
    "- **Most features are complete**: CustomerID, Churn, PreferredLoginDevice, CityTier, PreferredPaymentMode, Gender, NumberOfDeviceRegistered, PreferedOrderCat, SatisfactionScore, MaritalStatus, NumberOfAddress, Complain, and CashbackAmount have 0% missing values.\n",
    "- **Partial gaps (4–6%)** appear in several numeric columns:\n",
    "  - **DaySinceLastOrder**: 307 missing values (5.5%)\n",
    "  - **OrderAmountHikeFromlastYear**: 265 missing values (4.7%)\n",
    "  - **Tenure**: 264 missing values (4.7%)\n",
    "  - **OrderCount**: 258 missing values (4.6%)\n",
    "  - **CouponUsed**: 256 missing values (4.5%)\n",
    "  - **HourSpendOnApp**: 255 missing values (4.5%)\n",
    "  - **WarehouseToHome**: 251 missing values (4.5%)\n",
    "\n",
    "These gaps are relatively small (< 6%), so we can address them with imputation strategies (e.g., median fill for continuous features) without discarding large portions of the dataset.\n",
    "\n",
    "An interactive visualization of these percentages has been saved to:  \n",
    "[Missing Values Overview](../plots/eda/missing_values_overview.html)"
   ]
  },
  {
   "cell_type": "markdown",
   "id": "eb240309",
   "metadata": {},
   "source": [
    "# Data Types & Memory Usage\n",
    "\n",
    "Verify dtypes and reduce memory footprint if needed."
   ]
  },
  {
   "cell_type": "code",
   "execution_count": 12,
   "id": "0bfa816a",
   "metadata": {},
   "outputs": [
    {
     "name": "stdout",
     "output_type": "stream",
     "text": [
      "CustomerID                       int64\n",
      "Churn                            int64\n",
      "Tenure                         float64\n",
      "PreferredLoginDevice            object\n",
      "CityTier                         int64\n",
      "WarehouseToHome                float64\n",
      "PreferredPaymentMode            object\n",
      "Gender                          object\n",
      "HourSpendOnApp                 float64\n",
      "NumberOfDeviceRegistered         int64\n",
      "PreferedOrderCat                object\n",
      "SatisfactionScore                int64\n",
      "MaritalStatus                   object\n",
      "NumberOfAddress                  int64\n",
      "Complain                         int64\n",
      "OrderAmountHikeFromlastYear    float64\n",
      "CouponUsed                     float64\n",
      "OrderCount                     float64\n",
      "DaySinceLastOrder              float64\n",
      "CashbackAmount                 float64\n",
      "dtype: object\n",
      "\n",
      "Memory usage (before optimization):\n",
      "2.3987112045288086 MB\n"
     ]
    }
   ],
   "source": [
    "# dtypes and memory\n",
    "print(df.dtypes)\n",
    "print('\\nMemory usage (before optimization):')\n",
    "print(df.memory_usage(deep=True).sum() / 1024**2, 'MB')"
   ]
  },
  {
   "cell_type": "markdown",
   "id": "3927b598",
   "metadata": {},
   "source": [
    "# Extended Descriptive Statistics\n",
    "\n",
    "Compute skewness, kurtosis and additional percentiles for numeric features."
   ]
  },
  {
   "cell_type": "code",
   "execution_count": 13,
   "id": "8a332b7c",
   "metadata": {},
   "outputs": [
    {
     "name": "stdout",
     "output_type": "stream",
     "text": [
      "                               count   mean   std   min     Q1  Median     Q3    max  Skew  Kurtosis\n",
      "Tenure                      5,366.00  10.19  8.56  0.00   2.00    9.00  16.00  61.00  0.74     -0.01\n",
      "HourSpendOnApp              5,375.00   2.93  0.72  0.00   2.00    3.00   3.00   5.00 -0.03     -0.67\n",
      "OrderCount                  5,372.00   3.01  2.94  1.00   1.00    2.00   3.00  16.00  2.20      4.72\n",
      "CashbackAmount              5,630.00 177.22 49.21  0.00 145.77  163.28 196.39 324.99  1.15      0.97\n",
      "SatisfactionScore           5,630.00   3.07  1.38  1.00   2.00    3.00   4.00   5.00 -0.14     -1.13\n",
      "DaySinceLastOrder           5,323.00   4.54  3.65  0.00   2.00    3.00   7.00  46.00  1.19      4.02\n",
      "CouponUsed                  5,374.00   1.75  1.89  0.00   1.00    1.00   2.00  16.00  2.55      9.13\n",
      "OrderAmountHikeFromlastYear 5,365.00  15.71  3.68 11.00  13.00   15.00  18.00  26.00  0.79     -0.28\n",
      "NumberOfDeviceRegistered    5,630.00   3.69  1.02  1.00   3.00    4.00   4.00   6.00 -0.40      0.58\n",
      "NumberOfAddress             5,630.00   4.21  2.58  1.00   2.00    3.00   6.00  22.00  1.09      0.96\n"
     ]
    }
   ],
   "source": [
    "# define numeric features\n",
    "num_feats = [\n",
    "    'Tenure', 'HourSpendOnApp', 'OrderCount', 'CashbackAmount',\n",
    "    'SatisfactionScore', 'DaySinceLastOrder', 'CouponUsed',\n",
    "    'OrderAmountHikeFromlastYear', 'NumberOfDeviceRegistered',\n",
    "    'NumberOfAddress'\n",
    "]\n",
    "\n",
    "# 1. Use .describe() to get basic stats including custom percentiles\n",
    "desc = df[num_feats].describe(percentiles=[.25, .5, .75]).T\n",
    "\n",
    "# 2. Rename percentile columns for clarity\n",
    "desc = desc.rename(columns={'25%': 'Q1', '50%': 'Median', '75%': 'Q3'})\n",
    "\n",
    "# 3. Compute skewness and kurtosis separately\n",
    "desc['Skew'] = df[num_feats].skew()\n",
    "desc['Kurtosis'] = df[num_feats].kurtosis()\n",
    "\n",
    "# 4. Reorder columns if desired\n",
    "desc = desc[['count', 'mean', 'std', 'min', 'Q1', 'Median', 'Q3', 'max', 'Skew', 'Kurtosis']]\n",
    "\n",
    "# 5. Display the table\n",
    "print(desc.to_string(float_format='{:,.2f}'.format))\n"
   ]
  },
  {
   "cell_type": "markdown",
   "id": "134b1097",
   "metadata": {},
   "source": [
    "## Extended Descriptive Statistics\n",
    "\n",
    "- **Tenure**: Moderately right-skewed (0.74) with most customers between 2–16 months; a few long-standing accounts extend to 61 months.\n",
    "- **HourSpendOnApp**: Nearly symmetric distribution around 3 hours, indicating consistent user engagement.\n",
    "- **OrderCount**: Strong right skew (2.20) and high kurtosis (4.72) — most customers place 1–3 orders, while a small group orders very frequently.\n",
    "- **CashbackAmount**: Moderate right skew (1.15); average cashback is \\$177, but some customers earn up to \\$325.\n",
    "- **DaySinceLastOrder**: Right-skewed (1.19) with most reordering within a week, yet some have long gaps (up to 46 days).\n",
    "- **CouponUsed**: Highly skewed (2.55) and peaked (9.13); majority use few coupons, a minority use many.\n",
    "- **OrderAmountHikeFromLastYear**: Slight right skew (0.79); typical year-over-year growth is 13–18%.\n",
    "- **Device & Address Counts**: Device registrations lean slightly left (–0.40), addresses skew right (1.09); most users have 3–4 devices and 2–6 addresses."
   ]
  },
  {
   "cell_type": "markdown",
   "id": "aa2a0029",
   "metadata": {},
   "source": [
    "# Distribution Plots for Skewed Features\n",
    "\n",
    "Visualize histograms + KDE for highly skewed variables."
   ]
  },
  {
   "cell_type": "code",
   "execution_count": 14,
   "id": "03970a8c",
   "metadata": {},
   "outputs": [
    {
     "data": {
      "application/vnd.plotly.v1+json": {
       "config": {
        "plotlyServerURL": "https://plot.ly"
       },
       "data": [
        {
         "autobinx": false,
         "histnorm": "probability density",
         "legendgroup": "OrderCount",
         "marker": {
          "color": "rgb(31, 119, 180)"
         },
         "name": "OrderCount",
         "opacity": 0.7,
         "type": "histogram",
         "x": {
          "bdata": "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",
          "dtype": "f8"
         },
         "xaxis": "x",
         "xbins": {
          "end": 16,
          "size": 1,
          "start": 1
         },
         "yaxis": "y"
        },
        {
         "legendgroup": "OrderCount",
         "marker": {
          "color": "rgb(31, 119, 180)"
         },
         "mode": "lines",
         "name": "OrderCount",
         "showlegend": false,
         "type": "scatter",
         "x": [
          1,
          1.03,
          1.06,
          1.09,
          1.12,
          1.15,
          1.18,
          1.21,
          1.24,
          1.27,
          1.3,
          1.33,
          1.3599999999999999,
          1.3900000000000001,
          1.42,
          1.45,
          1.48,
          1.51,
          1.54,
          1.5699999999999998,
          1.6,
          1.63,
          1.6600000000000001,
          1.69,
          1.72,
          1.75,
          1.78,
          1.81,
          1.8399999999999999,
          1.87,
          1.9,
          1.9300000000000002,
          1.96,
          1.99,
          2.02,
          2.05,
          2.08,
          2.1100000000000003,
          2.1399999999999997,
          2.17,
          2.2,
          2.23,
          2.26,
          2.29,
          2.3200000000000003,
          2.35,
          2.38,
          2.41,
          2.44,
          2.4699999999999998,
          2.5,
          2.5300000000000002,
          2.56,
          2.59,
          2.62,
          2.65,
          2.6799999999999997,
          2.71,
          2.74,
          2.77,
          2.8,
          2.83,
          2.8600000000000003,
          2.8899999999999997,
          2.92,
          2.95,
          2.98,
          3.01,
          3.04,
          3.07,
          3.1,
          3.13,
          3.16,
          3.19,
          3.22,
          3.25,
          3.28,
          3.31,
          3.34,
          3.37,
          3.4,
          3.43,
          3.46,
          3.49,
          3.52,
          3.55,
          3.58,
          3.61,
          3.64,
          3.67,
          3.7,
          3.73,
          3.76,
          3.79,
          3.82,
          3.85,
          3.88,
          3.91,
          3.94,
          3.97,
          4,
          4.029999999999999,
          4.0600000000000005,
          4.09,
          4.12,
          4.15,
          4.18,
          4.21,
          4.24,
          4.27,
          4.3,
          4.33,
          4.359999999999999,
          4.390000000000001,
          4.42,
          4.45,
          4.48,
          4.51,
          4.54,
          4.57,
          4.6,
          4.63,
          4.66,
          4.6899999999999995,
          4.720000000000001,
          4.75,
          4.779999999999999,
          4.8100000000000005,
          4.84,
          4.87,
          4.9,
          4.93,
          4.96,
          4.99,
          5.02,
          5.05,
          5.08,
          5.11,
          5.14,
          5.17,
          5.2,
          5.23,
          5.26,
          5.29,
          5.32,
          5.35,
          5.38,
          5.41,
          5.44,
          5.47,
          5.5,
          5.53,
          5.56,
          5.59,
          5.62,
          5.65,
          5.68,
          5.71,
          5.74,
          5.77,
          5.8,
          5.83,
          5.86,
          5.89,
          5.92,
          5.95,
          5.98,
          6.01,
          6.04,
          6.07,
          6.1,
          6.13,
          6.16,
          6.19,
          6.22,
          6.25,
          6.28,
          6.31,
          6.34,
          6.37,
          6.4,
          6.43,
          6.46,
          6.49,
          6.52,
          6.55,
          6.58,
          6.61,
          6.64,
          6.67,
          6.7,
          6.73,
          6.76,
          6.79,
          6.82,
          6.85,
          6.88,
          6.91,
          6.94,
          6.97,
          7,
          7.03,
          7.06,
          7.09,
          7.12,
          7.15,
          7.18,
          7.21,
          7.24,
          7.27,
          7.3,
          7.33,
          7.36,
          7.39,
          7.42,
          7.45,
          7.48,
          7.51,
          7.54,
          7.57,
          7.6,
          7.63,
          7.66,
          7.69,
          7.72,
          7.75,
          7.78,
          7.81,
          7.84,
          7.87,
          7.9,
          7.93,
          7.96,
          7.99,
          8.02,
          8.05,
          8.08,
          8.11,
          8.14,
          8.17,
          8.2,
          8.23,
          8.26,
          8.29,
          8.32,
          8.35,
          8.379999999999999,
          8.41,
          8.440000000000001,
          8.469999999999999,
          8.5,
          8.530000000000001,
          8.559999999999999,
          8.59,
          8.620000000000001,
          8.65,
          8.68,
          8.71,
          8.74,
          8.77,
          8.8,
          8.83,
          8.86,
          8.89,
          8.92,
          8.95,
          8.98,
          9.01,
          9.04,
          9.07,
          9.1,
          9.13,
          9.16,
          9.19,
          9.22,
          9.25,
          9.28,
          9.31,
          9.34,
          9.37,
          9.4,
          9.43,
          9.46,
          9.49,
          9.52,
          9.55,
          9.58,
          9.61,
          9.64,
          9.67,
          9.7,
          9.73,
          9.76,
          9.79,
          9.82,
          9.85,
          9.88,
          9.91,
          9.94,
          9.97,
          10,
          10.03,
          10.06,
          10.09,
          10.12,
          10.15,
          10.18,
          10.21,
          10.24,
          10.27,
          10.3,
          10.33,
          10.36,
          10.39,
          10.42,
          10.45,
          10.48,
          10.51,
          10.54,
          10.57,
          10.6,
          10.63,
          10.66,
          10.69,
          10.72,
          10.75,
          10.78,
          10.81,
          10.84,
          10.87,
          10.9,
          10.93,
          10.96,
          10.99,
          11.02,
          11.05,
          11.08,
          11.11,
          11.14,
          11.17,
          11.2,
          11.23,
          11.26,
          11.29,
          11.32,
          11.35,
          11.38,
          11.41,
          11.44,
          11.47,
          11.5,
          11.53,
          11.56,
          11.59,
          11.62,
          11.65,
          11.68,
          11.71,
          11.74,
          11.77,
          11.8,
          11.83,
          11.86,
          11.89,
          11.92,
          11.95,
          11.98,
          12.01,
          12.04,
          12.07,
          12.1,
          12.13,
          12.16,
          12.19,
          12.22,
          12.25,
          12.28,
          12.31,
          12.34,
          12.37,
          12.4,
          12.43,
          12.46,
          12.49,
          12.52,
          12.55,
          12.58,
          12.61,
          12.64,
          12.67,
          12.7,
          12.73,
          12.76,
          12.79,
          12.82,
          12.85,
          12.88,
          12.91,
          12.94,
          12.97,
          13,
          13.03,
          13.06,
          13.09,
          13.12,
          13.15,
          13.18,
          13.21,
          13.24,
          13.27,
          13.3,
          13.33,
          13.36,
          13.39,
          13.42,
          13.45,
          13.48,
          13.51,
          13.54,
          13.57,
          13.6,
          13.63,
          13.66,
          13.69,
          13.72,
          13.75,
          13.78,
          13.81,
          13.84,
          13.87,
          13.9,
          13.93,
          13.96,
          13.99,
          14.02,
          14.05,
          14.08,
          14.11,
          14.14,
          14.17,
          14.2,
          14.23,
          14.26,
          14.29,
          14.32,
          14.35,
          14.38,
          14.41,
          14.44,
          14.47,
          14.5,
          14.53,
          14.56,
          14.59,
          14.62,
          14.65,
          14.68,
          14.71,
          14.74,
          14.77,
          14.8,
          14.83,
          14.86,
          14.89,
          14.92,
          14.95,
          14.98,
          15.01,
          15.04,
          15.07,
          15.1,
          15.13,
          15.16,
          15.19,
          15.22,
          15.25,
          15.28,
          15.31,
          15.34,
          15.37,
          15.4,
          15.43,
          15.46,
          15.49,
          15.52,
          15.55,
          15.58,
          15.61,
          15.64,
          15.67,
          15.7,
          15.73,
          15.76,
          15.79,
          15.82,
          15.85,
          15.88,
          15.91,
          15.94,
          15.97
         ],
         "xaxis": "x",
         "y": {
          "bdata": "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",
          "dtype": "f8"
         },
         "yaxis": "y"
        }
       ],
       "layout": {
        "barmode": "overlay",
        "hovermode": "closest",
        "legend": {
         "traceorder": "reversed"
        },
        "template": {
         "data": {
          "bar": [
           {
            "error_x": {
             "color": "#2a3f5f"
            },
            "error_y": {
             "color": "#2a3f5f"
            },
            "marker": {
             "line": {
              "color": "white",
              "width": 0.5
             },
             "pattern": {
              "fillmode": "overlay",
              "size": 10,
              "solidity": 0.2
             }
            },
            "type": "bar"
           }
          ],
          "barpolar": [
           {
            "marker": {
             "line": {
              "color": "white",
              "width": 0.5
             },
             "pattern": {
              "fillmode": "overlay",
              "size": 10,
              "solidity": 0.2
             }
            },
            "type": "barpolar"
           }
          ],
          "carpet": [
           {
            "aaxis": {
             "endlinecolor": "#2a3f5f",
             "gridcolor": "#C8D4E3",
             "linecolor": "#C8D4E3",
             "minorgridcolor": "#C8D4E3",
             "startlinecolor": "#2a3f5f"
            },
            "baxis": {
             "endlinecolor": "#2a3f5f",
             "gridcolor": "#C8D4E3",
             "linecolor": "#C8D4E3",
             "minorgridcolor": "#C8D4E3",
             "startlinecolor": "#2a3f5f"
            },
            "type": "carpet"
           }
          ],
          "choropleth": [
           {
            "colorbar": {
             "outlinewidth": 0,
             "ticks": ""
            },
            "type": "choropleth"
           }
          ],
          "contour": [
           {
            "colorbar": {
             "outlinewidth": 0,
             "ticks": ""
            },
            "colorscale": [
             [
              0,
              "#0d0887"
             ],
             [
              0.1111111111111111,
              "#46039f"
             ],
             [
              0.2222222222222222,
              "#7201a8"
             ],
             [
              0.3333333333333333,
              "#9c179e"
             ],
             [
              0.4444444444444444,
              "#bd3786"
             ],
             [
              0.5555555555555556,
              "#d8576b"
             ],
             [
              0.6666666666666666,
              "#ed7953"
             ],
             [
              0.7777777777777778,
              "#fb9f3a"
             ],
             [
              0.8888888888888888,
              "#fdca26"
             ],
             [
              1,
              "#f0f921"
             ]
            ],
            "type": "contour"
           }
          ],
          "contourcarpet": [
           {
            "colorbar": {
             "outlinewidth": 0,
             "ticks": ""
            },
            "type": "contourcarpet"
           }
          ],
          "heatmap": [
           {
            "colorbar": {
             "outlinewidth": 0,
             "ticks": ""
            },
            "colorscale": [
             [
              0,
              "#0d0887"
             ],
             [
              0.1111111111111111,
              "#46039f"
             ],
             [
              0.2222222222222222,
              "#7201a8"
             ],
             [
              0.3333333333333333,
              "#9c179e"
             ],
             [
              0.4444444444444444,
              "#bd3786"
             ],
             [
              0.5555555555555556,
              "#d8576b"
             ],
             [
              0.6666666666666666,
              "#ed7953"
             ],
             [
              0.7777777777777778,
              "#fb9f3a"
             ],
             [
              0.8888888888888888,
              "#fdca26"
             ],
             [
              1,
              "#f0f921"
             ]
            ],
            "type": "heatmap"
           }
          ],
          "histogram": [
           {
            "marker": {
             "pattern": {
              "fillmode": "overlay",
              "size": 10,
              "solidity": 0.2
             }
            },
            "type": "histogram"
           }
          ],
          "histogram2d": [
           {
            "colorbar": {
             "outlinewidth": 0,
             "ticks": ""
            },
            "colorscale": [
             [
              0,
              "#0d0887"
             ],
             [
              0.1111111111111111,
              "#46039f"
             ],
             [
              0.2222222222222222,
              "#7201a8"
             ],
             [
              0.3333333333333333,
              "#9c179e"
             ],
             [
              0.4444444444444444,
              "#bd3786"
             ],
             [
              0.5555555555555556,
              "#d8576b"
             ],
             [
              0.6666666666666666,
              "#ed7953"
             ],
             [
              0.7777777777777778,
              "#fb9f3a"
             ],
             [
              0.8888888888888888,
              "#fdca26"
             ],
             [
              1,
              "#f0f921"
             ]
            ],
            "type": "histogram2d"
           }
          ],
          "histogram2dcontour": [
           {
            "colorbar": {
             "outlinewidth": 0,
             "ticks": ""
            },
            "colorscale": [
             [
              0,
              "#0d0887"
             ],
             [
              0.1111111111111111,
              "#46039f"
             ],
             [
              0.2222222222222222,
              "#7201a8"
             ],
             [
              0.3333333333333333,
              "#9c179e"
             ],
             [
              0.4444444444444444,
              "#bd3786"
             ],
             [
              0.5555555555555556,
              "#d8576b"
             ],
             [
              0.6666666666666666,
              "#ed7953"
             ],
             [
              0.7777777777777778,
              "#fb9f3a"
             ],
             [
              0.8888888888888888,
              "#fdca26"
             ],
             [
              1,
              "#f0f921"
             ]
            ],
            "type": "histogram2dcontour"
           }
          ],
          "mesh3d": [
           {
            "colorbar": {
             "outlinewidth": 0,
             "ticks": ""
            },
            "type": "mesh3d"
           }
          ],
          "parcoords": [
           {
            "line": {
             "colorbar": {
              "outlinewidth": 0,
              "ticks": ""
             }
            },
            "type": "parcoords"
           }
          ],
          "pie": [
           {
            "automargin": true,
            "type": "pie"
           }
          ],
          "scatter": [
           {
            "fillpattern": {
             "fillmode": "overlay",
             "size": 10,
             "solidity": 0.2
            },
            "type": "scatter"
           }
          ],
          "scatter3d": [
           {
            "line": {
             "colorbar": {
              "outlinewidth": 0,
              "ticks": ""
             }
            },
            "marker": {
             "colorbar": {
              "outlinewidth": 0,
              "ticks": ""
             }
            },
            "type": "scatter3d"
           }
          ],
          "scattercarpet": [
           {
            "marker": {
             "colorbar": {
              "outlinewidth": 0,
              "ticks": ""
             }
            },
            "type": "scattercarpet"
           }
          ],
          "scattergeo": [
           {
            "marker": {
             "colorbar": {
              "outlinewidth": 0,
              "ticks": ""
             }
            },
            "type": "scattergeo"
           }
          ],
          "scattergl": [
           {
            "marker": {
             "colorbar": {
              "outlinewidth": 0,
              "ticks": ""
             }
            },
            "type": "scattergl"
           }
          ],
          "scattermap": [
           {
            "marker": {
             "colorbar": {
              "outlinewidth": 0,
              "ticks": ""
             }
            },
            "type": "scattermap"
           }
          ],
          "scattermapbox": [
           {
            "marker": {
             "colorbar": {
              "outlinewidth": 0,
              "ticks": ""
             }
            },
            "type": "scattermapbox"
           }
          ],
          "scatterpolar": [
           {
            "marker": {
             "colorbar": {
              "outlinewidth": 0,
              "ticks": ""
             }
            },
            "type": "scatterpolar"
           }
          ],
          "scatterpolargl": [
           {
            "marker": {
             "colorbar": {
              "outlinewidth": 0,
              "ticks": ""
             }
            },
            "type": "scatterpolargl"
           }
          ],
          "scatterternary": [
           {
            "marker": {
             "colorbar": {
              "outlinewidth": 0,
              "ticks": ""
             }
            },
            "type": "scatterternary"
           }
          ],
          "surface": [
           {
            "colorbar": {
             "outlinewidth": 0,
             "ticks": ""
            },
            "colorscale": [
             [
              0,
              "#0d0887"
             ],
             [
              0.1111111111111111,
              "#46039f"
             ],
             [
              0.2222222222222222,
              "#7201a8"
             ],
             [
              0.3333333333333333,
              "#9c179e"
             ],
             [
              0.4444444444444444,
              "#bd3786"
             ],
             [
              0.5555555555555556,
              "#d8576b"
             ],
             [
              0.6666666666666666,
              "#ed7953"
             ],
             [
              0.7777777777777778,
              "#fb9f3a"
             ],
             [
              0.8888888888888888,
              "#fdca26"
             ],
             [
              1,
              "#f0f921"
             ]
            ],
            "type": "surface"
           }
          ],
          "table": [
           {
            "cells": {
             "fill": {
              "color": "#EBF0F8"
             },
             "line": {
              "color": "white"
             }
            },
            "header": {
             "fill": {
              "color": "#C8D4E3"
             },
             "line": {
              "color": "white"
             }
            },
            "type": "table"
           }
          ]
         },
         "layout": {
          "annotationdefaults": {
           "arrowcolor": "#2a3f5f",
           "arrowhead": 0,
           "arrowwidth": 1
          },
          "autotypenumbers": "strict",
          "coloraxis": {
           "colorbar": {
            "outlinewidth": 0,
            "ticks": ""
           }
          },
          "colorscale": {
           "diverging": [
            [
             0,
             "#8e0152"
            ],
            [
             0.1,
             "#c51b7d"
            ],
            [
             0.2,
             "#de77ae"
            ],
            [
             0.3,
             "#f1b6da"
            ],
            [
             0.4,
             "#fde0ef"
            ],
            [
             0.5,
             "#f7f7f7"
            ],
            [
             0.6,
             "#e6f5d0"
            ],
            [
             0.7,
             "#b8e186"
            ],
            [
             0.8,
             "#7fbc41"
            ],
            [
             0.9,
             "#4d9221"
            ],
            [
             1,
             "#276419"
            ]
           ],
           "sequential": [
            [
             0,
             "#0d0887"
            ],
            [
             0.1111111111111111,
             "#46039f"
            ],
            [
             0.2222222222222222,
             "#7201a8"
            ],
            [
             0.3333333333333333,
             "#9c179e"
            ],
            [
             0.4444444444444444,
             "#bd3786"
            ],
            [
             0.5555555555555556,
             "#d8576b"
            ],
            [
             0.6666666666666666,
             "#ed7953"
            ],
            [
             0.7777777777777778,
             "#fb9f3a"
            ],
            [
             0.8888888888888888,
             "#fdca26"
            ],
            [
             1,
             "#f0f921"
            ]
           ],
           "sequentialminus": [
            [
             0,
             "#0d0887"
            ],
            [
             0.1111111111111111,
             "#46039f"
            ],
            [
             0.2222222222222222,
             "#7201a8"
            ],
            [
             0.3333333333333333,
             "#9c179e"
            ],
            [
             0.4444444444444444,
             "#bd3786"
            ],
            [
             0.5555555555555556,
             "#d8576b"
            ],
            [
             0.6666666666666666,
             "#ed7953"
            ],
            [
             0.7777777777777778,
             "#fb9f3a"
            ],
            [
             0.8888888888888888,
             "#fdca26"
            ],
            [
             1,
             "#f0f921"
            ]
           ]
          },
          "colorway": [
           "#636efa",
           "#EF553B",
           "#00cc96",
           "#ab63fa",
           "#FFA15A",
           "#19d3f3",
           "#FF6692",
           "#B6E880",
           "#FF97FF",
           "#FECB52"
          ],
          "font": {
           "color": "#2a3f5f"
          },
          "geo": {
           "bgcolor": "white",
           "lakecolor": "white",
           "landcolor": "white",
           "showlakes": true,
           "showland": true,
           "subunitcolor": "#C8D4E3"
          },
          "hoverlabel": {
           "align": "left"
          },
          "hovermode": "closest",
          "mapbox": {
           "style": "light"
          },
          "paper_bgcolor": "white",
          "plot_bgcolor": "white",
          "polar": {
           "angularaxis": {
            "gridcolor": "#EBF0F8",
            "linecolor": "#EBF0F8",
            "ticks": ""
           },
           "bgcolor": "white",
           "radialaxis": {
            "gridcolor": "#EBF0F8",
            "linecolor": "#EBF0F8",
            "ticks": ""
           }
          },
          "scene": {
           "xaxis": {
            "backgroundcolor": "white",
            "gridcolor": "#DFE8F3",
            "gridwidth": 2,
            "linecolor": "#EBF0F8",
            "showbackground": true,
            "ticks": "",
            "zerolinecolor": "#EBF0F8"
           },
           "yaxis": {
            "backgroundcolor": "white",
            "gridcolor": "#DFE8F3",
            "gridwidth": 2,
            "linecolor": "#EBF0F8",
            "showbackground": true,
            "ticks": "",
            "zerolinecolor": "#EBF0F8"
           },
           "zaxis": {
            "backgroundcolor": "white",
            "gridcolor": "#DFE8F3",
            "gridwidth": 2,
            "linecolor": "#EBF0F8",
            "showbackground": true,
            "ticks": "",
            "zerolinecolor": "#EBF0F8"
           }
          },
          "shapedefaults": {
           "line": {
            "color": "#2a3f5f"
           }
          },
          "ternary": {
           "aaxis": {
            "gridcolor": "#DFE8F3",
            "linecolor": "#A2B1C6",
            "ticks": ""
           },
           "baxis": {
            "gridcolor": "#DFE8F3",
            "linecolor": "#A2B1C6",
            "ticks": ""
           },
           "bgcolor": "white",
           "caxis": {
            "gridcolor": "#DFE8F3",
            "linecolor": "#A2B1C6",
            "ticks": ""
           }
          },
          "title": {
           "x": 0.05
          },
          "xaxis": {
           "automargin": true,
           "gridcolor": "#EBF0F8",
           "linecolor": "#EBF0F8",
           "ticks": "",
           "title": {
            "standoff": 15
           },
           "zerolinecolor": "#EBF0F8",
           "zerolinewidth": 2
          },
          "yaxis": {
           "automargin": true,
           "gridcolor": "#EBF0F8",
           "linecolor": "#EBF0F8",
           "ticks": "",
           "title": {
            "standoff": 15
           },
           "zerolinecolor": "#EBF0F8",
           "zerolinewidth": 2
          }
         }
        },
        "title": {
         "text": "Distribution of OrderCount"
        },
        "xaxis": {
         "anchor": "y2",
         "domain": [
          0,
          1
         ],
         "zeroline": false
        },
        "yaxis": {
         "anchor": "free",
         "domain": [
          0,
          1
         ],
         "position": 0
        }
       }
      }
     },
     "metadata": {},
     "output_type": "display_data"
    },
    {
     "data": {
      "application/vnd.plotly.v1+json": {
       "config": {
        "plotlyServerURL": "https://plot.ly"
       },
       "data": [
        {
         "autobinx": false,
         "histnorm": "probability density",
         "legendgroup": "CashbackAmount",
         "marker": {
          "color": "rgb(31, 119, 180)"
         },
         "name": "CashbackAmount",
         "opacity": 0.7,
         "type": "histogram",
         "x": {
          "bdata": "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",
          "dtype": "f8"
         },
         "xaxis": "x",
         "xbins": {
          "end": 324.99,
          "size": 1,
          "start": 0
         },
         "yaxis": "y"
        },
        {
         "legendgroup": "CashbackAmount",
         "marker": {
          "color": "rgb(31, 119, 180)"
         },
         "mode": "lines",
         "name": "CashbackAmount",
         "showlegend": false,
         "type": "scatter",
         "x": [
          0,
          0.64998,
          1.29996,
          1.94994,
          2.59992,
          3.2499000000000002,
          3.89988,
          4.549860000000001,
          5.19984,
          5.849819999999999,
          6.4998000000000005,
          7.149780000000001,
          7.79976,
          8.44974,
          9.099720000000001,
          9.7497,
          10.39968,
          11.04966,
          11.699639999999999,
          12.349620000000002,
          12.999600000000001,
          13.64958,
          14.299560000000001,
          14.94954,
          15.59952,
          16.2495,
          16.89948,
          17.54946,
          18.199440000000003,
          18.849420000000002,
          19.4994,
          20.14938,
          20.79936,
          21.44934,
          22.09932,
          22.749299999999998,
          23.399279999999997,
          24.04926,
          24.699240000000003,
          25.349220000000003,
          25.999200000000002,
          26.64918,
          27.29916,
          27.94914,
          28.599120000000003,
          29.249100000000002,
          29.89908,
          30.54906,
          31.19904,
          31.84902,
          32.499,
          33.14898,
          33.79896,
          34.44894,
          35.09892,
          35.7489,
          36.398880000000005,
          37.04886,
          37.698840000000004,
          38.348819999999996,
          38.9988,
          39.64878,
          40.29876,
          40.94874,
          41.59872,
          42.24870000000001,
          42.89868,
          43.548660000000005,
          44.19864,
          44.848620000000004,
          45.498599999999996,
          46.14858,
          46.798559999999995,
          47.44854,
          48.09852,
          48.7485,
          49.398480000000006,
          50.04846,
          50.698440000000005,
          51.34842,
          51.998400000000004,
          52.64838,
          53.29836,
          53.94834,
          54.59832,
          55.2483,
          55.89828,
          56.54826,
          57.198240000000006,
          57.84822,
          58.498200000000004,
          59.14818,
          59.79816,
          60.44814,
          61.09812,
          61.7481,
          62.39808,
          63.04806000000001,
          63.69804,
          64.34802,
          64.998,
          65.64797999999999,
          66.29796,
          66.94794,
          67.59792,
          68.24790000000002,
          68.89788,
          69.54786,
          70.19784,
          70.84782000000001,
          71.4978,
          72.14778,
          72.79776000000001,
          73.44774000000001,
          74.09772,
          74.7477,
          75.39768000000001,
          76.04766000000001,
          76.69763999999999,
          77.34761999999999,
          77.9976,
          78.64758,
          79.29756,
          79.94754,
          80.59752,
          81.2475,
          81.89748,
          82.54746,
          83.19744,
          83.84742,
          84.49740000000001,
          85.14738,
          85.79736,
          86.44734,
          87.09732000000001,
          87.74730000000001,
          88.39728,
          89.04726000000001,
          89.69724000000001,
          90.34722000000001,
          90.99719999999999,
          91.64718,
          92.29716,
          92.94714,
          93.59711999999999,
          94.2471,
          94.89708,
          95.54706,
          96.19704,
          96.84702,
          97.497,
          98.14698,
          98.79696000000001,
          99.44694,
          100.09692,
          100.74690000000001,
          101.39688000000001,
          102.04686,
          102.69684,
          103.34682000000001,
          103.99680000000001,
          104.64677999999999,
          105.29676,
          105.94674,
          106.59672,
          107.2467,
          107.89668,
          108.54666,
          109.19664,
          109.84662000000002,
          110.4966,
          111.14658,
          111.79656,
          112.44654000000001,
          113.09652,
          113.7465,
          114.39648000000001,
          115.04646000000001,
          115.69644,
          116.34642,
          116.99640000000001,
          117.64638000000001,
          118.29636,
          118.94633999999999,
          119.59632,
          120.2463,
          120.89628,
          121.54626,
          122.19624,
          122.84622,
          123.4962,
          124.14618,
          124.79616,
          125.44614,
          126.09612000000001,
          126.74610000000001,
          127.39608,
          128.04606,
          128.69604,
          129.34602,
          129.996,
          130.64598,
          131.29595999999998,
          131.94594,
          132.59592,
          133.2459,
          133.89588,
          134.54586,
          135.19584,
          135.84582,
          136.49580000000003,
          137.14578,
          137.79576,
          138.44574,
          139.09572,
          139.7457,
          140.39568,
          141.04566,
          141.69564000000003,
          142.34562,
          142.9956,
          143.64558000000002,
          144.29556,
          144.94554,
          145.59552000000002,
          146.2455,
          146.89548000000002,
          147.54546,
          148.19544,
          148.84542000000002,
          149.4954,
          150.14538000000002,
          150.79536000000002,
          151.44534,
          152.09532000000002,
          152.74530000000001,
          153.39527999999999,
          154.04526,
          154.69523999999998,
          155.34522,
          155.9952,
          156.64517999999998,
          157.29516,
          157.94514,
          158.59512,
          159.2451,
          159.89508,
          160.54506,
          161.19504,
          161.84502,
          162.495,
          163.14498,
          163.79496,
          164.44494,
          165.09492,
          165.7449,
          166.39488,
          167.04486000000003,
          167.69484,
          168.34482,
          168.99480000000003,
          169.64478,
          170.29476,
          170.94474,
          171.59472,
          172.24470000000002,
          172.89468,
          173.54466,
          174.19464000000002,
          174.84462,
          175.49460000000002,
          176.14458000000002,
          176.79456,
          177.44454000000002,
          178.09452000000002,
          178.7445,
          179.39448000000002,
          180.04446,
          180.69444000000001,
          181.34442,
          181.99439999999998,
          182.64438,
          183.29436,
          183.94433999999998,
          184.59432,
          185.2443,
          185.89428,
          186.54426,
          187.19423999999998,
          187.84422,
          188.4942,
          189.14418,
          189.79416,
          190.44414,
          191.09412,
          191.7441,
          192.39408,
          193.04406,
          193.69404,
          194.34402000000003,
          194.994,
          195.64398,
          196.29396,
          196.94394,
          197.59392000000003,
          198.2439,
          198.89388,
          199.54386000000002,
          200.19384,
          200.84382,
          201.49380000000002,
          202.14378,
          202.79376000000002,
          203.44374000000002,
          204.09372,
          204.74370000000002,
          205.39368,
          206.04366000000002,
          206.69364000000002,
          207.34362,
          207.99360000000001,
          208.64358000000001,
          209.29355999999999,
          209.94354,
          210.59352,
          211.2435,
          211.89348,
          212.54345999999998,
          213.19344,
          213.84342,
          214.4934,
          215.14338,
          215.79336,
          216.44334,
          217.09332,
          217.7433,
          218.39328,
          219.04326,
          219.69324000000003,
          220.34322,
          220.9932,
          221.64318,
          222.29316,
          222.94314000000003,
          223.59312,
          224.2431,
          224.89308000000003,
          225.54306,
          226.19304,
          226.84302000000002,
          227.493,
          228.14298000000002,
          228.79296000000002,
          229.44294,
          230.09292000000002,
          230.7429,
          231.39288,
          232.04286000000002,
          232.69284,
          233.34282000000002,
          233.99280000000002,
          234.64278,
          235.29276000000002,
          235.94274000000001,
          236.59272,
          237.2427,
          237.89267999999998,
          238.54266,
          239.19264,
          239.84261999999998,
          240.4926,
          241.14258,
          241.79256,
          242.44254,
          243.09252,
          243.7425,
          244.39248,
          245.04246000000003,
          245.69244,
          246.34242,
          246.9924,
          247.64238,
          248.29236,
          248.94234,
          249.59232,
          250.24230000000003,
          250.89228,
          251.54226,
          252.19224000000003,
          252.84222,
          253.49220000000003,
          254.14218,
          254.79216,
          255.44214000000002,
          256.09212,
          256.7421,
          257.39208,
          258.04206,
          258.69204,
          259.34202,
          259.992,
          260.64198,
          261.29196,
          261.94194,
          262.59191999999996,
          263.24190000000004,
          263.89188,
          264.54186,
          265.19184,
          265.84182,
          266.4918,
          267.14178000000004,
          267.79176,
          268.44174,
          269.09172,
          269.74170000000004,
          270.39168,
          271.04166000000004,
          271.69164,
          272.34162,
          272.99160000000006,
          273.64158000000003,
          274.29156,
          274.94154,
          275.59152,
          276.2415,
          276.89148,
          277.54146000000003,
          278.19144,
          278.84141999999997,
          279.4914,
          280.14138,
          280.79136,
          281.44134,
          282.09132,
          282.74129999999997,
          283.39128000000005,
          284.04126,
          284.69124,
          285.34122,
          285.9912,
          286.64118,
          287.29116000000005,
          287.94114,
          288.59112,
          289.2411,
          289.89108,
          290.54106,
          291.19104000000004,
          291.84102,
          292.491,
          293.14097999999996,
          293.79096000000004,
          294.44094,
          295.09092,
          295.7409,
          296.39088,
          297.04086,
          297.69084000000004,
          298.34082,
          298.9908,
          299.64078,
          300.29076000000003,
          300.94074,
          301.59072000000003,
          302.2407,
          302.89068,
          303.54066000000006,
          304.19064000000003,
          304.84062,
          305.49060000000003,
          306.14058,
          306.79055999999997,
          307.44054000000006,
          308.09052,
          308.7405,
          309.39047999999997,
          310.04046,
          310.69044,
          311.34042,
          311.9904,
          312.64038,
          313.29035999999996,
          313.94034000000005,
          314.59032,
          315.2403,
          315.89028,
          316.54026,
          317.19024,
          317.84022000000004,
          318.4902,
          319.14018,
          319.79016,
          320.44014000000004,
          321.09012,
          321.74010000000004,
          322.39008,
          323.04006,
          323.69004,
          324.34002000000004
         ],
         "xaxis": "x",
         "y": {
          "bdata": "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",
          "dtype": "f8"
         },
         "yaxis": "y"
        }
       ],
       "layout": {
        "barmode": "overlay",
        "hovermode": "closest",
        "legend": {
         "traceorder": "reversed"
        },
        "template": {
         "data": {
          "bar": [
           {
            "error_x": {
             "color": "#2a3f5f"
            },
            "error_y": {
             "color": "#2a3f5f"
            },
            "marker": {
             "line": {
              "color": "white",
              "width": 0.5
             },
             "pattern": {
              "fillmode": "overlay",
              "size": 10,
              "solidity": 0.2
             }
            },
            "type": "bar"
           }
          ],
          "barpolar": [
           {
            "marker": {
             "line": {
              "color": "white",
              "width": 0.5
             },
             "pattern": {
              "fillmode": "overlay",
              "size": 10,
              "solidity": 0.2
             }
            },
            "type": "barpolar"
           }
          ],
          "carpet": [
           {
            "aaxis": {
             "endlinecolor": "#2a3f5f",
             "gridcolor": "#C8D4E3",
             "linecolor": "#C8D4E3",
             "minorgridcolor": "#C8D4E3",
             "startlinecolor": "#2a3f5f"
            },
            "baxis": {
             "endlinecolor": "#2a3f5f",
             "gridcolor": "#C8D4E3",
             "linecolor": "#C8D4E3",
             "minorgridcolor": "#C8D4E3",
             "startlinecolor": "#2a3f5f"
            },
            "type": "carpet"
           }
          ],
          "choropleth": [
           {
            "colorbar": {
             "outlinewidth": 0,
             "ticks": ""
            },
            "type": "choropleth"
           }
          ],
          "contour": [
           {
            "colorbar": {
             "outlinewidth": 0,
             "ticks": ""
            },
            "colorscale": [
             [
              0,
              "#0d0887"
             ],
             [
              0.1111111111111111,
              "#46039f"
             ],
             [
              0.2222222222222222,
              "#7201a8"
             ],
             [
              0.3333333333333333,
              "#9c179e"
             ],
             [
              0.4444444444444444,
              "#bd3786"
             ],
             [
              0.5555555555555556,
              "#d8576b"
             ],
             [
              0.6666666666666666,
              "#ed7953"
             ],
             [
              0.7777777777777778,
              "#fb9f3a"
             ],
             [
              0.8888888888888888,
              "#fdca26"
             ],
             [
              1,
              "#f0f921"
             ]
            ],
            "type": "contour"
           }
          ],
          "contourcarpet": [
           {
            "colorbar": {
             "outlinewidth": 0,
             "ticks": ""
            },
            "type": "contourcarpet"
           }
          ],
          "heatmap": [
           {
            "colorbar": {
             "outlinewidth": 0,
             "ticks": ""
            },
            "colorscale": [
             [
              0,
              "#0d0887"
             ],
             [
              0.1111111111111111,
              "#46039f"
             ],
             [
              0.2222222222222222,
              "#7201a8"
             ],
             [
              0.3333333333333333,
              "#9c179e"
             ],
             [
              0.4444444444444444,
              "#bd3786"
             ],
             [
              0.5555555555555556,
              "#d8576b"
             ],
             [
              0.6666666666666666,
              "#ed7953"
             ],
             [
              0.7777777777777778,
              "#fb9f3a"
             ],
             [
              0.8888888888888888,
              "#fdca26"
             ],
             [
              1,
              "#f0f921"
             ]
            ],
            "type": "heatmap"
           }
          ],
          "histogram": [
           {
            "marker": {
             "pattern": {
              "fillmode": "overlay",
              "size": 10,
              "solidity": 0.2
             }
            },
            "type": "histogram"
           }
          ],
          "histogram2d": [
           {
            "colorbar": {
             "outlinewidth": 0,
             "ticks": ""
            },
            "colorscale": [
             [
              0,
              "#0d0887"
             ],
             [
              0.1111111111111111,
              "#46039f"
             ],
             [
              0.2222222222222222,
              "#7201a8"
             ],
             [
              0.3333333333333333,
              "#9c179e"
             ],
             [
              0.4444444444444444,
              "#bd3786"
             ],
             [
              0.5555555555555556,
              "#d8576b"
             ],
             [
              0.6666666666666666,
              "#ed7953"
             ],
             [
              0.7777777777777778,
              "#fb9f3a"
             ],
             [
              0.8888888888888888,
              "#fdca26"
             ],
             [
              1,
              "#f0f921"
             ]
            ],
            "type": "histogram2d"
           }
          ],
          "histogram2dcontour": [
           {
            "colorbar": {
             "outlinewidth": 0,
             "ticks": ""
            },
            "colorscale": [
             [
              0,
              "#0d0887"
             ],
             [
              0.1111111111111111,
              "#46039f"
             ],
             [
              0.2222222222222222,
              "#7201a8"
             ],
             [
              0.3333333333333333,
              "#9c179e"
             ],
             [
              0.4444444444444444,
              "#bd3786"
             ],
             [
              0.5555555555555556,
              "#d8576b"
             ],
             [
              0.6666666666666666,
              "#ed7953"
             ],
             [
              0.7777777777777778,
              "#fb9f3a"
             ],
             [
              0.8888888888888888,
              "#fdca26"
             ],
             [
              1,
              "#f0f921"
             ]
            ],
            "type": "histogram2dcontour"
           }
          ],
          "mesh3d": [
           {
            "colorbar": {
             "outlinewidth": 0,
             "ticks": ""
            },
            "type": "mesh3d"
           }
          ],
          "parcoords": [
           {
            "line": {
             "colorbar": {
              "outlinewidth": 0,
              "ticks": ""
             }
            },
            "type": "parcoords"
           }
          ],
          "pie": [
           {
            "automargin": true,
            "type": "pie"
           }
          ],
          "scatter": [
           {
            "fillpattern": {
             "fillmode": "overlay",
             "size": 10,
             "solidity": 0.2
            },
            "type": "scatter"
           }
          ],
          "scatter3d": [
           {
            "line": {
             "colorbar": {
              "outlinewidth": 0,
              "ticks": ""
             }
            },
            "marker": {
             "colorbar": {
              "outlinewidth": 0,
              "ticks": ""
             }
            },
            "type": "scatter3d"
           }
          ],
          "scattercarpet": [
           {
            "marker": {
             "colorbar": {
              "outlinewidth": 0,
              "ticks": ""
             }
            },
            "type": "scattercarpet"
           }
          ],
          "scattergeo": [
           {
            "marker": {
             "colorbar": {
              "outlinewidth": 0,
              "ticks": ""
             }
            },
            "type": "scattergeo"
           }
          ],
          "scattergl": [
           {
            "marker": {
             "colorbar": {
              "outlinewidth": 0,
              "ticks": ""
             }
            },
            "type": "scattergl"
           }
          ],
          "scattermap": [
           {
            "marker": {
             "colorbar": {
              "outlinewidth": 0,
              "ticks": ""
             }
            },
            "type": "scattermap"
           }
          ],
          "scattermapbox": [
           {
            "marker": {
             "colorbar": {
              "outlinewidth": 0,
              "ticks": ""
             }
            },
            "type": "scattermapbox"
           }
          ],
          "scatterpolar": [
           {
            "marker": {
             "colorbar": {
              "outlinewidth": 0,
              "ticks": ""
             }
            },
            "type": "scatterpolar"
           }
          ],
          "scatterpolargl": [
           {
            "marker": {
             "colorbar": {
              "outlinewidth": 0,
              "ticks": ""
             }
            },
            "type": "scatterpolargl"
           }
          ],
          "scatterternary": [
           {
            "marker": {
             "colorbar": {
              "outlinewidth": 0,
              "ticks": ""
             }
            },
            "type": "scatterternary"
           }
          ],
          "surface": [
           {
            "colorbar": {
             "outlinewidth": 0,
             "ticks": ""
            },
            "colorscale": [
             [
              0,
              "#0d0887"
             ],
             [
              0.1111111111111111,
              "#46039f"
             ],
             [
              0.2222222222222222,
              "#7201a8"
             ],
             [
              0.3333333333333333,
              "#9c179e"
             ],
             [
              0.4444444444444444,
              "#bd3786"
             ],
             [
              0.5555555555555556,
              "#d8576b"
             ],
             [
              0.6666666666666666,
              "#ed7953"
             ],
             [
              0.7777777777777778,
              "#fb9f3a"
             ],
             [
              0.8888888888888888,
              "#fdca26"
             ],
             [
              1,
              "#f0f921"
             ]
            ],
            "type": "surface"
           }
          ],
          "table": [
           {
            "cells": {
             "fill": {
              "color": "#EBF0F8"
             },
             "line": {
              "color": "white"
             }
            },
            "header": {
             "fill": {
              "color": "#C8D4E3"
             },
             "line": {
              "color": "white"
             }
            },
            "type": "table"
           }
          ]
         },
         "layout": {
          "annotationdefaults": {
           "arrowcolor": "#2a3f5f",
           "arrowhead": 0,
           "arrowwidth": 1
          },
          "autotypenumbers": "strict",
          "coloraxis": {
           "colorbar": {
            "outlinewidth": 0,
            "ticks": ""
           }
          },
          "colorscale": {
           "diverging": [
            [
             0,
             "#8e0152"
            ],
            [
             0.1,
             "#c51b7d"
            ],
            [
             0.2,
             "#de77ae"
            ],
            [
             0.3,
             "#f1b6da"
            ],
            [
             0.4,
             "#fde0ef"
            ],
            [
             0.5,
             "#f7f7f7"
            ],
            [
             0.6,
             "#e6f5d0"
            ],
            [
             0.7,
             "#b8e186"
            ],
            [
             0.8,
             "#7fbc41"
            ],
            [
             0.9,
             "#4d9221"
            ],
            [
             1,
             "#276419"
            ]
           ],
           "sequential": [
            [
             0,
             "#0d0887"
            ],
            [
             0.1111111111111111,
             "#46039f"
            ],
            [
             0.2222222222222222,
             "#7201a8"
            ],
            [
             0.3333333333333333,
             "#9c179e"
            ],
            [
             0.4444444444444444,
             "#bd3786"
            ],
            [
             0.5555555555555556,
             "#d8576b"
            ],
            [
             0.6666666666666666,
             "#ed7953"
            ],
            [
             0.7777777777777778,
             "#fb9f3a"
            ],
            [
             0.8888888888888888,
             "#fdca26"
            ],
            [
             1,
             "#f0f921"
            ]
           ],
           "sequentialminus": [
            [
             0,
             "#0d0887"
            ],
            [
             0.1111111111111111,
             "#46039f"
            ],
            [
             0.2222222222222222,
             "#7201a8"
            ],
            [
             0.3333333333333333,
             "#9c179e"
            ],
            [
             0.4444444444444444,
             "#bd3786"
            ],
            [
             0.5555555555555556,
             "#d8576b"
            ],
            [
             0.6666666666666666,
             "#ed7953"
            ],
            [
             0.7777777777777778,
             "#fb9f3a"
            ],
            [
             0.8888888888888888,
             "#fdca26"
            ],
            [
             1,
             "#f0f921"
            ]
           ]
          },
          "colorway": [
           "#636efa",
           "#EF553B",
           "#00cc96",
           "#ab63fa",
           "#FFA15A",
           "#19d3f3",
           "#FF6692",
           "#B6E880",
           "#FF97FF",
           "#FECB52"
          ],
          "font": {
           "color": "#2a3f5f"
          },
          "geo": {
           "bgcolor": "white",
           "lakecolor": "white",
           "landcolor": "white",
           "showlakes": true,
           "showland": true,
           "subunitcolor": "#C8D4E3"
          },
          "hoverlabel": {
           "align": "left"
          },
          "hovermode": "closest",
          "mapbox": {
           "style": "light"
          },
          "paper_bgcolor": "white",
          "plot_bgcolor": "white",
          "polar": {
           "angularaxis": {
            "gridcolor": "#EBF0F8",
            "linecolor": "#EBF0F8",
            "ticks": ""
           },
           "bgcolor": "white",
           "radialaxis": {
            "gridcolor": "#EBF0F8",
            "linecolor": "#EBF0F8",
            "ticks": ""
           }
          },
          "scene": {
           "xaxis": {
            "backgroundcolor": "white",
            "gridcolor": "#DFE8F3",
            "gridwidth": 2,
            "linecolor": "#EBF0F8",
            "showbackground": true,
            "ticks": "",
            "zerolinecolor": "#EBF0F8"
           },
           "yaxis": {
            "backgroundcolor": "white",
            "gridcolor": "#DFE8F3",
            "gridwidth": 2,
            "linecolor": "#EBF0F8",
            "showbackground": true,
            "ticks": "",
            "zerolinecolor": "#EBF0F8"
           },
           "zaxis": {
            "backgroundcolor": "white",
            "gridcolor": "#DFE8F3",
            "gridwidth": 2,
            "linecolor": "#EBF0F8",
            "showbackground": true,
            "ticks": "",
            "zerolinecolor": "#EBF0F8"
           }
          },
          "shapedefaults": {
           "line": {
            "color": "#2a3f5f"
           }
          },
          "ternary": {
           "aaxis": {
            "gridcolor": "#DFE8F3",
            "linecolor": "#A2B1C6",
            "ticks": ""
           },
           "baxis": {
            "gridcolor": "#DFE8F3",
            "linecolor": "#A2B1C6",
            "ticks": ""
           },
           "bgcolor": "white",
           "caxis": {
            "gridcolor": "#DFE8F3",
            "linecolor": "#A2B1C6",
            "ticks": ""
           }
          },
          "title": {
           "x": 0.05
          },
          "xaxis": {
           "automargin": true,
           "gridcolor": "#EBF0F8",
           "linecolor": "#EBF0F8",
           "ticks": "",
           "title": {
            "standoff": 15
           },
           "zerolinecolor": "#EBF0F8",
           "zerolinewidth": 2
          },
          "yaxis": {
           "automargin": true,
           "gridcolor": "#EBF0F8",
           "linecolor": "#EBF0F8",
           "ticks": "",
           "title": {
            "standoff": 15
           },
           "zerolinecolor": "#EBF0F8",
           "zerolinewidth": 2
          }
         }
        },
        "title": {
         "text": "Distribution of CashbackAmount"
        },
        "xaxis": {
         "anchor": "y2",
         "domain": [
          0,
          1
         ],
         "zeroline": false
        },
        "yaxis": {
         "anchor": "free",
         "domain": [
          0,
          1
         ],
         "position": 0
        }
       }
      }
     },
     "metadata": {},
     "output_type": "display_data"
    },
    {
     "data": {
      "application/vnd.plotly.v1+json": {
       "config": {
        "plotlyServerURL": "https://plot.ly"
       },
       "data": [
        {
         "autobinx": false,
         "histnorm": "probability density",
         "legendgroup": "HourSpendOnApp",
         "marker": {
          "color": "rgb(31, 119, 180)"
         },
         "name": "HourSpendOnApp",
         "opacity": 0.7,
         "type": "histogram",
         "x": {
          "bdata": "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",
          "dtype": "f8"
         },
         "xaxis": "x",
         "xbins": {
          "end": 5,
          "size": 1,
          "start": 0
         },
         "yaxis": "y"
        },
        {
         "legendgroup": "HourSpendOnApp",
         "marker": {
          "color": "rgb(31, 119, 180)"
         },
         "mode": "lines",
         "name": "HourSpendOnApp",
         "showlegend": false,
         "type": "scatter",
         "x": [
          0,
          0.01,
          0.02,
          0.03,
          0.04,
          0.05,
          0.06,
          0.07,
          0.08,
          0.09,
          0.1,
          0.11,
          0.12,
          0.13,
          0.14,
          0.15,
          0.16,
          0.17,
          0.18,
          0.19,
          0.2,
          0.21,
          0.22,
          0.23,
          0.24,
          0.25,
          0.26,
          0.27,
          0.28,
          0.29,
          0.3,
          0.31,
          0.32,
          0.33,
          0.34,
          0.35,
          0.36,
          0.37,
          0.38,
          0.39,
          0.4,
          0.41,
          0.42,
          0.43,
          0.44,
          0.45,
          0.46,
          0.47,
          0.48,
          0.49,
          0.5,
          0.51,
          0.52,
          0.53,
          0.54,
          0.55,
          0.56,
          0.57,
          0.58,
          0.59,
          0.6,
          0.61,
          0.62,
          0.63,
          0.64,
          0.65,
          0.66,
          0.67,
          0.68,
          0.69,
          0.7,
          0.71,
          0.72,
          0.73,
          0.74,
          0.75,
          0.76,
          0.77,
          0.78,
          0.79,
          0.8,
          0.81,
          0.82,
          0.83,
          0.84,
          0.85,
          0.86,
          0.87,
          0.88,
          0.89,
          0.9,
          0.91,
          0.92,
          0.93,
          0.94,
          0.95,
          0.96,
          0.97,
          0.98,
          0.99,
          1,
          1.01,
          1.02,
          1.03,
          1.04,
          1.05,
          1.06,
          1.07,
          1.08,
          1.09,
          1.1,
          1.11,
          1.12,
          1.13,
          1.14,
          1.15,
          1.16,
          1.17,
          1.18,
          1.19,
          1.2,
          1.21,
          1.22,
          1.23,
          1.24,
          1.25,
          1.26,
          1.27,
          1.28,
          1.29,
          1.3,
          1.31,
          1.32,
          1.33,
          1.34,
          1.35,
          1.36,
          1.37,
          1.38,
          1.39,
          1.4,
          1.41,
          1.42,
          1.43,
          1.44,
          1.45,
          1.46,
          1.47,
          1.48,
          1.49,
          1.5,
          1.51,
          1.52,
          1.53,
          1.54,
          1.55,
          1.56,
          1.57,
          1.58,
          1.59,
          1.6,
          1.61,
          1.62,
          1.63,
          1.64,
          1.65,
          1.66,
          1.67,
          1.68,
          1.69,
          1.7,
          1.71,
          1.72,
          1.73,
          1.74,
          1.75,
          1.76,
          1.77,
          1.78,
          1.79,
          1.8,
          1.81,
          1.82,
          1.83,
          1.84,
          1.85,
          1.86,
          1.87,
          1.88,
          1.89,
          1.9,
          1.91,
          1.92,
          1.93,
          1.94,
          1.95,
          1.96,
          1.97,
          1.98,
          1.99,
          2,
          2.01,
          2.02,
          2.03,
          2.04,
          2.05,
          2.06,
          2.07,
          2.08,
          2.09,
          2.1,
          2.11,
          2.12,
          2.13,
          2.14,
          2.15,
          2.16,
          2.17,
          2.18,
          2.19,
          2.2,
          2.21,
          2.22,
          2.23,
          2.24,
          2.25,
          2.26,
          2.27,
          2.28,
          2.29,
          2.3,
          2.31,
          2.32,
          2.33,
          2.34,
          2.35,
          2.36,
          2.37,
          2.38,
          2.39,
          2.4,
          2.41,
          2.42,
          2.43,
          2.44,
          2.45,
          2.46,
          2.47,
          2.48,
          2.49,
          2.5,
          2.51,
          2.52,
          2.53,
          2.54,
          2.55,
          2.56,
          2.57,
          2.58,
          2.59,
          2.6,
          2.61,
          2.62,
          2.63,
          2.64,
          2.65,
          2.66,
          2.67,
          2.68,
          2.69,
          2.7,
          2.71,
          2.72,
          2.73,
          2.74,
          2.75,
          2.76,
          2.77,
          2.78,
          2.79,
          2.8,
          2.81,
          2.82,
          2.83,
          2.84,
          2.85,
          2.86,
          2.87,
          2.88,
          2.89,
          2.9,
          2.91,
          2.92,
          2.93,
          2.94,
          2.95,
          2.96,
          2.97,
          2.98,
          2.99,
          3,
          3.01,
          3.02,
          3.03,
          3.04,
          3.05,
          3.06,
          3.07,
          3.08,
          3.09,
          3.1,
          3.11,
          3.12,
          3.13,
          3.14,
          3.15,
          3.16,
          3.17,
          3.18,
          3.19,
          3.2,
          3.21,
          3.22,
          3.23,
          3.24,
          3.25,
          3.26,
          3.27,
          3.28,
          3.29,
          3.3,
          3.31,
          3.32,
          3.33,
          3.34,
          3.35,
          3.36,
          3.37,
          3.38,
          3.39,
          3.4,
          3.41,
          3.42,
          3.43,
          3.44,
          3.45,
          3.46,
          3.47,
          3.48,
          3.49,
          3.5,
          3.51,
          3.52,
          3.53,
          3.54,
          3.55,
          3.56,
          3.57,
          3.58,
          3.59,
          3.6,
          3.61,
          3.62,
          3.63,
          3.64,
          3.65,
          3.66,
          3.67,
          3.68,
          3.69,
          3.7,
          3.71,
          3.72,
          3.73,
          3.74,
          3.75,
          3.76,
          3.77,
          3.78,
          3.79,
          3.8,
          3.81,
          3.82,
          3.83,
          3.84,
          3.85,
          3.86,
          3.87,
          3.88,
          3.89,
          3.9,
          3.91,
          3.92,
          3.93,
          3.94,
          3.95,
          3.96,
          3.97,
          3.98,
          3.99,
          4,
          4.01,
          4.02,
          4.03,
          4.04,
          4.05,
          4.06,
          4.07,
          4.08,
          4.09,
          4.1,
          4.11,
          4.12,
          4.13,
          4.14,
          4.15,
          4.16,
          4.17,
          4.18,
          4.19,
          4.2,
          4.21,
          4.22,
          4.23,
          4.24,
          4.25,
          4.26,
          4.27,
          4.28,
          4.29,
          4.3,
          4.31,
          4.32,
          4.33,
          4.34,
          4.35,
          4.36,
          4.37,
          4.38,
          4.39,
          4.4,
          4.41,
          4.42,
          4.43,
          4.44,
          4.45,
          4.46,
          4.47,
          4.48,
          4.49,
          4.5,
          4.51,
          4.52,
          4.53,
          4.54,
          4.55,
          4.56,
          4.57,
          4.58,
          4.59,
          4.6,
          4.61,
          4.62,
          4.63,
          4.64,
          4.65,
          4.66,
          4.67,
          4.68,
          4.69,
          4.7,
          4.71,
          4.72,
          4.73,
          4.74,
          4.75,
          4.76,
          4.77,
          4.78,
          4.79,
          4.8,
          4.81,
          4.82,
          4.83,
          4.84,
          4.85,
          4.86,
          4.87,
          4.88,
          4.89,
          4.9,
          4.91,
          4.92,
          4.93,
          4.94,
          4.95,
          4.96,
          4.97,
          4.98,
          4.99
         ],
         "xaxis": "x",
         "y": {
          "bdata": "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",
          "dtype": "f8"
         },
         "yaxis": "y"
        }
       ],
       "layout": {
        "barmode": "overlay",
        "hovermode": "closest",
        "legend": {
         "traceorder": "reversed"
        },
        "template": {
         "data": {
          "bar": [
           {
            "error_x": {
             "color": "#2a3f5f"
            },
            "error_y": {
             "color": "#2a3f5f"
            },
            "marker": {
             "line": {
              "color": "white",
              "width": 0.5
             },
             "pattern": {
              "fillmode": "overlay",
              "size": 10,
              "solidity": 0.2
             }
            },
            "type": "bar"
           }
          ],
          "barpolar": [
           {
            "marker": {
             "line": {
              "color": "white",
              "width": 0.5
             },
             "pattern": {
              "fillmode": "overlay",
              "size": 10,
              "solidity": 0.2
             }
            },
            "type": "barpolar"
           }
          ],
          "carpet": [
           {
            "aaxis": {
             "endlinecolor": "#2a3f5f",
             "gridcolor": "#C8D4E3",
             "linecolor": "#C8D4E3",
             "minorgridcolor": "#C8D4E3",
             "startlinecolor": "#2a3f5f"
            },
            "baxis": {
             "endlinecolor": "#2a3f5f",
             "gridcolor": "#C8D4E3",
             "linecolor": "#C8D4E3",
             "minorgridcolor": "#C8D4E3",
             "startlinecolor": "#2a3f5f"
            },
            "type": "carpet"
           }
          ],
          "choropleth": [
           {
            "colorbar": {
             "outlinewidth": 0,
             "ticks": ""
            },
            "type": "choropleth"
           }
          ],
          "contour": [
           {
            "colorbar": {
             "outlinewidth": 0,
             "ticks": ""
            },
            "colorscale": [
             [
              0,
              "#0d0887"
             ],
             [
              0.1111111111111111,
              "#46039f"
             ],
             [
              0.2222222222222222,
              "#7201a8"
             ],
             [
              0.3333333333333333,
              "#9c179e"
             ],
             [
              0.4444444444444444,
              "#bd3786"
             ],
             [
              0.5555555555555556,
              "#d8576b"
             ],
             [
              0.6666666666666666,
              "#ed7953"
             ],
             [
              0.7777777777777778,
              "#fb9f3a"
             ],
             [
              0.8888888888888888,
              "#fdca26"
             ],
             [
              1,
              "#f0f921"
             ]
            ],
            "type": "contour"
           }
          ],
          "contourcarpet": [
           {
            "colorbar": {
             "outlinewidth": 0,
             "ticks": ""
            },
            "type": "contourcarpet"
           }
          ],
          "heatmap": [
           {
            "colorbar": {
             "outlinewidth": 0,
             "ticks": ""
            },
            "colorscale": [
             [
              0,
              "#0d0887"
             ],
             [
              0.1111111111111111,
              "#46039f"
             ],
             [
              0.2222222222222222,
              "#7201a8"
             ],
             [
              0.3333333333333333,
              "#9c179e"
             ],
             [
              0.4444444444444444,
              "#bd3786"
             ],
             [
              0.5555555555555556,
              "#d8576b"
             ],
             [
              0.6666666666666666,
              "#ed7953"
             ],
             [
              0.7777777777777778,
              "#fb9f3a"
             ],
             [
              0.8888888888888888,
              "#fdca26"
             ],
             [
              1,
              "#f0f921"
             ]
            ],
            "type": "heatmap"
           }
          ],
          "histogram": [
           {
            "marker": {
             "pattern": {
              "fillmode": "overlay",
              "size": 10,
              "solidity": 0.2
             }
            },
            "type": "histogram"
           }
          ],
          "histogram2d": [
           {
            "colorbar": {
             "outlinewidth": 0,
             "ticks": ""
            },
            "colorscale": [
             [
              0,
              "#0d0887"
             ],
             [
              0.1111111111111111,
              "#46039f"
             ],
             [
              0.2222222222222222,
              "#7201a8"
             ],
             [
              0.3333333333333333,
              "#9c179e"
             ],
             [
              0.4444444444444444,
              "#bd3786"
             ],
             [
              0.5555555555555556,
              "#d8576b"
             ],
             [
              0.6666666666666666,
              "#ed7953"
             ],
             [
              0.7777777777777778,
              "#fb9f3a"
             ],
             [
              0.8888888888888888,
              "#fdca26"
             ],
             [
              1,
              "#f0f921"
             ]
            ],
            "type": "histogram2d"
           }
          ],
          "histogram2dcontour": [
           {
            "colorbar": {
             "outlinewidth": 0,
             "ticks": ""
            },
            "colorscale": [
             [
              0,
              "#0d0887"
             ],
             [
              0.1111111111111111,
              "#46039f"
             ],
             [
              0.2222222222222222,
              "#7201a8"
             ],
             [
              0.3333333333333333,
              "#9c179e"
             ],
             [
              0.4444444444444444,
              "#bd3786"
             ],
             [
              0.5555555555555556,
              "#d8576b"
             ],
             [
              0.6666666666666666,
              "#ed7953"
             ],
             [
              0.7777777777777778,
              "#fb9f3a"
             ],
             [
              0.8888888888888888,
              "#fdca26"
             ],
             [
              1,
              "#f0f921"
             ]
            ],
            "type": "histogram2dcontour"
           }
          ],
          "mesh3d": [
           {
            "colorbar": {
             "outlinewidth": 0,
             "ticks": ""
            },
            "type": "mesh3d"
           }
          ],
          "parcoords": [
           {
            "line": {
             "colorbar": {
              "outlinewidth": 0,
              "ticks": ""
             }
            },
            "type": "parcoords"
           }
          ],
          "pie": [
           {
            "automargin": true,
            "type": "pie"
           }
          ],
          "scatter": [
           {
            "fillpattern": {
             "fillmode": "overlay",
             "size": 10,
             "solidity": 0.2
            },
            "type": "scatter"
           }
          ],
          "scatter3d": [
           {
            "line": {
             "colorbar": {
              "outlinewidth": 0,
              "ticks": ""
             }
            },
            "marker": {
             "colorbar": {
              "outlinewidth": 0,
              "ticks": ""
             }
            },
            "type": "scatter3d"
           }
          ],
          "scattercarpet": [
           {
            "marker": {
             "colorbar": {
              "outlinewidth": 0,
              "ticks": ""
             }
            },
            "type": "scattercarpet"
           }
          ],
          "scattergeo": [
           {
            "marker": {
             "colorbar": {
              "outlinewidth": 0,
              "ticks": ""
             }
            },
            "type": "scattergeo"
           }
          ],
          "scattergl": [
           {
            "marker": {
             "colorbar": {
              "outlinewidth": 0,
              "ticks": ""
             }
            },
            "type": "scattergl"
           }
          ],
          "scattermap": [
           {
            "marker": {
             "colorbar": {
              "outlinewidth": 0,
              "ticks": ""
             }
            },
            "type": "scattermap"
           }
          ],
          "scattermapbox": [
           {
            "marker": {
             "colorbar": {
              "outlinewidth": 0,
              "ticks": ""
             }
            },
            "type": "scattermapbox"
           }
          ],
          "scatterpolar": [
           {
            "marker": {
             "colorbar": {
              "outlinewidth": 0,
              "ticks": ""
             }
            },
            "type": "scatterpolar"
           }
          ],
          "scatterpolargl": [
           {
            "marker": {
             "colorbar": {
              "outlinewidth": 0,
              "ticks": ""
             }
            },
            "type": "scatterpolargl"
           }
          ],
          "scatterternary": [
           {
            "marker": {
             "colorbar": {
              "outlinewidth": 0,
              "ticks": ""
             }
            },
            "type": "scatterternary"
           }
          ],
          "surface": [
           {
            "colorbar": {
             "outlinewidth": 0,
             "ticks": ""
            },
            "colorscale": [
             [
              0,
              "#0d0887"
             ],
             [
              0.1111111111111111,
              "#46039f"
             ],
             [
              0.2222222222222222,
              "#7201a8"
             ],
             [
              0.3333333333333333,
              "#9c179e"
             ],
             [
              0.4444444444444444,
              "#bd3786"
             ],
             [
              0.5555555555555556,
              "#d8576b"
             ],
             [
              0.6666666666666666,
              "#ed7953"
             ],
             [
              0.7777777777777778,
              "#fb9f3a"
             ],
             [
              0.8888888888888888,
              "#fdca26"
             ],
             [
              1,
              "#f0f921"
             ]
            ],
            "type": "surface"
           }
          ],
          "table": [
           {
            "cells": {
             "fill": {
              "color": "#EBF0F8"
             },
             "line": {
              "color": "white"
             }
            },
            "header": {
             "fill": {
              "color": "#C8D4E3"
             },
             "line": {
              "color": "white"
             }
            },
            "type": "table"
           }
          ]
         },
         "layout": {
          "annotationdefaults": {
           "arrowcolor": "#2a3f5f",
           "arrowhead": 0,
           "arrowwidth": 1
          },
          "autotypenumbers": "strict",
          "coloraxis": {
           "colorbar": {
            "outlinewidth": 0,
            "ticks": ""
           }
          },
          "colorscale": {
           "diverging": [
            [
             0,
             "#8e0152"
            ],
            [
             0.1,
             "#c51b7d"
            ],
            [
             0.2,
             "#de77ae"
            ],
            [
             0.3,
             "#f1b6da"
            ],
            [
             0.4,
             "#fde0ef"
            ],
            [
             0.5,
             "#f7f7f7"
            ],
            [
             0.6,
             "#e6f5d0"
            ],
            [
             0.7,
             "#b8e186"
            ],
            [
             0.8,
             "#7fbc41"
            ],
            [
             0.9,
             "#4d9221"
            ],
            [
             1,
             "#276419"
            ]
           ],
           "sequential": [
            [
             0,
             "#0d0887"
            ],
            [
             0.1111111111111111,
             "#46039f"
            ],
            [
             0.2222222222222222,
             "#7201a8"
            ],
            [
             0.3333333333333333,
             "#9c179e"
            ],
            [
             0.4444444444444444,
             "#bd3786"
            ],
            [
             0.5555555555555556,
             "#d8576b"
            ],
            [
             0.6666666666666666,
             "#ed7953"
            ],
            [
             0.7777777777777778,
             "#fb9f3a"
            ],
            [
             0.8888888888888888,
             "#fdca26"
            ],
            [
             1,
             "#f0f921"
            ]
           ],
           "sequentialminus": [
            [
             0,
             "#0d0887"
            ],
            [
             0.1111111111111111,
             "#46039f"
            ],
            [
             0.2222222222222222,
             "#7201a8"
            ],
            [
             0.3333333333333333,
             "#9c179e"
            ],
            [
             0.4444444444444444,
             "#bd3786"
            ],
            [
             0.5555555555555556,
             "#d8576b"
            ],
            [
             0.6666666666666666,
             "#ed7953"
            ],
            [
             0.7777777777777778,
             "#fb9f3a"
            ],
            [
             0.8888888888888888,
             "#fdca26"
            ],
            [
             1,
             "#f0f921"
            ]
           ]
          },
          "colorway": [
           "#636efa",
           "#EF553B",
           "#00cc96",
           "#ab63fa",
           "#FFA15A",
           "#19d3f3",
           "#FF6692",
           "#B6E880",
           "#FF97FF",
           "#FECB52"
          ],
          "font": {
           "color": "#2a3f5f"
          },
          "geo": {
           "bgcolor": "white",
           "lakecolor": "white",
           "landcolor": "white",
           "showlakes": true,
           "showland": true,
           "subunitcolor": "#C8D4E3"
          },
          "hoverlabel": {
           "align": "left"
          },
          "hovermode": "closest",
          "mapbox": {
           "style": "light"
          },
          "paper_bgcolor": "white",
          "plot_bgcolor": "white",
          "polar": {
           "angularaxis": {
            "gridcolor": "#EBF0F8",
            "linecolor": "#EBF0F8",
            "ticks": ""
           },
           "bgcolor": "white",
           "radialaxis": {
            "gridcolor": "#EBF0F8",
            "linecolor": "#EBF0F8",
            "ticks": ""
           }
          },
          "scene": {
           "xaxis": {
            "backgroundcolor": "white",
            "gridcolor": "#DFE8F3",
            "gridwidth": 2,
            "linecolor": "#EBF0F8",
            "showbackground": true,
            "ticks": "",
            "zerolinecolor": "#EBF0F8"
           },
           "yaxis": {
            "backgroundcolor": "white",
            "gridcolor": "#DFE8F3",
            "gridwidth": 2,
            "linecolor": "#EBF0F8",
            "showbackground": true,
            "ticks": "",
            "zerolinecolor": "#EBF0F8"
           },
           "zaxis": {
            "backgroundcolor": "white",
            "gridcolor": "#DFE8F3",
            "gridwidth": 2,
            "linecolor": "#EBF0F8",
            "showbackground": true,
            "ticks": "",
            "zerolinecolor": "#EBF0F8"
           }
          },
          "shapedefaults": {
           "line": {
            "color": "#2a3f5f"
           }
          },
          "ternary": {
           "aaxis": {
            "gridcolor": "#DFE8F3",
            "linecolor": "#A2B1C6",
            "ticks": ""
           },
           "baxis": {
            "gridcolor": "#DFE8F3",
            "linecolor": "#A2B1C6",
            "ticks": ""
           },
           "bgcolor": "white",
           "caxis": {
            "gridcolor": "#DFE8F3",
            "linecolor": "#A2B1C6",
            "ticks": ""
           }
          },
          "title": {
           "x": 0.05
          },
          "xaxis": {
           "automargin": true,
           "gridcolor": "#EBF0F8",
           "linecolor": "#EBF0F8",
           "ticks": "",
           "title": {
            "standoff": 15
           },
           "zerolinecolor": "#EBF0F8",
           "zerolinewidth": 2
          },
          "yaxis": {
           "automargin": true,
           "gridcolor": "#EBF0F8",
           "linecolor": "#EBF0F8",
           "ticks": "",
           "title": {
            "standoff": 15
           },
           "zerolinecolor": "#EBF0F8",
           "zerolinewidth": 2
          }
         }
        },
        "title": {
         "text": "Distribution of HourSpendOnApp"
        },
        "xaxis": {
         "anchor": "y2",
         "domain": [
          0,
          1
         ],
         "zeroline": false
        },
        "yaxis": {
         "anchor": "free",
         "domain": [
          0,
          1
         ],
         "position": 0
        }
       }
      }
     },
     "metadata": {},
     "output_type": "display_data"
    }
   ],
   "source": [
    "for feat in ['OrderCount','CashbackAmount','HourSpendOnApp']:\n",
    "    hist_data = [df[feat].dropna()]\n",
    "    group_labels = [feat]\n",
    "    fig = ff.create_distplot(\n",
    "        hist_data,\n",
    "        group_labels,\n",
    "        show_hist=True,\n",
    "        show_rug=False\n",
    "    )\n",
    "    fig.update_layout(title_text=f'Distribution of {feat}', template='plotly_white')\n",
    "    out = project_root / 'plots' / 'eda' / f'{feat}_dist.html'\n",
    "    fig.write_html(str(out))\n",
    "    fig.show()"
   ]
  },
  {
   "cell_type": "markdown",
   "id": "6d23dae6",
   "metadata": {},
   "source": [
    "## Distribution Plots for Skewed Features\n",
    "\n",
    "To better understand the shape of our numeric variables, I plotted histograms with KDE overlays. These help me decide on transformations or binning before modeling.\n",
    "\n",
    "### OrderCount\n",
    "- **Shape:** Strong right skew with a long tail up to ~16; most customers place **1–3 orders**.\n",
    "- **Implications:** A small but important minority is very active.\n",
    "- **Action:** Consider `log1p(OrderCount)` or **capped/bin** buckets (e.g., 1, 2–3, 4–6, 7+). Robust scalers also help.\n",
    "- **Interactive plot:** [OrderCount Distribution](../plots/eda/OrderCount_dist.html)\n",
    "\n",
    "### CashbackAmount\n",
    "- **Shape:** Mild-to-moderate **right skew**; mass between ~140–200 with a gradual tail toward 300+.\n",
    "- **Notes:** Multiple small peaks likely reflect promotion tiers or campaign thresholds.\n",
    "- **Action:** Keep as is for tree models; try **standardization** or **yeo-johnson/log** transform for linear models.\n",
    "- **Interactive plot:** [CashbackAmount Distribution](../plots/eda/CashbackAmount_dist.html)\n",
    "\n",
    "### HourSpendOnApp\n",
    "- **Shape:** Concentrated around **2–4 hours**, with possible clusters near ~2, ~3 and ~4 (quasi-multimodal).\n",
    "- **Interpretation:** Usage bands (e.g., light/regular/heavy users) may exist and be meaningful for churn behavior.\n",
    "- **Action:** Test **ordinal/binning** (e.g., <2.5, 2.5–3.5, >3.5) or leave continuous and apply a **robust scaler**.\n",
    "- **Interactive plot:** [HourSpendOnApp Distribution](../plots/eda/HourSpendOnApp_dist.html)\n",
    "\n"
   ]
  },
  {
   "cell_type": "markdown",
   "id": "bb0b1953",
   "metadata": {},
   "source": [
    "# Pairwise Scatter Matrix\n",
    "\n",
    "A quick scatter‐matrix on top features to spot non-linear patterns."
   ]
  },
  {
   "cell_type": "code",
   "execution_count": 15,
   "id": "4f8c409b",
   "metadata": {},
   "outputs": [
    {
     "data": {
      "application/vnd.plotly.v1+json": {
       "config": {
        "plotlyServerURL": "https://plot.ly"
       },
       "data": [
        {
         "dimensions": [
          {
           "axis": {
            "matches": true
           },
           "label": "Tenure",
           "values": {
            "bdata": "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",
            "dtype": "f8"
           }
          },
          {
           "axis": {
            "matches": true
           },
           "label": "OrderCount",
           "values": {
            "bdata": "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",
            "dtype": "f8"
           }
          },
          {
           "axis": {
            "matches": true
           },
           "label": "HourSpendOnApp",
           "values": {
            "bdata": "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",
            "dtype": "f8"
           }
          },
          {
           "axis": {
            "matches": true
           },
           "label": "CashbackAmount",
           "values": {
            "bdata": "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",
            "dtype": "f8"
           }
          },
          {
           "axis": {
            "matches": true
           },
           "label": "SatisfactionScore",
           "values": {
            "bdata": "AgMDBQUFAgIDAwMDAwMCBQIDAwQDAgMDAgUEAwQCAwMEAgMCBAICAwQDAgIDBAUEBQUFAgIFAgIEBAMFBAMEAwQDBAMCAgUEAwMCBQIDAgUCBAICBQIDAwQFAgUDAgUEBAIDAwICAgMCAgIDAgICBQMEAwMCBQICAwIFBQMDAwIFAgMFAwIEBAIFBAMEAgUCAgUEAgIDAgQFBAQDAwICBQIDAgQCBQQEAgIEAwQCBAQDBQICBAMEAwIFBQIEBQIDBAQEAwICAgIDAgMCAwMEAwUCAgUCAwQCAgIEBAIEAwIDAwQDBQMDAgQCAgMDAgMFAwQCAwQEAgQEAgMCAwICAwQFBAMCBQQFBAQDBQMFAgMCAwUDBQMFBQUDAgIDAgUDAgQDAgMCAgMEAgUCAwIFAgMDAwMCBAMCBAMDBQMCAwIEAgMDAwIFBAMCAwIEBQMDAwICAgMFBAUDAgMEAwIEBAQDAwUCBQICAwMEAgIFAwUDAwUDAgMDAgMFAgUCAwMCAgQEAgMFAwUEAgIEAgIDBAMDAgMCBQIFBQMCBQUDBAQFAwMDAgMDAgMFBAICBQQCBQIDBQUCAgMDAwIFBQICAwUCBQIFBQUCAwQFAgUEAwMFAwUCBAMEAwIDBAMDAgMEBQICAgUCAwQCAwIDBAUFBQICAgIFAwIDAgICAgUFAwQCBQUCBAQCAgMCBAICAgIEBQIEAgIFAgIEAwICAgMCAwUDBAMFBAMCBAMDAgUEBAQFBQMEBQIEBQICAwQCAwIDAwMCAgMEAwIFAwUCAgIEAwQFAgMDAwMDBAUCAwMFBQQCBQMDAwICAgMCAgQEAwIFAgIDBQUCAgMCAgQEAwUDBAMDBAUDAgMDAgUCAgUFAwUFBQMDAgMEAwUCBQMDAgICAwQFBAMEAgIDBAMCBAMEBQIDBAQCAgQCBAMEAgIDAwMFAgMCAwMDBQMFBQMEAgIDAgQFAgMFBQIFAwIDAwMCAgUDAwUFBAUFBAUEAwMDAgICBQIEAwUCBAIEBQIFAwIEAgIFBQICAwQEAwICAgMEAwIDAgIEBAMEBQQCBAMFBAMEAgQCAgMDAwUEAgQEAwMFAgMFAgUEBAUDAwQEBQMDBAMCAgUDBAUFAgUEBQICBAICAgMEAwMDAgMDAgUDAgQCAwIEAwMDAwIDAgUFAwICBQUFAgIFAgQDBQQFBAUCBQIFAwUDAwIEAwMCAQUEBQQBAQUDBAUDBAMDBAUFAwEDAwMEBQMEBAMFBAMDAwMEAwUDBQUEBAMBAQUFBAQEAwUDAwEDBAEFBAEBBQMBBQEEAwQBAwMFBQMFBAUBBAUFAQEBAQQEAwUDAwEDAwUBAwMFBAEFBAMDAQEEBQUFAwEFBQUFBQEBAwMDAwMDAQMFBAEBAQEBAwEFAwUDBAQFAwQEAwMFAwMBAQQBBAEFBAQDAwUBAwEDAwEDBAEEAQEEAQEBAQEBAwMDAQMDAwMEAwMEBQUEAwEEAQUEBAEBAwQDBQEBAwEEAwUBBAEFBAMFAwQBAwQFBAUDAwEBBAMFAQMEAQUEBAEFAQMEBQUBBAUFAQMEAwMEBAEDBAMEBQEFBQEBAwMFBQMEAQEBAQMDAQEDAwQFAwQDBAEEBQEBBAEEAwMBBQUEAQEFAwMBBQUBBAQFAQEDAQMDAQUDBAEDBAUFBAEDAQEBBAUDBQQBAwUFAQUBBQEBAQEFAwMDBAQBBQMDBQMBAwQEBAMDAwQDAwUBBAMDAwEEAQQBAwEBAwEBBQEFAQQDAQMDBAMBBAUBAQMBAwMDAwEEBQUBBQMBBQQEAwEEAwMEAQUDAwMEAwMBAwUEAQEBAwUEAQUDBQQBBQEBAwEBAwMBBQUBBQMDAQMDBAEBAwMFBQEBBQUBAwEBAwUDAwQFBQMDBAQEAQEFBQMEAQMBAQQBBQEBAQQBBAUDAwMDAwQFBQEDAQEEAwEBBQMBAwQBBQEBAQMEBAMDBAEDAQUDAQMDAwQBAwMBBQEDAwEFAQUFBAQEAwQBAwMEAQMBBAEBAwQDAQEDBAUEBQUFAQEFAQEEBAMFBAMEAwQDBAMBAQUEAwMBBQEDAQUBBAEBBQEDAwQFAQUDAQUEBAEDAwEBAQMBAQEDAQEBBQMEAwMBBQEBAwEFBQMDAwEFAQMFAwEEBAEFBAMEAQUBAQUEAQEDAQQFBAQDAwEBBQEDAQQBBQQEAQEEAwQBBAQDBQEBBAMEAwEFBQEEBQEDBAQEAwEBAQEDAQMBAwMEAwUBAQUBAwQBAQEEBAEEAwEDAwQDBQMDAQQBAQMDAQMFAwQBAwQEAQQEAQMBAwEBAwQFBAMBBQQFBAQDBQMFAQMBAwUDBQMFBQUDAQEDAQUDAQQDAQMBAQMEAQUBAwEFAQMDAwMBBAMBBAMDBQMBAwEEAQMDAwEFBAMBAwEEBQMDAwEBAQMFBAUDAQMEAwEEBAQDAwUBBQEBAwMEAQEFAwUDAwUDAQMDAQMFAQUBAwMBAQQEAQMFAwUEAQEEAQEDBAMDAQMBBQEFBQMBBQUDBAQFAwMDAQMDAQMFBAEBBQQBBQEDBQUBAQMDAwEFBQEBAwUBBQEFBQUBAwQFAQUEAwMFAwUBBAMEAwEDBAMDAQMEBQEBAQUBAwQBAwEDBAUFBQEBAQEFAwEDAQEBAQUFAwQBBQUBBAQBAQMBBAEBAQEEBQEEAQEFAQEEAwEBAQMBAwUDBAMFBAMBBAMDAQUEBAQFBQMEBQEEBQEBAwQBAwEDAwMBAQMEAwEFAwUBAQEEAwQFAQMDAwMDBAUBAwMFBQQBBQMDAwEBAQMBAQQEAwEFAQEDBQUBAQMBAQQEAwUDBAMDBAUDAQMDAQUBAQUFAwUFBQMDAQMEAwUBBQMDAQEBAwQFBAMEAQEDBAMBBAMEBQEDBAQBAQQBBAMEAQEDAwMFAQMBAwMDBQMFBQMEAQEDAQQFAQMFBQEFAwEDAwMBAQUDAwUFBAUFBAUEAwMDAQEBBQEEAwUBBAEEBQEFAwEEAQEFBQEBAwQEAwEBAQMEAwEDAQEEBAMEBQQBBAMFBAMEAQQBAQMDAwUEAQQEAwMFAQMFAQUEBAUDAwQEBQMDBAMBAQUDBAUFAQUEBQEBBAEBAQMEAwMDAQMDAQUDAQQBAwEEAwMDAwEDAQUFAwEBBQUFAQEFAQQDBQQFBAUBBQEFAwUDAwEEAwMBAQUEBQQBAQUDBAUDBAMDBAUFAwEDAwMEBQMEBAMFBAMDAwMEAwUDBQUEBAMBAQUFBAQEAwUDAwEDBAEFBAEBBQMBBQEEAwQBAwMFBQMFBAUBBAUFAQEBAQQEAwUDAwEDAwUBAwMFBAEFBAMDAQEEBQUFAwEFBQUFBQEBAwMDAwMDAQMFBAEBAQEBAwEFAwUDBAQFAwQEAwMFAwMBAQQBBAEFBAQDAwUBAwEDAwEDBAEEAQEEAQEBAQEBAwMDAQMDAwMEAwMEBQUEAwEEAQUEBAEBAwQDBQEBAwEEAwUBBAEFBAMFAwQBAwQFBAUDAwEBBAMFAQMEAQUEBAEFAQMEBQUBBAUFAQMEAwMEBAEDBAMEBQEFBQEBAwMFBQMEAQEBAQMDAQEDAwQFAwQDBAEEBQEBBAEEAwMBBQUEAQEFAwMBBQUBBAQFAQEDAQMDAQUDBAEDBAUFBAEDAQEBBAUDBQQBAwUFAQUBBQEBAQEFAwMDBAQBBQMDBQMBAwQEBAMDAwQDAwUBBAMDAwEEAQQBAwEBAwEBBQEFAQQDAQMDBAMBBAUBAQMBAwMDAwEEBQUBBQMBBQQEAwIDAwUFBQICAwMDAwMDAgUCAwMEAwIDAwIFBAMEAgMDBAIDAgQCAgMEAwICAwQFBAUFBQICBQICBAQDBQQDBAMEAwQDAgIFBAMDAgUCAwIFAgQCAgUCAwMEBQIFAwIFBAQCAwMCAgIDAgICAwICAgUDBAMDAgUCAgMCBQUDAwMCBQIDBQMCBAQCBQQDBAIFAgIFBAICAwIEBQQEAwMCAgUCAwIEAgUEBAICBAMEAgQEAwUCAgQDBAMCBQUCBAUCAwQEBAMCAgICAwIDAgMDBAMFAgIFAgMEAgICBAQCBAMCAwMEAwUDAwIEAgIDAwIDBQMEAgMEBAIEBAIDAgMCAgMEBQQDAgUEBQQEAwUDBQIDAgMFAwUDBQUFAwICAwIFAwIEAwIDAgIDBAIFAgMCBQIDAwMDAgQDAgQDAwUDAgMCBAIDAwMCBQQDAgMCBAUDAwMCAgIDBQQFAwIDBAMCBAQEAwMFAgUCAgMDBAICBQMFAwMFAwIDAwIDBQIFAgMDAgIEBAIDBQMFBAICBAICAwQDAwIDAgUCBQUDAgUFAwQEBQMDAwIDAwIDBQQCAgUEAgUCAwUFAgIDAwMCBQUCAgMFAgUCBQUFAgMEBQIFBAMDBQMFAgQDBAMCAwQDAwIDBAUCAgIFAgMEAgMCAwQFBQUCAgICBQMCAwICAgIFBQMEAgUFAgQEAgIDAgQCAgICBAUCBAICBQICBAMCAgIDAgMFAwQDBQQDAgQDAwIFBAQEBQUDBAUCBAUCAgMEAgMCAwMDAgIDBAMCBQMFAgICBAMEBQIDAwMDAwQFAgMDBQUEAgUDAwMCAgIDAgIEBAMCBQICAwUFAgIDAgIEBAMFAwQDAwQFAwIDAwIFAgIFBQMFBQUDAwIDBAMFAgUDAwICAgMEBQQDBAICAwQDAgQDBAUCAwQEAgIEAgQDBAICAwMDBQIDAgMDAwUDBQUDBAICAwIEBQIDBQUCBQMCAwMDAgIFAwMFBQQFBQQFBAMDAwICAgUCBAMFAgQCBAUCBQMCBAICBQUCAgMEBAMCAgIDBAMCAwICBAQDBAUEAgQDBQQDBAIEAgIDAwMFBAIEBAMDBQIDBQIFBAQFAwMEBAUDAwQDAgIFAwQFBQIFBAUCAgQCAgIDBAMDAwIDAwIFAwIEAgMCBAMDAwMCAwIFBQMCAgUFBQICBQIEAwUEBQQFAgUCBQMFAwMCBAMDAgEFBAUEAQEFAwQFAwQDAwQFBQMBAwMDBAUDBAQDBQQDAwMDBAMFAwUFBAQDAQEFBQQEBAMFAwMBAwQBBQQBAQUDAQUBBAMEAQMDBQUDBQQFAQQFBQEBAQEEBAMFAwMBAwMFAQMDBQQBBQQDAwEBBAUFBQMBBQUFBQUBAQMDAwMDAwEDBQQBAQEBAQMBBQMFAwQEBQMEBAMDBQMDAQEEAQQBBQQEAwMFAQMBAwMBAwQBBAEBBAEBAQEBAQMDAwEDAwMDBAMDBAUFBAMBBAEFBAQBAQMEAwUBAQMBBAMFAQQBBQQDBQMEAQMEBQQFAwMBAQQDBQEDBAEFBAQBBQEDBAUFAQQFBQEDBAMDBAQBAwQDBAUBBQUBAQMDBQUDBAEBAQEDAwEBAwMEBQMEAwQBBAUBAQQBBAMDAQUFBAEBBQMDAQUFAQQEBQEBAwEDAwEFAwQBAwQFBQQBAwEBAQQFAwUEAQMFBQEFAQUBAQEBBQMDAwQEAQUDAwUDAQMEBAQDAwMEAwMFAQQDAwMBBAEEAQMBAQMBAQUBBQEEAwEDAwQDAQQFAQEDAQMDAwMBBAUFAQUDAQUEBAMBBAMDBAEFAwMDBAMDAQMFBAEBAQMFBAEFAwUEAQUBAQMBAQMDAQUFAQUDAwEDAwQBAQMDBQUBAQUFAQMBAQMFAwMEBQUDAwQEBAEBBQUDBAEDAQEEAQUBAQEEAQQFAwMDAwMEBQUBAwEBBAMBAQUDAQMEAQUBAQEDBAQDAwQBAwEFAwEDAwMEAQMDAQUBAwMBBQEFBQQEBAMEAQMDBAEDAQQBAQMEAwEBAwQFBAUFBQEBBQEBBAQDBQQDBAMEAwQDAQEFBAMDAQUBAwEFAQQBAQUBAwMEBQEFAwEFBAQBAwMBAQEDAQEBAwEBAQUDBAMDAQUBAQMBBQUDAwMBBQEDBQMBBAQBBQQDBAEFAQEFBAEBAwEEBQQEAwMBAQUBAwEEAQUEBAEBBAMEAQQEAwUBAQQDBAMBBQUBBAUBAwQEBAMBAQEBAwEDAQMDBAMFAQEFAQMEAQEBBAQBBAMBAwMEAwUDAwEEAQEDAwEDBQMEAQMEBAEEBAEDAQMBAQMEBQQDAQUEBQQEAwUDBQEDAQMFAwUDBQUFAwEBAwEFAwEEAwEDAQEDBAEFAQMBBQEDAwMDAQQDAQQDAwUDAQMBBAEDAwMBBQQDAQMBBAUDAwMBAQEDBQQFAwEDBAMBBAQEAwMFAQUBAQMDBAEBBQMFAwMFAwEDAwEDBQEFAQMDAQEEBAEDBQMFBAEBBAEBAwQDAwEDAQUBBQUDAQUFAwQEBQMDAwEDAwEDBQQBAQUEAQUBAwUFAQEDAwMBBQUBAQMFAQUBBQUFAQMEBQEFBAMDBQMFAQQDBAMBAwQDAwEDBAUBAQEFAQMEAQMBAwQFBQUBAQEBBQMBAwEBAQEFBQMEAQUFAQQEAQEDAQQBAQEBBAUBBAEBBQEBBAMBAQEDAQMFAwQDBQQDAQQDAwEFBAQEBQUDBAUBBAUBAQMEAQMBAwMDAQEDBAMBBQMFAQEBBAMEBQEDAwMDAwQFAQMDBQUEAQUDAwMBAQEDAQEEBAMBBQEBAwUFAQEDAQEEBAMFAwQDAwQFAwEDAwEFAQEFBQMFBQUDAwEDBAMFAQUDAwEBAQMEBQQDBAEBAwQDAQQDBAUBAwQEAQEEAQQDBAEBAwMDBQEDAQMDAwUDBQUDBAEBAwEEBQEDBQUBBQMBAwMDAQEFAwMFBQQFBQQFBAMDAwEBAQUBBAMFAQQBBAUBBQMBBAEBBQUBAQMEBAMBAQEDBAMBAwEBBAQDBAUEAQQDBQQDBAEEAQEDAwMFBAEEBAMDBQEDBQEFBAQFAwMEBAUDAwQDAQEFAwQFBQEFBAUBAQQBAQEDBAMDAwEDAwEFAwEEAQMBBAMDAwMBAwEFBQMBAQUFBQEBBQEEAwUEBQQFAQUBBQMFAwMBBAMDAQEFBAUEAQEFAwQFAwQDAwQFBQMBAwMDBAUDBAQDBQQDAwMDBAMFAwUFBAQDAQEFBQQEBAMFAwMBAwQBBQQBAQUDAQUBBAMEAQMDBQUDBQQFAQQFBQEBAQEEBAMFAwMBAwMFAQMDBQQBBQQDAwEBBAUFBQMBBQUFBQUBAQMDAwMDAwEDBQQBAQEBAQMBBQMFAwQEBQMEBAMDBQMDAQEEAQQBBQQEAwMFAQMBAwMBAwQBBAEBBAEBAQEBAQMDAwEDAwMDBAMDBAUFBAMBBAEFBAQBAQMEAwUBAQMBBAMFAQQBBQQDBQMEAQMEBQQFAwMBAQQDBQEDBAEFBAQBBQEDBAUFAQQFBQEDBAMDBAQBAwQDBAUBBQUBAQMDBQUDBAEBAQEDAwEBAwMEBQMEAwQBBAUBAQQBBAMDAQUFBAEBBQMDAQUFAQQEBQEBAwEDAwEFAwQBAwQFBQQBAwEBAQQFAwUEAQMFBQEFAQUBAQEBBQMDAwQEAQUDAwUDAQMEBAQDAwMEAwMFAQQDAwMBBAEEAQMBAQMBAQUBBQEEAwEDAwQDAQQFAQEDAQMDAwMBBAUFAQUDAQUEBAM=",
            "dtype": "i1"
           }
          }
         ],
         "hovertemplate": "%{xaxis.title.text}=%{x}<br>%{yaxis.title.text}=%{y}<extra></extra>",
         "legendgroup": "",
         "marker": {
          "color": "#636efa",
          "symbol": "circle"
         },
         "name": "",
         "showlegend": false,
         "type": "splom"
        }
       ],
       "layout": {
        "dragmode": "select",
        "legend": {
         "tracegroupgap": 0
        },
        "template": {
         "data": {
          "bar": [
           {
            "error_x": {
             "color": "#2a3f5f"
            },
            "error_y": {
             "color": "#2a3f5f"
            },
            "marker": {
             "line": {
              "color": "white",
              "width": 0.5
             },
             "pattern": {
              "fillmode": "overlay",
              "size": 10,
              "solidity": 0.2
             }
            },
            "type": "bar"
           }
          ],
          "barpolar": [
           {
            "marker": {
             "line": {
              "color": "white",
              "width": 0.5
             },
             "pattern": {
              "fillmode": "overlay",
              "size": 10,
              "solidity": 0.2
             }
            },
            "type": "barpolar"
           }
          ],
          "carpet": [
           {
            "aaxis": {
             "endlinecolor": "#2a3f5f",
             "gridcolor": "#C8D4E3",
             "linecolor": "#C8D4E3",
             "minorgridcolor": "#C8D4E3",
             "startlinecolor": "#2a3f5f"
            },
            "baxis": {
             "endlinecolor": "#2a3f5f",
             "gridcolor": "#C8D4E3",
             "linecolor": "#C8D4E3",
             "minorgridcolor": "#C8D4E3",
             "startlinecolor": "#2a3f5f"
            },
            "type": "carpet"
           }
          ],
          "choropleth": [
           {
            "colorbar": {
             "outlinewidth": 0,
             "ticks": ""
            },
            "type": "choropleth"
           }
          ],
          "contour": [
           {
            "colorbar": {
             "outlinewidth": 0,
             "ticks": ""
            },
            "colorscale": [
             [
              0,
              "#0d0887"
             ],
             [
              0.1111111111111111,
              "#46039f"
             ],
             [
              0.2222222222222222,
              "#7201a8"
             ],
             [
              0.3333333333333333,
              "#9c179e"
             ],
             [
              0.4444444444444444,
              "#bd3786"
             ],
             [
              0.5555555555555556,
              "#d8576b"
             ],
             [
              0.6666666666666666,
              "#ed7953"
             ],
             [
              0.7777777777777778,
              "#fb9f3a"
             ],
             [
              0.8888888888888888,
              "#fdca26"
             ],
             [
              1,
              "#f0f921"
             ]
            ],
            "type": "contour"
           }
          ],
          "contourcarpet": [
           {
            "colorbar": {
             "outlinewidth": 0,
             "ticks": ""
            },
            "type": "contourcarpet"
           }
          ],
          "heatmap": [
           {
            "colorbar": {
             "outlinewidth": 0,
             "ticks": ""
            },
            "colorscale": [
             [
              0,
              "#0d0887"
             ],
             [
              0.1111111111111111,
              "#46039f"
             ],
             [
              0.2222222222222222,
              "#7201a8"
             ],
             [
              0.3333333333333333,
              "#9c179e"
             ],
             [
              0.4444444444444444,
              "#bd3786"
             ],
             [
              0.5555555555555556,
              "#d8576b"
             ],
             [
              0.6666666666666666,
              "#ed7953"
             ],
             [
              0.7777777777777778,
              "#fb9f3a"
             ],
             [
              0.8888888888888888,
              "#fdca26"
             ],
             [
              1,
              "#f0f921"
             ]
            ],
            "type": "heatmap"
           }
          ],
          "histogram": [
           {
            "marker": {
             "pattern": {
              "fillmode": "overlay",
              "size": 10,
              "solidity": 0.2
             }
            },
            "type": "histogram"
           }
          ],
          "histogram2d": [
           {
            "colorbar": {
             "outlinewidth": 0,
             "ticks": ""
            },
            "colorscale": [
             [
              0,
              "#0d0887"
             ],
             [
              0.1111111111111111,
              "#46039f"
             ],
             [
              0.2222222222222222,
              "#7201a8"
             ],
             [
              0.3333333333333333,
              "#9c179e"
             ],
             [
              0.4444444444444444,
              "#bd3786"
             ],
             [
              0.5555555555555556,
              "#d8576b"
             ],
             [
              0.6666666666666666,
              "#ed7953"
             ],
             [
              0.7777777777777778,
              "#fb9f3a"
             ],
             [
              0.8888888888888888,
              "#fdca26"
             ],
             [
              1,
              "#f0f921"
             ]
            ],
            "type": "histogram2d"
           }
          ],
          "histogram2dcontour": [
           {
            "colorbar": {
             "outlinewidth": 0,
             "ticks": ""
            },
            "colorscale": [
             [
              0,
              "#0d0887"
             ],
             [
              0.1111111111111111,
              "#46039f"
             ],
             [
              0.2222222222222222,
              "#7201a8"
             ],
             [
              0.3333333333333333,
              "#9c179e"
             ],
             [
              0.4444444444444444,
              "#bd3786"
             ],
             [
              0.5555555555555556,
              "#d8576b"
             ],
             [
              0.6666666666666666,
              "#ed7953"
             ],
             [
              0.7777777777777778,
              "#fb9f3a"
             ],
             [
              0.8888888888888888,
              "#fdca26"
             ],
             [
              1,
              "#f0f921"
             ]
            ],
            "type": "histogram2dcontour"
           }
          ],
          "mesh3d": [
           {
            "colorbar": {
             "outlinewidth": 0,
             "ticks": ""
            },
            "type": "mesh3d"
           }
          ],
          "parcoords": [
           {
            "line": {
             "colorbar": {
              "outlinewidth": 0,
              "ticks": ""
             }
            },
            "type": "parcoords"
           }
          ],
          "pie": [
           {
            "automargin": true,
            "type": "pie"
           }
          ],
          "scatter": [
           {
            "fillpattern": {
             "fillmode": "overlay",
             "size": 10,
             "solidity": 0.2
            },
            "type": "scatter"
           }
          ],
          "scatter3d": [
           {
            "line": {
             "colorbar": {
              "outlinewidth": 0,
              "ticks": ""
             }
            },
            "marker": {
             "colorbar": {
              "outlinewidth": 0,
              "ticks": ""
             }
            },
            "type": "scatter3d"
           }
          ],
          "scattercarpet": [
           {
            "marker": {
             "colorbar": {
              "outlinewidth": 0,
              "ticks": ""
             }
            },
            "type": "scattercarpet"
           }
          ],
          "scattergeo": [
           {
            "marker": {
             "colorbar": {
              "outlinewidth": 0,
              "ticks": ""
             }
            },
            "type": "scattergeo"
           }
          ],
          "scattergl": [
           {
            "marker": {
             "colorbar": {
              "outlinewidth": 0,
              "ticks": ""
             }
            },
            "type": "scattergl"
           }
          ],
          "scattermap": [
           {
            "marker": {
             "colorbar": {
              "outlinewidth": 0,
              "ticks": ""
             }
            },
            "type": "scattermap"
           }
          ],
          "scattermapbox": [
           {
            "marker": {
             "colorbar": {
              "outlinewidth": 0,
              "ticks": ""
             }
            },
            "type": "scattermapbox"
           }
          ],
          "scatterpolar": [
           {
            "marker": {
             "colorbar": {
              "outlinewidth": 0,
              "ticks": ""
             }
            },
            "type": "scatterpolar"
           }
          ],
          "scatterpolargl": [
           {
            "marker": {
             "colorbar": {
              "outlinewidth": 0,
              "ticks": ""
             }
            },
            "type": "scatterpolargl"
           }
          ],
          "scatterternary": [
           {
            "marker": {
             "colorbar": {
              "outlinewidth": 0,
              "ticks": ""
             }
            },
            "type": "scatterternary"
           }
          ],
          "surface": [
           {
            "colorbar": {
             "outlinewidth": 0,
             "ticks": ""
            },
            "colorscale": [
             [
              0,
              "#0d0887"
             ],
             [
              0.1111111111111111,
              "#46039f"
             ],
             [
              0.2222222222222222,
              "#7201a8"
             ],
             [
              0.3333333333333333,
              "#9c179e"
             ],
             [
              0.4444444444444444,
              "#bd3786"
             ],
             [
              0.5555555555555556,
              "#d8576b"
             ],
             [
              0.6666666666666666,
              "#ed7953"
             ],
             [
              0.7777777777777778,
              "#fb9f3a"
             ],
             [
              0.8888888888888888,
              "#fdca26"
             ],
             [
              1,
              "#f0f921"
             ]
            ],
            "type": "surface"
           }
          ],
          "table": [
           {
            "cells": {
             "fill": {
              "color": "#EBF0F8"
             },
             "line": {
              "color": "white"
             }
            },
            "header": {
             "fill": {
              "color": "#C8D4E3"
             },
             "line": {
              "color": "white"
             }
            },
            "type": "table"
           }
          ]
         },
         "layout": {
          "annotationdefaults": {
           "arrowcolor": "#2a3f5f",
           "arrowhead": 0,
           "arrowwidth": 1
          },
          "autotypenumbers": "strict",
          "coloraxis": {
           "colorbar": {
            "outlinewidth": 0,
            "ticks": ""
           }
          },
          "colorscale": {
           "diverging": [
            [
             0,
             "#8e0152"
            ],
            [
             0.1,
             "#c51b7d"
            ],
            [
             0.2,
             "#de77ae"
            ],
            [
             0.3,
             "#f1b6da"
            ],
            [
             0.4,
             "#fde0ef"
            ],
            [
             0.5,
             "#f7f7f7"
            ],
            [
             0.6,
             "#e6f5d0"
            ],
            [
             0.7,
             "#b8e186"
            ],
            [
             0.8,
             "#7fbc41"
            ],
            [
             0.9,
             "#4d9221"
            ],
            [
             1,
             "#276419"
            ]
           ],
           "sequential": [
            [
             0,
             "#0d0887"
            ],
            [
             0.1111111111111111,
             "#46039f"
            ],
            [
             0.2222222222222222,
             "#7201a8"
            ],
            [
             0.3333333333333333,
             "#9c179e"
            ],
            [
             0.4444444444444444,
             "#bd3786"
            ],
            [
             0.5555555555555556,
             "#d8576b"
            ],
            [
             0.6666666666666666,
             "#ed7953"
            ],
            [
             0.7777777777777778,
             "#fb9f3a"
            ],
            [
             0.8888888888888888,
             "#fdca26"
            ],
            [
             1,
             "#f0f921"
            ]
           ],
           "sequentialminus": [
            [
             0,
             "#0d0887"
            ],
            [
             0.1111111111111111,
             "#46039f"
            ],
            [
             0.2222222222222222,
             "#7201a8"
            ],
            [
             0.3333333333333333,
             "#9c179e"
            ],
            [
             0.4444444444444444,
             "#bd3786"
            ],
            [
             0.5555555555555556,
             "#d8576b"
            ],
            [
             0.6666666666666666,
             "#ed7953"
            ],
            [
             0.7777777777777778,
             "#fb9f3a"
            ],
            [
             0.8888888888888888,
             "#fdca26"
            ],
            [
             1,
             "#f0f921"
            ]
           ]
          },
          "colorway": [
           "#636efa",
           "#EF553B",
           "#00cc96",
           "#ab63fa",
           "#FFA15A",
           "#19d3f3",
           "#FF6692",
           "#B6E880",
           "#FF97FF",
           "#FECB52"
          ],
          "font": {
           "color": "#2a3f5f"
          },
          "geo": {
           "bgcolor": "white",
           "lakecolor": "white",
           "landcolor": "white",
           "showlakes": true,
           "showland": true,
           "subunitcolor": "#C8D4E3"
          },
          "hoverlabel": {
           "align": "left"
          },
          "hovermode": "closest",
          "mapbox": {
           "style": "light"
          },
          "paper_bgcolor": "white",
          "plot_bgcolor": "white",
          "polar": {
           "angularaxis": {
            "gridcolor": "#EBF0F8",
            "linecolor": "#EBF0F8",
            "ticks": ""
           },
           "bgcolor": "white",
           "radialaxis": {
            "gridcolor": "#EBF0F8",
            "linecolor": "#EBF0F8",
            "ticks": ""
           }
          },
          "scene": {
           "xaxis": {
            "backgroundcolor": "white",
            "gridcolor": "#DFE8F3",
            "gridwidth": 2,
            "linecolor": "#EBF0F8",
            "showbackground": true,
            "ticks": "",
            "zerolinecolor": "#EBF0F8"
           },
           "yaxis": {
            "backgroundcolor": "white",
            "gridcolor": "#DFE8F3",
            "gridwidth": 2,
            "linecolor": "#EBF0F8",
            "showbackground": true,
            "ticks": "",
            "zerolinecolor": "#EBF0F8"
           },
           "zaxis": {
            "backgroundcolor": "white",
            "gridcolor": "#DFE8F3",
            "gridwidth": 2,
            "linecolor": "#EBF0F8",
            "showbackground": true,
            "ticks": "",
            "zerolinecolor": "#EBF0F8"
           }
          },
          "shapedefaults": {
           "line": {
            "color": "#2a3f5f"
           }
          },
          "ternary": {
           "aaxis": {
            "gridcolor": "#DFE8F3",
            "linecolor": "#A2B1C6",
            "ticks": ""
           },
           "baxis": {
            "gridcolor": "#DFE8F3",
            "linecolor": "#A2B1C6",
            "ticks": ""
           },
           "bgcolor": "white",
           "caxis": {
            "gridcolor": "#DFE8F3",
            "linecolor": "#A2B1C6",
            "ticks": ""
           }
          },
          "title": {
           "x": 0.05
          },
          "xaxis": {
           "automargin": true,
           "gridcolor": "#EBF0F8",
           "linecolor": "#EBF0F8",
           "ticks": "",
           "title": {
            "standoff": 15
           },
           "zerolinecolor": "#EBF0F8",
           "zerolinewidth": 2
          },
          "yaxis": {
           "automargin": true,
           "gridcolor": "#EBF0F8",
           "linecolor": "#EBF0F8",
           "ticks": "",
           "title": {
            "standoff": 15
           },
           "zerolinecolor": "#EBF0F8",
           "zerolinewidth": 2
          }
         }
        },
        "title": {
         "text": "Scatter Matrix of Key Numeric Features"
        }
       }
      }
     },
     "metadata": {},
     "output_type": "display_data"
    }
   ],
   "source": [
    "# select a subset to keep matrix readable\n",
    "subset = ['Tenure','OrderCount','HourSpendOnApp','CashbackAmount','SatisfactionScore']\n",
    "fig = px.scatter_matrix(\n",
    "    df[subset],\n",
    "    dimensions=subset,\n",
    "    title='Scatter Matrix of Key Numeric Features',\n",
    "    template='plotly_white'\n",
    ")\n",
    "out = project_root / 'plots' / 'eda' / 'scatter_matrix.html'\n",
    "fig.write_html(str(out))\n",
    "fig.show()"
   ]
  },
  {
   "cell_type": "markdown",
   "id": "ee47acfa",
   "metadata": {},
   "source": [
    "## Pairwise Scatter Matrix\n",
    "\n",
    "I generated a scatter matrix for key numeric features — **Tenure, OrderCount, HourSpendOnApp, CashbackAmount, SatisfactionScore** — to quickly scan for patterns, non-linearities, and potential interactions.\n",
    "\n",
    "**What stands out:**\n",
    "- **Tenure × OrderCount:** slight upward trend with discrete “steps” (OrderCount is count data). Longer-tenure customers tend to place more orders, but the linear signal is weak.\n",
    "- **Tenure × CashbackAmount:** tiered clusters suggest campaign/benefit buckets; cashback tends to increase with tenure, yet not smoothly.\n",
    "- **OrderCount × CashbackAmount:** weak positive association (more orders, more cashback), but variability is high across tiers.\n",
    "- **HourSpendOnApp:** scattered across other features without a clear linear relation; likely interacts with churn in non-linear ways.\n",
    "- **SatisfactionScore:** banded at integer values (1–5) with no obvious straight-line relationship to other numerics in raw form.\n",
    "\n",
    "**Why this matters:**\n",
    "- Relationships look **non-linear** and sometimes **piecewise** (tiers), which means tree-based models (Random Forest, XGBoost/LightGBM) should capture structure better than purely linear models.\n",
    "- For correlation, **Spearman** may be more informative than Pearson due to monotonic but non-linear trends and discrete scales."
   ]
  },
  {
   "cell_type": "markdown",
   "id": "9513e6c3",
   "metadata": {},
   "source": []
  },
  {
   "cell_type": "markdown",
   "id": "1f2def5b",
   "metadata": {},
   "source": [
    "# Recency Analysis\n",
    "\n",
    "Since we have `DaySinceLastOrder`, let's see its distribution over churn."
   ]
  },
  {
   "cell_type": "code",
   "execution_count": 16,
   "id": "81057c0e",
   "metadata": {},
   "outputs": [
    {
     "data": {
      "application/vnd.plotly.v1+json": {
       "config": {
        "plotlyServerURL": "https://plot.ly"
       },
       "data": [
        {
         "alignmentgroup": "True",
         "hovertemplate": "Churn=%{x}<br>DaySinceLastOrder=%{y}<extra></extra>",
         "legendgroup": "",
         "marker": {
          "color": "#636efa"
         },
         "name": "",
         "notched": false,
         "offsetgroup": "",
         "orientation": "v",
         "showlegend": false,
         "type": "box",
         "x": {
          "bdata": "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",
          "dtype": "i1"
         },
         "x0": " ",
         "xaxis": "x",
         "y": {
          "bdata": "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",
          "dtype": "f8"
         },
         "y0": " ",
         "yaxis": "y"
        }
       ],
       "layout": {
        "boxmode": "group",
        "legend": {
         "tracegroupgap": 0
        },
        "template": {
         "data": {
          "bar": [
           {
            "error_x": {
             "color": "#2a3f5f"
            },
            "error_y": {
             "color": "#2a3f5f"
            },
            "marker": {
             "line": {
              "color": "white",
              "width": 0.5
             },
             "pattern": {
              "fillmode": "overlay",
              "size": 10,
              "solidity": 0.2
             }
            },
            "type": "bar"
           }
          ],
          "barpolar": [
           {
            "marker": {
             "line": {
              "color": "white",
              "width": 0.5
             },
             "pattern": {
              "fillmode": "overlay",
              "size": 10,
              "solidity": 0.2
             }
            },
            "type": "barpolar"
           }
          ],
          "carpet": [
           {
            "aaxis": {
             "endlinecolor": "#2a3f5f",
             "gridcolor": "#C8D4E3",
             "linecolor": "#C8D4E3",
             "minorgridcolor": "#C8D4E3",
             "startlinecolor": "#2a3f5f"
            },
            "baxis": {
             "endlinecolor": "#2a3f5f",
             "gridcolor": "#C8D4E3",
             "linecolor": "#C8D4E3",
             "minorgridcolor": "#C8D4E3",
             "startlinecolor": "#2a3f5f"
            },
            "type": "carpet"
           }
          ],
          "choropleth": [
           {
            "colorbar": {
             "outlinewidth": 0,
             "ticks": ""
            },
            "type": "choropleth"
           }
          ],
          "contour": [
           {
            "colorbar": {
             "outlinewidth": 0,
             "ticks": ""
            },
            "colorscale": [
             [
              0,
              "#0d0887"
             ],
             [
              0.1111111111111111,
              "#46039f"
             ],
             [
              0.2222222222222222,
              "#7201a8"
             ],
             [
              0.3333333333333333,
              "#9c179e"
             ],
             [
              0.4444444444444444,
              "#bd3786"
             ],
             [
              0.5555555555555556,
              "#d8576b"
             ],
             [
              0.6666666666666666,
              "#ed7953"
             ],
             [
              0.7777777777777778,
              "#fb9f3a"
             ],
             [
              0.8888888888888888,
              "#fdca26"
             ],
             [
              1,
              "#f0f921"
             ]
            ],
            "type": "contour"
           }
          ],
          "contourcarpet": [
           {
            "colorbar": {
             "outlinewidth": 0,
             "ticks": ""
            },
            "type": "contourcarpet"
           }
          ],
          "heatmap": [
           {
            "colorbar": {
             "outlinewidth": 0,
             "ticks": ""
            },
            "colorscale": [
             [
              0,
              "#0d0887"
             ],
             [
              0.1111111111111111,
              "#46039f"
             ],
             [
              0.2222222222222222,
              "#7201a8"
             ],
             [
              0.3333333333333333,
              "#9c179e"
             ],
             [
              0.4444444444444444,
              "#bd3786"
             ],
             [
              0.5555555555555556,
              "#d8576b"
             ],
             [
              0.6666666666666666,
              "#ed7953"
             ],
             [
              0.7777777777777778,
              "#fb9f3a"
             ],
             [
              0.8888888888888888,
              "#fdca26"
             ],
             [
              1,
              "#f0f921"
             ]
            ],
            "type": "heatmap"
           }
          ],
          "histogram": [
           {
            "marker": {
             "pattern": {
              "fillmode": "overlay",
              "size": 10,
              "solidity": 0.2
             }
            },
            "type": "histogram"
           }
          ],
          "histogram2d": [
           {
            "colorbar": {
             "outlinewidth": 0,
             "ticks": ""
            },
            "colorscale": [
             [
              0,
              "#0d0887"
             ],
             [
              0.1111111111111111,
              "#46039f"
             ],
             [
              0.2222222222222222,
              "#7201a8"
             ],
             [
              0.3333333333333333,
              "#9c179e"
             ],
             [
              0.4444444444444444,
              "#bd3786"
             ],
             [
              0.5555555555555556,
              "#d8576b"
             ],
             [
              0.6666666666666666,
              "#ed7953"
             ],
             [
              0.7777777777777778,
              "#fb9f3a"
             ],
             [
              0.8888888888888888,
              "#fdca26"
             ],
             [
              1,
              "#f0f921"
             ]
            ],
            "type": "histogram2d"
           }
          ],
          "histogram2dcontour": [
           {
            "colorbar": {
             "outlinewidth": 0,
             "ticks": ""
            },
            "colorscale": [
             [
              0,
              "#0d0887"
             ],
             [
              0.1111111111111111,
              "#46039f"
             ],
             [
              0.2222222222222222,
              "#7201a8"
             ],
             [
              0.3333333333333333,
              "#9c179e"
             ],
             [
              0.4444444444444444,
              "#bd3786"
             ],
             [
              0.5555555555555556,
              "#d8576b"
             ],
             [
              0.6666666666666666,
              "#ed7953"
             ],
             [
              0.7777777777777778,
              "#fb9f3a"
             ],
             [
              0.8888888888888888,
              "#fdca26"
             ],
             [
              1,
              "#f0f921"
             ]
            ],
            "type": "histogram2dcontour"
           }
          ],
          "mesh3d": [
           {
            "colorbar": {
             "outlinewidth": 0,
             "ticks": ""
            },
            "type": "mesh3d"
           }
          ],
          "parcoords": [
           {
            "line": {
             "colorbar": {
              "outlinewidth": 0,
              "ticks": ""
             }
            },
            "type": "parcoords"
           }
          ],
          "pie": [
           {
            "automargin": true,
            "type": "pie"
           }
          ],
          "scatter": [
           {
            "fillpattern": {
             "fillmode": "overlay",
             "size": 10,
             "solidity": 0.2
            },
            "type": "scatter"
           }
          ],
          "scatter3d": [
           {
            "line": {
             "colorbar": {
              "outlinewidth": 0,
              "ticks": ""
             }
            },
            "marker": {
             "colorbar": {
              "outlinewidth": 0,
              "ticks": ""
             }
            },
            "type": "scatter3d"
           }
          ],
          "scattercarpet": [
           {
            "marker": {
             "colorbar": {
              "outlinewidth": 0,
              "ticks": ""
             }
            },
            "type": "scattercarpet"
           }
          ],
          "scattergeo": [
           {
            "marker": {
             "colorbar": {
              "outlinewidth": 0,
              "ticks": ""
             }
            },
            "type": "scattergeo"
           }
          ],
          "scattergl": [
           {
            "marker": {
             "colorbar": {
              "outlinewidth": 0,
              "ticks": ""
             }
            },
            "type": "scattergl"
           }
          ],
          "scattermap": [
           {
            "marker": {
             "colorbar": {
              "outlinewidth": 0,
              "ticks": ""
             }
            },
            "type": "scattermap"
           }
          ],
          "scattermapbox": [
           {
            "marker": {
             "colorbar": {
              "outlinewidth": 0,
              "ticks": ""
             }
            },
            "type": "scattermapbox"
           }
          ],
          "scatterpolar": [
           {
            "marker": {
             "colorbar": {
              "outlinewidth": 0,
              "ticks": ""
             }
            },
            "type": "scatterpolar"
           }
          ],
          "scatterpolargl": [
           {
            "marker": {
             "colorbar": {
              "outlinewidth": 0,
              "ticks": ""
             }
            },
            "type": "scatterpolargl"
           }
          ],
          "scatterternary": [
           {
            "marker": {
             "colorbar": {
              "outlinewidth": 0,
              "ticks": ""
             }
            },
            "type": "scatterternary"
           }
          ],
          "surface": [
           {
            "colorbar": {
             "outlinewidth": 0,
             "ticks": ""
            },
            "colorscale": [
             [
              0,
              "#0d0887"
             ],
             [
              0.1111111111111111,
              "#46039f"
             ],
             [
              0.2222222222222222,
              "#7201a8"
             ],
             [
              0.3333333333333333,
              "#9c179e"
             ],
             [
              0.4444444444444444,
              "#bd3786"
             ],
             [
              0.5555555555555556,
              "#d8576b"
             ],
             [
              0.6666666666666666,
              "#ed7953"
             ],
             [
              0.7777777777777778,
              "#fb9f3a"
             ],
             [
              0.8888888888888888,
              "#fdca26"
             ],
             [
              1,
              "#f0f921"
             ]
            ],
            "type": "surface"
           }
          ],
          "table": [
           {
            "cells": {
             "fill": {
              "color": "#EBF0F8"
             },
             "line": {
              "color": "white"
             }
            },
            "header": {
             "fill": {
              "color": "#C8D4E3"
             },
             "line": {
              "color": "white"
             }
            },
            "type": "table"
           }
          ]
         },
         "layout": {
          "annotationdefaults": {
           "arrowcolor": "#2a3f5f",
           "arrowhead": 0,
           "arrowwidth": 1
          },
          "autotypenumbers": "strict",
          "coloraxis": {
           "colorbar": {
            "outlinewidth": 0,
            "ticks": ""
           }
          },
          "colorscale": {
           "diverging": [
            [
             0,
             "#8e0152"
            ],
            [
             0.1,
             "#c51b7d"
            ],
            [
             0.2,
             "#de77ae"
            ],
            [
             0.3,
             "#f1b6da"
            ],
            [
             0.4,
             "#fde0ef"
            ],
            [
             0.5,
             "#f7f7f7"
            ],
            [
             0.6,
             "#e6f5d0"
            ],
            [
             0.7,
             "#b8e186"
            ],
            [
             0.8,
             "#7fbc41"
            ],
            [
             0.9,
             "#4d9221"
            ],
            [
             1,
             "#276419"
            ]
           ],
           "sequential": [
            [
             0,
             "#0d0887"
            ],
            [
             0.1111111111111111,
             "#46039f"
            ],
            [
             0.2222222222222222,
             "#7201a8"
            ],
            [
             0.3333333333333333,
             "#9c179e"
            ],
            [
             0.4444444444444444,
             "#bd3786"
            ],
            [
             0.5555555555555556,
             "#d8576b"
            ],
            [
             0.6666666666666666,
             "#ed7953"
            ],
            [
             0.7777777777777778,
             "#fb9f3a"
            ],
            [
             0.8888888888888888,
             "#fdca26"
            ],
            [
             1,
             "#f0f921"
            ]
           ],
           "sequentialminus": [
            [
             0,
             "#0d0887"
            ],
            [
             0.1111111111111111,
             "#46039f"
            ],
            [
             0.2222222222222222,
             "#7201a8"
            ],
            [
             0.3333333333333333,
             "#9c179e"
            ],
            [
             0.4444444444444444,
             "#bd3786"
            ],
            [
             0.5555555555555556,
             "#d8576b"
            ],
            [
             0.6666666666666666,
             "#ed7953"
            ],
            [
             0.7777777777777778,
             "#fb9f3a"
            ],
            [
             0.8888888888888888,
             "#fdca26"
            ],
            [
             1,
             "#f0f921"
            ]
           ]
          },
          "colorway": [
           "#636efa",
           "#EF553B",
           "#00cc96",
           "#ab63fa",
           "#FFA15A",
           "#19d3f3",
           "#FF6692",
           "#B6E880",
           "#FF97FF",
           "#FECB52"
          ],
          "font": {
           "color": "#2a3f5f"
          },
          "geo": {
           "bgcolor": "white",
           "lakecolor": "white",
           "landcolor": "white",
           "showlakes": true,
           "showland": true,
           "subunitcolor": "#C8D4E3"
          },
          "hoverlabel": {
           "align": "left"
          },
          "hovermode": "closest",
          "mapbox": {
           "style": "light"
          },
          "paper_bgcolor": "white",
          "plot_bgcolor": "white",
          "polar": {
           "angularaxis": {
            "gridcolor": "#EBF0F8",
            "linecolor": "#EBF0F8",
            "ticks": ""
           },
           "bgcolor": "white",
           "radialaxis": {
            "gridcolor": "#EBF0F8",
            "linecolor": "#EBF0F8",
            "ticks": ""
           }
          },
          "scene": {
           "xaxis": {
            "backgroundcolor": "white",
            "gridcolor": "#DFE8F3",
            "gridwidth": 2,
            "linecolor": "#EBF0F8",
            "showbackground": true,
            "ticks": "",
            "zerolinecolor": "#EBF0F8"
           },
           "yaxis": {
            "backgroundcolor": "white",
            "gridcolor": "#DFE8F3",
            "gridwidth": 2,
            "linecolor": "#EBF0F8",
            "showbackground": true,
            "ticks": "",
            "zerolinecolor": "#EBF0F8"
           },
           "zaxis": {
            "backgroundcolor": "white",
            "gridcolor": "#DFE8F3",
            "gridwidth": 2,
            "linecolor": "#EBF0F8",
            "showbackground": true,
            "ticks": "",
            "zerolinecolor": "#EBF0F8"
           }
          },
          "shapedefaults": {
           "line": {
            "color": "#2a3f5f"
           }
          },
          "ternary": {
           "aaxis": {
            "gridcolor": "#DFE8F3",
            "linecolor": "#A2B1C6",
            "ticks": ""
           },
           "baxis": {
            "gridcolor": "#DFE8F3",
            "linecolor": "#A2B1C6",
            "ticks": ""
           },
           "bgcolor": "white",
           "caxis": {
            "gridcolor": "#DFE8F3",
            "linecolor": "#A2B1C6",
            "ticks": ""
           }
          },
          "title": {
           "x": 0.05
          },
          "xaxis": {
           "automargin": true,
           "gridcolor": "#EBF0F8",
           "linecolor": "#EBF0F8",
           "ticks": "",
           "title": {
            "standoff": 15
           },
           "zerolinecolor": "#EBF0F8",
           "zerolinewidth": 2
          },
          "yaxis": {
           "automargin": true,
           "gridcolor": "#EBF0F8",
           "linecolor": "#EBF0F8",
           "ticks": "",
           "title": {
            "standoff": 15
           },
           "zerolinecolor": "#EBF0F8",
           "zerolinewidth": 2
          }
         }
        },
        "title": {
         "text": "Recency (Days Since Last Order) by Churn"
        },
        "xaxis": {
         "anchor": "y",
         "domain": [
          0,
          1
         ],
         "title": {
          "text": "Churn"
         }
        },
        "yaxis": {
         "anchor": "x",
         "domain": [
          0,
          1
         ],
         "title": {
          "text": "DaySinceLastOrder"
         }
        }
       }
      }
     },
     "metadata": {},
     "output_type": "display_data"
    }
   ],
   "source": [
    "fig = px.box(\n",
    "    df,\n",
    "    x='Churn',\n",
    "    y='DaySinceLastOrder',\n",
    "    title='Recency (Days Since Last Order) by Churn',\n",
    "    template='plotly_white'\n",
    ")\n",
    "out = project_root / 'plots' / 'eda' / 'recency_churn.html'\n",
    "fig.write_html(str(out))\n",
    "fig.show()"
   ]
  },
  {
   "cell_type": "markdown",
   "id": "7383651c",
   "metadata": {},
   "source": []
  },
  {
   "cell_type": "markdown",
   "id": "d13b13a5",
   "metadata": {},
   "source": []
  },
  {
   "cell_type": "markdown",
   "id": "4b203993",
   "metadata": {},
   "source": []
  }
 ],
 "metadata": {
  "kernelspec": {
   "display_name": "churn_env",
   "language": "python",
   "name": "python3"
  },
  "language_info": {
   "codemirror_mode": {
    "name": "ipython",
    "version": 3
   },
   "file_extension": ".py",
   "mimetype": "text/x-python",
   "name": "python",
   "nbconvert_exporter": "python",
   "pygments_lexer": "ipython3",
   "version": "3.10.18"
  }
 },
 "nbformat": 4,
 "nbformat_minor": 5
}
